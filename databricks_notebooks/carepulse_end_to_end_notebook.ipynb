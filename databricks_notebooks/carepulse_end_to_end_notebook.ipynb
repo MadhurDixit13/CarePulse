{
 "cells": [
  {
   "cell_type": "code",
   "execution_count": 0,
   "metadata": {
    "application/vnd.databricks.v1+cell": {
     "cellMetadata": {
      "byteLimit": 2048000,
      "rowLimit": 10000
     },
     "inputWidgets": {},
     "nuid": "a046fca1-db45-4396-9885-9568427ae92a",
     "showTitle": false,
     "tableResultSettingsMap": {},
     "title": ""
    }
   },
   "outputs": [
    {
     "output_type": "stream",
     "name": "stdout",
     "output_type": "stream",
     "text": [
      "Out[15]: ['conf',\n 'preload_class.lst',\n 'azure',\n 'hadoop_accessed_config.lst',\n 'ganglia',\n 'logs',\n 'eventlogs',\n 'metastore_db',\n 'kinesis_data',\n 'kinesis_data.zip',\n '.kinesis_data.zip.crc']"
     ]
    }
   ],
   "source": [
    "import os\n",
    "dbutils.fs.cp(\"dbfs:/FileStore/shared_uploads/mvdixit@ncsu.edu/kinesis_data-2.zip\", \"file:/databricks/driver/kinesis_data.zip\")\n",
    "\n",
    "os.listdir(\"/databricks/driver/\")\n",
    "\n"
   ]
  },
  {
   "cell_type": "code",
   "execution_count": 0,
   "metadata": {
    "application/vnd.databricks.v1+cell": {
     "cellMetadata": {
      "byteLimit": 2048000,
      "rowLimit": 10000
     },
     "inputWidgets": {},
     "nuid": "bb8bb2b6-aef6-4a67-adf3-e79607415e42",
     "showTitle": false,
     "tableResultSettingsMap": {},
     "title": ""
    }
   },
   "outputs": [],
   "source": [
    "# import zipfile\n",
    "\n",
    "# with zipfile.ZipFile(\"/databricks/driver/kinesis_data.zip\", \"r\") as zip_ref:\n",
    "#     zip_ref.extractall(\"/databricks/driver/kinesis_data\")"
   ]
  },
  {
   "cell_type": "code",
   "execution_count": 0,
   "metadata": {
    "application/vnd.databricks.v1+cell": {
     "cellMetadata": {
      "byteLimit": 2048000,
      "rowLimit": 10000
     },
     "inputWidgets": {},
     "nuid": "5da38304-ff1d-450f-bc27-2ca17bd7fbf7",
     "showTitle": false,
     "tableResultSettingsMap": {},
     "title": ""
    }
   },
   "outputs": [],
   "source": [
    "# dbutils.fs.cp(\"file:/databricks/driver/kinesis_data\", \"dbfs:/mnt/bronze/vitals/\", recurse=True)"
   ]
  },
  {
   "cell_type": "code",
   "execution_count": 0,
   "metadata": {
    "application/vnd.databricks.v1+cell": {
     "cellMetadata": {
      "byteLimit": 2048000,
      "rowLimit": 10000
     },
     "inputWidgets": {},
     "nuid": "8e88a5df-16b6-4bec-9076-b1748a4441bb",
     "showTitle": false,
     "tableResultSettingsMap": {},
     "title": ""
    }
   },
   "outputs": [
    {
     "output_type": "display_data",
     "data": {
      "text/html": [
       "<style scoped>\n",
       "  .table-result-container {\n",
       "    max-height: 300px;\n",
       "    overflow: auto;\n",
       "  }\n",
       "  table, th, td {\n",
       "    border: 1px solid black;\n",
       "    border-collapse: collapse;\n",
       "  }\n",
       "  th, td {\n",
       "    padding: 5px;\n",
       "  }\n",
       "  th {\n",
       "    text-align: left;\n",
       "  }\n",
       "</style><div class='table-result-container'><table class='table-result'><thead style='background-color: white'><tr><th>patient_id</th><th>timestamp</th><th>heart_rate</th><th>blood_pressure</th><th>oxygen_saturation</th></tr></thead><tbody><tr><td>96</td><td>2024-03-11T15:58:39</td><td>118</td><td>98/85</td><td>91</td></tr><tr><td>72</td><td>2003-10-10T17:15:28</td><td>109</td><td>127/71</td><td>94</td></tr><tr><td>78</td><td>2001-10-27T13:48:13</td><td>94</td><td>110/90</td><td>90</td></tr><tr><td>77</td><td>1993-06-06T14:04:50</td><td>90</td><td>104/79</td><td>93</td></tr><tr><td>88</td><td>1970-12-04T00:10:01</td><td>61</td><td>120/71</td><td>90</td></tr><tr><td>21</td><td>2012-11-14T11:37:19</td><td>79</td><td>111/90</td><td>97</td></tr><tr><td>63</td><td>1970-04-21T20:57:43</td><td>60</td><td>94/68</td><td>91</td></tr><tr><td>36</td><td>2023-02-27T16:39:35</td><td>102</td><td>131/72</td><td>94</td></tr><tr><td>85</td><td>1995-09-03T03:36:24</td><td>105</td><td>130/62</td><td>91</td></tr><tr><td>35</td><td>1976-07-20T02:01:41</td><td>111</td><td>90/67</td><td>96</td></tr><tr><td>6</td><td>1979-12-24T00:31:37</td><td>80</td><td>97/84</td><td>92</td></tr><tr><td>27</td><td>2023-10-03T14:25:54</td><td>116</td><td>92/70</td><td>97</td></tr><tr><td>24</td><td>2016-11-27T04:01:51</td><td>113</td><td>113/66</td><td>97</td></tr><tr><td>88</td><td>1993-11-14T17:50:26</td><td>74</td><td>92/75</td><td>96</td></tr><tr><td>43</td><td>2013-06-16T16:51:17</td><td>88</td><td>127/68</td><td>91</td></tr><tr><td>43</td><td>1976-04-30T14:41:07</td><td>116</td><td>99/74</td><td>90</td></tr><tr><td>96</td><td>2016-02-29T20:50:22</td><td>85</td><td>93/89</td><td>99</td></tr><tr><td>6</td><td>1981-02-02T18:38:18</td><td>97</td><td>138/81</td><td>93</td></tr><tr><td>72</td><td>1998-07-30T18:47:18</td><td>103</td><td>112/89</td><td>97</td></tr><tr><td>6</td><td>2013-05-15T22:11:49</td><td>82</td><td>130/83</td><td>91</td></tr><tr><td>69</td><td>1979-07-21T19:04:16</td><td>104</td><td>93/75</td><td>90</td></tr><tr><td>27</td><td>1985-06-06T23:18:30</td><td>114</td><td>134/79</td><td>98</td></tr><tr><td>72</td><td>2006-12-13T03:02:59</td><td>73</td><td>104/64</td><td>92</td></tr><tr><td>77</td><td>2013-03-16T18:34:09</td><td>101</td><td>125/81</td><td>97</td></tr><tr><td>59</td><td>2013-08-14T18:19:35</td><td>82</td><td>107/84</td><td>92</td></tr><tr><td>51</td><td>1971-10-12T10:05:39</td><td>68</td><td>119/86</td><td>97</td></tr><tr><td>69</td><td>1981-09-16T22:58:49</td><td>96</td><td>93/85</td><td>98</td></tr><tr><td>72</td><td>1976-05-30T10:37:31</td><td>90</td><td>125/85</td><td>94</td></tr><tr><td>35</td><td>2017-02-27T13:10:22</td><td>93</td><td>104/75</td><td>98</td></tr><tr><td>21</td><td>2012-12-02T16:08:55</td><td>99</td><td>128/73</td><td>95</td></tr><tr><td>41</td><td>2013-12-03T12:44:35</td><td>107</td><td>124/79</td><td>100</td></tr><tr><td>43</td><td>2004-04-16T01:52:24</td><td>110</td><td>134/74</td><td>98</td></tr><tr><td>35</td><td>2023-04-17T09:17:52</td><td>101</td><td>92/73</td><td>90</td></tr><tr><td>60</td><td>1991-07-02T04:00:02</td><td>117</td><td>91/70</td><td>99</td></tr><tr><td>27</td><td>2017-07-27T09:00:40</td><td>101</td><td>128/78</td><td>95</td></tr><tr><td>19</td><td>2014-12-25T15:55:42</td><td>61</td><td>91/60</td><td>97</td></tr><tr><td>19</td><td>1984-11-11T13:30:46</td><td>99</td><td>118/68</td><td>92</td></tr><tr><td>59</td><td>2000-06-07T15:57:06</td><td>93</td><td>112/61</td><td>97</td></tr><tr><td>63</td><td>2001-03-06T01:40:24</td><td>120</td><td>133/73</td><td>99</td></tr><tr><td>77</td><td>1982-03-18T15:34:41</td><td>64</td><td>135/72</td><td>99</td></tr><tr><td>6</td><td>1996-03-16T16:44:47</td><td>112</td><td>131/72</td><td>90</td></tr><tr><td>72</td><td>2001-03-15T11:42:33</td><td>65</td><td>138/68</td><td>93</td></tr><tr><td>96</td><td>2010-01-15T23:59:34</td><td>63</td><td>120/72</td><td>92</td></tr><tr><td>23</td><td>1979-07-25T17:27:08</td><td>91</td><td>109/80</td><td>99</td></tr><tr><td>72</td><td>2020-01-18T11:23:52</td><td>102</td><td>105/89</td><td>98</td></tr><tr><td>41</td><td>1985-03-20T01:14:14</td><td>75</td><td>111/64</td><td>100</td></tr><tr><td>88</td><td>1993-05-07T13:39:09</td><td>111</td><td>111/61</td><td>90</td></tr><tr><td>21</td><td>2024-02-19T19:09:23</td><td>92</td><td>107/81</td><td>93</td></tr><tr><td>6</td><td>1975-12-09T21:11:34</td><td>64</td><td>100/70</td><td>99</td></tr><tr><td>66</td><td>2021-12-25T03:18:49</td><td>95</td><td>107/88</td><td>90</td></tr><tr><td>77</td><td>2011-10-27T17:23:23</td><td>62</td><td>124/86</td><td>97</td></tr><tr><td>63</td><td>1976-06-21T02:07:44</td><td>95</td><td>98/78</td><td>99</td></tr><tr><td>69</td><td>1994-03-31T15:45:11</td><td>103</td><td>94/88</td><td>98</td></tr><tr><td>36</td><td>1977-01-11T00:13:02</td><td>78</td><td>138/72</td><td>95</td></tr><tr><td>51</td><td>2007-07-15T15:54:20</td><td>91</td><td>91/60</td><td>97</td></tr><tr><td>60</td><td>2003-05-26T22:29:51</td><td>88</td><td>98/62</td><td>96</td></tr><tr><td>60</td><td>1977-09-10T11:40:14</td><td>100</td><td>104/67</td><td>90</td></tr><tr><td>27</td><td>2000-09-06T18:15:23</td><td>64</td><td>117/81</td><td>96</td></tr><tr><td>19</td><td>2011-05-16T21:54:48</td><td>85</td><td>140/90</td><td>99</td></tr><tr><td>36</td><td>1999-02-23T16:43:52</td><td>67</td><td>132/83</td><td>95</td></tr><tr><td>35</td><td>1988-10-05T02:13:45</td><td>81</td><td>96/80</td><td>100</td></tr><tr><td>72</td><td>2024-01-01T18:02:28</td><td>99</td><td>120/87</td><td>90</td></tr><tr><td>33</td><td>1999-09-18T23:07:03</td><td>115</td><td>120/84</td><td>100</td></tr><tr><td>21</td><td>2014-01-19T03:49:04</td><td>97</td><td>96/61</td><td>92</td></tr><tr><td>66</td><td>2003-01-26T04:28:09</td><td>60</td><td>115/68</td><td>96</td></tr><tr><td>77</td><td>1975-05-04T05:31:57</td><td>111</td><td>93/69</td><td>91</td></tr><tr><td>30</td><td>1989-11-18T16:23:01</td><td>92</td><td>115/64</td><td>94</td></tr><tr><td>72</td><td>1982-07-21T00:50:30</td><td>95</td><td>116/71</td><td>91</td></tr><tr><td>33</td><td>1997-09-26T17:51:24</td><td>90</td><td>134/79</td><td>96</td></tr><tr><td>78</td><td>1986-01-08T12:42:29</td><td>79</td><td>116/77</td><td>90</td></tr><tr><td>77</td><td>1970-01-26T15:45:00</td><td>118</td><td>118/62</td><td>92</td></tr><tr><td>28</td><td>1972-03-25T07:54:53</td><td>68</td><td>100/90</td><td>95</td></tr><tr><td>21</td><td>2025-05-16T19:56:28</td><td>96</td><td>130/65</td><td>96</td></tr><tr><td>35</td><td>1996-01-28T21:15:26</td><td>85</td><td>121/69</td><td>91</td></tr><tr><td>88</td><td>2017-10-06T05:50:55</td><td>78</td><td>137/87</td><td>98</td></tr><tr><td>28</td><td>1998-07-14T17:32:39</td><td>85</td><td>114/87</td><td>96</td></tr><tr><td>21</td><td>1993-10-17T04:52:32</td><td>88</td><td>122/75</td><td>98</td></tr><tr><td>21</td><td>1980-11-04T09:54:33</td><td>112</td><td>115/87</td><td>96</td></tr><tr><td>28</td><td>1986-05-02T16:16:39</td><td>60</td><td>109/66</td><td>97</td></tr><tr><td>43</td><td>2001-09-15T08:04:41</td><td>102</td><td>140/64</td><td>100</td></tr><tr><td>21</td><td>1994-08-07T03:53:15</td><td>62</td><td>116/88</td><td>100</td></tr><tr><td>23</td><td>1976-10-14T03:11:15</td><td>67</td><td>126/76</td><td>93</td></tr><tr><td>41</td><td>2008-07-11T23:26:29</td><td>64</td><td>116/79</td><td>99</td></tr><tr><td>69</td><td>1984-12-05T08:10:54</td><td>80</td><td>92/87</td><td>96</td></tr><tr><td>41</td><td>1985-12-15T06:59:18</td><td>104</td><td>119/85</td><td>95</td></tr><tr><td>59</td><td>1991-09-30T08:18:53</td><td>93</td><td>97/74</td><td>95</td></tr><tr><td>6</td><td>2006-11-18T01:46:37</td><td>63</td><td>91/63</td><td>90</td></tr><tr><td>21</td><td>2025-04-05T13:51:59</td><td>102</td><td>94/64</td><td>90</td></tr><tr><td>96</td><td>1975-10-15T05:50:12</td><td>100</td><td>101/85</td><td>95</td></tr><tr><td>63</td><td>2012-09-26T01:34:31</td><td>107</td><td>106/65</td><td>98</td></tr><tr><td>28</td><td>1994-12-11T05:46:14</td><td>97</td><td>139/61</td><td>90</td></tr><tr><td>51</td><td>1973-06-29T22:12:55</td><td>108</td><td>110/81</td><td>92</td></tr><tr><td>41</td><td>2021-03-04T14:44:10</td><td>84</td><td>102/85</td><td>90</td></tr><tr><td>85</td><td>1995-01-24T01:47:40</td><td>61</td><td>121/60</td><td>95</td></tr><tr><td>72</td><td>1984-01-20T10:02:36</td><td>93</td><td>102/77</td><td>98</td></tr><tr><td>78</td><td>1973-07-16T13:50:25</td><td>90</td><td>137/71</td><td>92</td></tr><tr><td>72</td><td>1972-01-19T11:29:31</td><td>69</td><td>98/60</td><td>92</td></tr><tr><td>96</td><td>2009-09-18T08:18:38</td><td>95</td><td>94/90</td><td>93</td></tr><tr><td>41</td><td>1994-08-07T10:05:39</td><td>111</td><td>93/84</td><td>92</td></tr><tr><td>33</td><td>1974-02-04T16:20:43</td><td>62</td><td>137/80</td><td>97</td></tr><tr><td>19</td><td>1987-04-26T04:09:32</td><td>62</td><td>123/75</td><td>99</td></tr><tr><td>51</td><td>1998-05-11T04:34:27</td><td>117</td><td>130/74</td><td>94</td></tr><tr><td>72</td><td>1977-05-25T06:46:55</td><td>77</td><td>109/74</td><td>98</td></tr><tr><td>60</td><td>2020-12-08T06:58:48</td><td>115</td><td>123/67</td><td>96</td></tr><tr><td>28</td><td>1994-01-25T16:43:54</td><td>60</td><td>133/80</td><td>92</td></tr><tr><td>27</td><td>2010-10-08T21:38:07</td><td>75</td><td>115/82</td><td>95</td></tr><tr><td>19</td><td>2018-03-11T19:05:02</td><td>95</td><td>106/69</td><td>98</td></tr><tr><td>30</td><td>2001-09-23T01:34:14</td><td>83</td><td>119/65</td><td>99</td></tr><tr><td>77</td><td>1991-01-16T12:11:40</td><td>98</td><td>107/89</td><td>94</td></tr><tr><td>51</td><td>2007-09-14T10:07:09</td><td>104</td><td>100/64</td><td>96</td></tr><tr><td>28</td><td>2000-05-28T01:54:07</td><td>81</td><td>114/70</td><td>100</td></tr><tr><td>28</td><td>1974-08-23T08:07:29</td><td>107</td><td>109/65</td><td>93</td></tr><tr><td>43</td><td>1989-04-15T13:54:07</td><td>99</td><td>110/67</td><td>90</td></tr><tr><td>85</td><td>2013-04-26T09:22:49</td><td>87</td><td>95/61</td><td>96</td></tr><tr><td>69</td><td>1988-09-10T19:00:09</td><td>99</td><td>120/85</td><td>94</td></tr><tr><td>60</td><td>1981-05-09T10:17:55</td><td>72</td><td>109/86</td><td>93</td></tr><tr><td>85</td><td>1988-01-09T18:46:14</td><td>103</td><td>116/76</td><td>96</td></tr><tr><td>60</td><td>2014-01-16T04:52:53</td><td>111</td><td>125/85</td><td>99</td></tr><tr><td>66</td><td>1981-03-05T07:46:15</td><td>83</td><td>118/88</td><td>91</td></tr><tr><td>19</td><td>1982-10-06T23:14:17</td><td>99</td><td>140/71</td><td>99</td></tr><tr><td>59</td><td>1996-09-05T03:48:11</td><td>75</td><td>105/66</td><td>90</td></tr><tr><td>6</td><td>2023-04-02T03:06:37</td><td>78</td><td>116/77</td><td>96</td></tr><tr><td>33</td><td>1985-11-13T13:41:22</td><td>117</td><td>108/78</td><td>97</td></tr><tr><td>72</td><td>1990-08-16T11:24:53</td><td>96</td><td>98/77</td><td>100</td></tr><tr><td>43</td><td>1981-03-29T07:57:44</td><td>71</td><td>120/65</td><td>94</td></tr><tr><td>63</td><td>1974-01-08T01:54:27</td><td>92</td><td>120/77</td><td>96</td></tr><tr><td>6</td><td>1975-09-06T13:33:21</td><td>106</td><td>128/75</td><td>93</td></tr><tr><td>63</td><td>2007-06-19T02:42:43</td><td>74</td><td>127/86</td><td>98</td></tr><tr><td>19</td><td>1991-07-14T12:55:51</td><td>75</td><td>97/85</td><td>99</td></tr><tr><td>69</td><td>1999-07-07T20:54:13</td><td>67</td><td>119/62</td><td>99</td></tr><tr><td>77</td><td>2025-04-08T16:03:32</td><td>107</td><td>101/62</td><td>100</td></tr><tr><td>51</td><td>2011-10-25T08:36:24</td><td>91</td><td>116/68</td><td>99</td></tr><tr><td>88</td><td>1979-03-29T23:57:33</td><td>120</td><td>127/75</td><td>97</td></tr><tr><td>77</td><td>2025-04-01T23:14:26</td><td>78</td><td>133/70</td><td>90</td></tr><tr><td>35</td><td>1974-03-10T12:30:14</td><td>78</td><td>130/83</td><td>94</td></tr><tr><td>23</td><td>1984-07-08T01:20:02</td><td>88</td><td>109/67</td><td>99</td></tr><tr><td>51</td><td>1979-07-24T23:08:57</td><td>78</td><td>125/87</td><td>93</td></tr><tr><td>96</td><td>2025-03-15T11:17:31</td><td>105</td><td>103/83</td><td>92</td></tr><tr><td>6</td><td>2024-01-03T08:06:29</td><td>104</td><td>91/73</td><td>98</td></tr><tr><td>63</td><td>2021-05-02T16:12:01</td><td>67</td><td>128/78</td><td>96</td></tr><tr><td>24</td><td>1977-06-08T13:40:44</td><td>63</td><td>98/61</td><td>91</td></tr><tr><td>23</td><td>1978-03-15T09:31:01</td><td>66</td><td>129/64</td><td>94</td></tr><tr><td>35</td><td>2011-11-25T11:47:55</td><td>67</td><td>116/73</td><td>100</td></tr><tr><td>41</td><td>2000-11-22T06:59:37</td><td>80</td><td>132/60</td><td>91</td></tr><tr><td>21</td><td>1998-06-11T21:59:23</td><td>98</td><td>133/78</td><td>94</td></tr><tr><td>43</td><td>1974-11-14T09:19:16</td><td>118</td><td>122/86</td><td>99</td></tr><tr><td>41</td><td>2014-08-17T09:32:55</td><td>73</td><td>114/63</td><td>94</td></tr><tr><td>59</td><td>1976-02-28T02:49:59</td><td>106</td><td>93/79</td><td>95</td></tr><tr><td>66</td><td>2004-12-04T22:39:13</td><td>101</td><td>122/81</td><td>97</td></tr><tr><td>23</td><td>2021-12-26T20:46:43</td><td>84</td><td>100/71</td><td>97</td></tr><tr><td>63</td><td>1973-05-29T05:47:40</td><td>63</td><td>97/85</td><td>92</td></tr><tr><td>78</td><td>1992-07-23T08:18:46</td><td>64</td><td>120/61</td><td>90</td></tr><tr><td>59</td><td>1986-01-09T20:32:05</td><td>91</td><td>130/83</td><td>90</td></tr><tr><td>19</td><td>2002-04-30T20:12:49</td><td>79</td><td>112/90</td><td>98</td></tr><tr><td>88</td><td>2002-12-30T14:54:31</td><td>67</td><td>128/60</td><td>98</td></tr><tr><td>66</td><td>2020-01-25T17:36:28</td><td>98</td><td>122/82</td><td>100</td></tr><tr><td>77</td><td>2021-02-23T10:42:49</td><td>75</td><td>116/77</td><td>90</td></tr><tr><td>59</td><td>1994-02-01T14:22:25</td><td>70</td><td>107/78</td><td>99</td></tr><tr><td>33</td><td>2005-02-20T22:43:33</td><td>109</td><td>125/85</td><td>92</td></tr><tr><td>78</td><td>1987-06-05T11:07:54</td><td>109</td><td>125/69</td><td>95</td></tr><tr><td>85</td><td>1999-03-30T23:36:23</td><td>88</td><td>113/65</td><td>98</td></tr><tr><td>33</td><td>2002-04-12T23:39:23</td><td>80</td><td>101/61</td><td>95</td></tr><tr><td>23</td><td>2019-03-02T12:30:12</td><td>105</td><td>114/65</td><td>94</td></tr><tr><td>78</td><td>1991-01-25T20:57:18</td><td>105</td><td>108/64</td><td>91</td></tr><tr><td>21</td><td>1996-07-04T21:32:35</td><td>69</td><td>120/62</td><td>90</td></tr><tr><td>77</td><td>2004-02-13T12:06:32</td><td>65</td><td>130/68</td><td>100</td></tr><tr><td>6</td><td>1978-03-01T11:13:58</td><td>97</td><td>125/86</td><td>98</td></tr><tr><td>88</td><td>2020-04-06T09:17:25</td><td>73</td><td>129/72</td><td>94</td></tr><tr><td>88</td><td>2013-06-04T20:21:41</td><td>99</td><td>92/77</td><td>98</td></tr><tr><td>21</td><td>2020-02-19T18:49:38</td><td>105</td><td>123/69</td><td>96</td></tr><tr><td>59</td><td>1996-06-20T03:10:51</td><td>110</td><td>107/72</td><td>95</td></tr><tr><td>28</td><td>1973-11-12T03:06:36</td><td>97</td><td>97/78</td><td>95</td></tr><tr><td>59</td><td>1975-07-04T14:54:23</td><td>91</td><td>113/68</td><td>94</td></tr><tr><td>60</td><td>2010-05-12T23:02:10</td><td>108</td><td>135/65</td><td>100</td></tr><tr><td>24</td><td>1980-03-30T08:04:27</td><td>108</td><td>105/77</td><td>90</td></tr><tr><td>28</td><td>2003-04-22T14:49:50</td><td>82</td><td>92/81</td><td>91</td></tr><tr><td>60</td><td>2004-02-16T22:46:45</td><td>95</td><td>137/72</td><td>100</td></tr><tr><td>6</td><td>2012-07-25T22:42:41</td><td>98</td><td>122/72</td><td>92</td></tr><tr><td>43</td><td>1985-01-31T15:56:17</td><td>115</td><td>129/86</td><td>100</td></tr><tr><td>72</td><td>2016-01-12T05:07:53</td><td>81</td><td>139/70</td><td>94</td></tr><tr><td>23</td><td>2019-05-26T06:35:31</td><td>68</td><td>138/80</td><td>94</td></tr><tr><td>28</td><td>1981-08-23T02:12:06</td><td>119</td><td>121/81</td><td>93</td></tr><tr><td>88</td><td>1975-05-31T06:25:01</td><td>99</td><td>102/68</td><td>91</td></tr><tr><td>78</td><td>1981-06-20T08:16:16</td><td>92</td><td>101/90</td><td>94</td></tr><tr><td>30</td><td>1992-05-26T02:11:25</td><td>76</td><td>140/70</td><td>92</td></tr><tr><td>19</td><td>2004-10-30T21:38:56</td><td>101</td><td>120/72</td><td>99</td></tr><tr><td>66</td><td>1999-12-01T07:58:22</td><td>77</td><td>103/84</td><td>94</td></tr><tr><td>28</td><td>1972-03-16T01:21:22</td><td>117</td><td>93/64</td><td>94</td></tr><tr><td>35</td><td>1977-09-27T11:44:31</td><td>112</td><td>139/69</td><td>99</td></tr><tr><td>6</td><td>1998-06-27T13:27:37</td><td>76</td><td>91/89</td><td>97</td></tr><tr><td>66</td><td>1980-10-31T14:14:55</td><td>74</td><td>120/75</td><td>98</td></tr><tr><td>66</td><td>1991-11-28T19:46:09</td><td>103</td><td>140/62</td><td>94</td></tr><tr><td>60</td><td>2017-02-05T00:37:07</td><td>102</td><td>96/80</td><td>92</td></tr><tr><td>19</td><td>2015-07-15T02:41:36</td><td>106</td><td>91/77</td><td>94</td></tr><tr><td>96</td><td>1983-01-22T09:30:49</td><td>106</td><td>111/75</td><td>97</td></tr><tr><td>23</td><td>2010-12-21T12:15:45</td><td>102</td><td>105/87</td><td>100</td></tr><tr><td>63</td><td>1990-08-04T15:00:23</td><td>84</td><td>131/77</td><td>94</td></tr><tr><td>85</td><td>1977-07-03T20:23:24</td><td>70</td><td>117/83</td><td>90</td></tr><tr><td>69</td><td>1978-01-17T15:33:24</td><td>72</td><td>99/87</td><td>91</td></tr><tr><td>33</td><td>1993-02-07T08:13:15</td><td>103</td><td>135/77</td><td>91</td></tr><tr><td>69</td><td>1990-05-27T04:57:35</td><td>80</td><td>91/84</td><td>90</td></tr><tr><td>19</td><td>1993-10-31T19:05:31</td><td>101</td><td>138/84</td><td>93</td></tr><tr><td>41</td><td>2024-10-08T16:39:18</td><td>61</td><td>134/67</td><td>99</td></tr><tr><td>21</td><td>2024-04-19T09:53:06</td><td>104</td><td>100/74</td><td>100</td></tr><tr><td>96</td><td>1979-12-01T05:58:39</td><td>77</td><td>91/90</td><td>92</td></tr><tr><td>27</td><td>1996-11-22T19:18:38</td><td>75</td><td>125/86</td><td>98</td></tr><tr><td>96</td><td>2003-09-30T03:48:19</td><td>77</td><td>115/70</td><td>95</td></tr><tr><td>69</td><td>1989-10-31T07:49:21</td><td>62</td><td>108/85</td><td>99</td></tr><tr><td>77</td><td>1978-08-22T02:11:11</td><td>62</td><td>121/61</td><td>96</td></tr><tr><td>66</td><td>1976-01-07T07:17:53</td><td>110</td><td>132/85</td><td>91</td></tr><tr><td>72</td><td>2016-12-09T05:01:46</td><td>66</td><td>114/62</td><td>98</td></tr><tr><td>28</td><td>2022-02-23T13:32:58</td><td>87</td><td>95/79</td><td>90</td></tr><tr><td>51</td><td>2005-08-17T00:46:29</td><td>68</td><td>130/89</td><td>93</td></tr><tr><td>88</td><td>2013-02-16T20:10:41</td><td>99</td><td>137/61</td><td>92</td></tr><tr><td>88</td><td>1976-11-07T12:30:24</td><td>102</td><td>95/73</td><td>98</td></tr><tr><td>60</td><td>2023-07-06T13:24:51</td><td>70</td><td>134/75</td><td>97</td></tr><tr><td>88</td><td>1986-03-21T14:25:30</td><td>61</td><td>127/76</td><td>97</td></tr><tr><td>19</td><td>1974-06-16T11:39:03</td><td>68</td><td>136/77</td><td>98</td></tr><tr><td>33</td><td>2022-09-22T07:10:49</td><td>91</td><td>102/83</td><td>98</td></tr><tr><td>27</td><td>2025-01-26T15:40:20</td><td>111</td><td>132/83</td><td>99</td></tr><tr><td>77</td><td>2003-09-06T03:36:48</td><td>87</td><td>133/84</td><td>97</td></tr><tr><td>66</td><td>2012-06-05T18:11:34</td><td>63</td><td>117/62</td><td>98</td></tr><tr><td>72</td><td>1999-03-17T06:46:40</td><td>114</td><td>93/67</td><td>93</td></tr><tr><td>41</td><td>1995-08-01T10:15:55</td><td>98</td><td>119/89</td><td>98</td></tr><tr><td>33</td><td>1989-11-25T08:00:19</td><td>68</td><td>111/73</td><td>97</td></tr><tr><td>30</td><td>1975-09-18T17:36:23</td><td>116</td><td>136/78</td><td>98</td></tr><tr><td>96</td><td>1996-11-07T16:08:00</td><td>81</td><td>138/89</td><td>96</td></tr><tr><td>72</td><td>1985-07-13T04:26:53</td><td>101</td><td>127/62</td><td>90</td></tr><tr><td>69</td><td>1987-05-15T16:10:02</td><td>70</td><td>125/61</td><td>99</td></tr><tr><td>77</td><td>2010-04-25T04:41:39</td><td>82</td><td>121/90</td><td>91</td></tr><tr><td>69</td><td>2006-12-06T16:12:29</td><td>103</td><td>104/65</td><td>100</td></tr><tr><td>35</td><td>1977-06-28T02:54:15</td><td>69</td><td>131/66</td><td>100</td></tr><tr><td>35</td><td>2024-01-24T05:51:18</td><td>110</td><td>115/61</td><td>96</td></tr><tr><td>23</td><td>2001-11-08T08:39:57</td><td>88</td><td>120/74</td><td>92</td></tr><tr><td>43</td><td>2020-08-27T02:57:50</td><td>119</td><td>119/75</td><td>100</td></tr><tr><td>30</td><td>2020-07-23T19:04:32</td><td>111</td><td>137/60</td><td>98</td></tr><tr><td>19</td><td>1986-06-24T13:03:40</td><td>79</td><td>129/90</td><td>99</td></tr><tr><td>27</td><td>2003-12-16T23:23:59</td><td>85</td><td>134/63</td><td>92</td></tr><tr><td>72</td><td>2017-08-28T05:29:46</td><td>97</td><td>109/62</td><td>99</td></tr><tr><td>43</td><td>1991-07-18T13:00:26</td><td>109</td><td>136/75</td><td>94</td></tr><tr><td>33</td><td>1976-03-25T11:27:27</td><td>90</td><td>118/77</td><td>96</td></tr><tr><td>27</td><td>2007-08-19T02:43:31</td><td>69</td><td>115/83</td><td>92</td></tr><tr><td>66</td><td>1993-07-26T03:06:32</td><td>84</td><td>94/61</td><td>99</td></tr><tr><td>43</td><td>1989-06-26T21:58:39</td><td>77</td><td>114/79</td><td>100</td></tr><tr><td>21</td><td>2003-08-13T21:45:49</td><td>113</td><td>104/90</td><td>94</td></tr><tr><td>66</td><td>1990-03-07T19:31:51</td><td>84</td><td>103/88</td><td>93</td></tr><tr><td>33</td><td>2006-05-29T01:46:14</td><td>96</td><td>107/71</td><td>92</td></tr><tr><td>33</td><td>1996-03-19T18:42:07</td><td>112</td><td>112/88</td><td>95</td></tr><tr><td>41</td><td>1989-07-27T05:45:25</td><td>84</td><td>138/62</td><td>92</td></tr><tr><td>88</td><td>1995-03-28T18:17:12</td><td>98</td><td>105/88</td><td>98</td></tr><tr><td>85</td><td>1986-11-06T08:09:28</td><td>89</td><td>120/61</td><td>94</td></tr><tr><td>36</td><td>1995-05-11T08:17:33</td><td>78</td><td>135/60</td><td>98</td></tr><tr><td>60</td><td>1986-10-18T19:26:47</td><td>71</td><td>92/77</td><td>97</td></tr><tr><td>24</td><td>2015-02-26T09:07:10</td><td>112</td><td>94/66</td><td>96</td></tr><tr><td>85</td><td>1997-09-12T16:22:09</td><td>118</td><td>121/73</td><td>99</td></tr><tr><td>88</td><td>2019-07-10T13:13:08</td><td>70</td><td>93/64</td><td>94</td></tr><tr><td>77</td><td>1981-07-27T04:11:52</td><td>110</td><td>121/68</td><td>98</td></tr><tr><td>19</td><td>1999-08-05T01:07:50</td><td>105</td><td>94/83</td><td>92</td></tr><tr><td>6</td><td>2015-04-01T17:51:49</td><td>97</td><td>128/69</td><td>93</td></tr><tr><td>77</td><td>2017-07-13T00:19:52</td><td>96</td><td>121/88</td><td>97</td></tr><tr><td>78</td><td>2014-09-23T12:35:30</td><td>97</td><td>136/67</td><td>93</td></tr><tr><td>77</td><td>1991-08-29T07:38:07</td><td>79</td><td>102/78</td><td>96</td></tr><tr><td>27</td><td>2009-06-20T20:00:43</td><td>78</td><td>104/90</td><td>100</td></tr><tr><td>59</td><td>1981-11-04T10:43:43</td><td>63</td><td>113/79</td><td>91</td></tr><tr><td>85</td><td>2011-01-08T23:31:42</td><td>105</td><td>99/79</td><td>94</td></tr><tr><td>60</td><td>1973-03-03T12:44:34</td><td>117</td><td>113/90</td><td>98</td></tr><tr><td>23</td><td>2007-02-05T01:33:33</td><td>82</td><td>117/85</td><td>100</td></tr><tr><td>66</td><td>1978-11-29T17:53:33</td><td>113</td><td>133/84</td><td>91</td></tr><tr><td>72</td><td>2017-10-20T11:51:26</td><td>67</td><td>138/71</td><td>98</td></tr><tr><td>19</td><td>1971-10-15T06:41:51</td><td>99</td><td>136/63</td><td>96</td></tr><tr><td>51</td><td>1976-04-21T08:23:42</td><td>78</td><td>98/60</td><td>94</td></tr><tr><td>96</td><td>2013-05-13T09:52:40</td><td>71</td><td>106/85</td><td>97</td></tr><tr><td>21</td><td>2013-07-08T01:38:51</td><td>79</td><td>112/60</td><td>93</td></tr><tr><td>27</td><td>2022-06-10T21:28:51</td><td>94</td><td>139/83</td><td>95</td></tr><tr><td>33</td><td>2000-07-19T21:07:25</td><td>61</td><td>106/66</td><td>92</td></tr><tr><td>66</td><td>1990-07-17T21:21:39</td><td>106</td><td>140/65</td><td>97</td></tr><tr><td>24</td><td>2007-01-29T15:27:28</td><td>77</td><td>138/61</td><td>97</td></tr><tr><td>69</td><td>1973-12-17T01:07:39</td><td>117</td><td>96/72</td><td>94</td></tr><tr><td>88</td><td>2015-11-09T15:05:23</td><td>84</td><td>101/61</td><td>91</td></tr><tr><td>66</td><td>1988-12-26T19:32:59</td><td>85</td><td>118/64</td><td>92</td></tr><tr><td>51</td><td>1978-09-07T02:42:46</td><td>119</td><td>93/61</td><td>90</td></tr><tr><td>59</td><td>2012-04-21T21:30:44</td><td>82</td><td>120/83</td><td>98</td></tr><tr><td>6</td><td>1984-04-28T02:35:31</td><td>65</td><td>117/74</td><td>94</td></tr><tr><td>51</td><td>2022-04-24T02:15:07</td><td>71</td><td>115/78</td><td>95</td></tr><tr><td>30</td><td>1996-09-13T18:16:38</td><td>107</td><td>127/84</td><td>96</td></tr><tr><td>66</td><td>2005-08-06T02:26:19</td><td>61</td><td>104/77</td><td>91</td></tr><tr><td>78</td><td>1984-07-25T13:14:51</td><td>118</td><td>97/73</td><td>94</td></tr><tr><td>24</td><td>2002-07-29T01:53:18</td><td>69</td><td>109/73</td><td>95</td></tr><tr><td>51</td><td>2010-09-06T00:14:11</td><td>77</td><td>98/88</td><td>94</td></tr><tr><td>69</td><td>1992-08-07T02:17:55</td><td>74</td><td>138/64</td><td>91</td></tr><tr><td>77</td><td>1992-11-21T17:00:19</td><td>91</td><td>109/75</td><td>99</td></tr><tr><td>51</td><td>2021-08-26T11:46:49</td><td>118</td><td>129/73</td><td>92</td></tr><tr><td>51</td><td>2015-12-14T14:33:33</td><td>119</td><td>107/76</td><td>98</td></tr><tr><td>96</td><td>1971-01-07T07:16:32</td><td>107</td><td>101/73</td><td>94</td></tr><tr><td>43</td><td>2018-07-05T20:09:48</td><td>109</td><td>125/90</td><td>97</td></tr><tr><td>43</td><td>2024-11-23T18:05:32</td><td>104</td><td>112/78</td><td>90</td></tr><tr><td>96</td><td>2014-07-02T09:01:16</td><td>118</td><td>97/71</td><td>97</td></tr><tr><td>59</td><td>2013-04-24T01:17:14</td><td>94</td><td>94/73</td><td>100</td></tr><tr><td>96</td><td>2006-07-27T05:31:07</td><td>86</td><td>93/76</td><td>99</td></tr><tr><td>19</td><td>2023-03-02T03:02:28</td><td>65</td><td>91/87</td><td>99</td></tr><tr><td>69</td><td>1972-03-24T19:46:16</td><td>77</td><td>110/87</td><td>99</td></tr><tr><td>51</td><td>2020-09-14T09:47:29</td><td>79</td><td>121/79</td><td>97</td></tr><tr><td>77</td><td>2017-10-24T11:08:24</td><td>109</td><td>140/80</td><td>91</td></tr><tr><td>41</td><td>2013-05-10T00:54:04</td><td>98</td><td>106/69</td><td>100</td></tr><tr><td>96</td><td>1974-11-18T03:29:35</td><td>84</td><td>134/68</td><td>93</td></tr><tr><td>77</td><td>1971-04-02T22:49:24</td><td>64</td><td>98/74</td><td>99</td></tr><tr><td>41</td><td>2016-01-08T05:39:31</td><td>115</td><td>138/69</td><td>97</td></tr><tr><td>96</td><td>1984-12-09T17:13:46</td><td>70</td><td>91/70</td><td>98</td></tr><tr><td>24</td><td>1976-05-12T06:14:35</td><td>72</td><td>129/63</td><td>99</td></tr><tr><td>23</td><td>2001-03-29T06:08:46</td><td>104</td><td>122/69</td><td>99</td></tr><tr><td>59</td><td>1978-01-05T17:05:15</td><td>96</td><td>111/83</td><td>100</td></tr><tr><td>21</td><td>1985-03-30T10:50:32</td><td>118</td><td>91/70</td><td>90</td></tr><tr><td>21</td><td>2020-12-11T17:20:53</td><td>119</td><td>90/67</td><td>95</td></tr><tr><td>78</td><td>2003-03-18T03:27:30</td><td>93</td><td>122/78</td><td>95</td></tr><tr><td>43</td><td>2012-09-12T15:11:49</td><td>60</td><td>108/62</td><td>99</td></tr><tr><td>35</td><td>1983-05-28T20:42:22</td><td>92</td><td>116/67</td><td>100</td></tr><tr><td>69</td><td>2011-03-13T14:43:31</td><td>90</td><td>126/61</td><td>91</td></tr><tr><td>28</td><td>1974-12-03T19:28:48</td><td>83</td><td>119/84</td><td>99</td></tr><tr><td>6</td><td>1976-10-27T21:46:51</td><td>71</td><td>126/76</td><td>96</td></tr><tr><td>85</td><td>1971-10-08T08:10:31</td><td>99</td><td>106/69</td><td>93</td></tr><tr><td>27</td><td>2016-02-20T05:43:28</td><td>60</td><td>113/77</td><td>90</td></tr><tr><td>27</td><td>1988-07-31T12:13:29</td><td>119</td><td>91/81</td><td>91</td></tr><tr><td>30</td><td>1998-07-21T09:16:48</td><td>116</td><td>132/82</td><td>96</td></tr><tr><td>72</td><td>1993-05-28T11:02:23</td><td>100</td><td>94/76</td><td>96</td></tr><tr><td>63</td><td>1994-02-26T22:31:34</td><td>120</td><td>95/81</td><td>96</td></tr><tr><td>63</td><td>1995-10-09T18:04:05</td><td>103</td><td>107/79</td><td>91</td></tr><tr><td>69</td><td>2005-12-03T23:51:43</td><td>63</td><td>136/85</td><td>91</td></tr><tr><td>28</td><td>2009-07-31T18:02:24</td><td>94</td><td>122/80</td><td>99</td></tr><tr><td>66</td><td>2006-12-09T00:31:42</td><td>77</td><td>97/89</td><td>99</td></tr><tr><td>59</td><td>2009-03-11T21:45:59</td><td>74</td><td>122/77</td><td>95</td></tr><tr><td>27</td><td>2012-07-10T06:24:35</td><td>85</td><td>127/60</td><td>95</td></tr><tr><td>21</td><td>1983-03-05T12:46:24</td><td>88</td><td>139/64</td><td>96</td></tr><tr><td>33</td><td>2003-09-27T20:32:17</td><td>86</td><td>119/81</td><td>95</td></tr><tr><td>41</td><td>2024-03-19T22:02:40</td><td>67</td><td>103/80</td><td>94</td></tr><tr><td>88</td><td>2001-03-21T03:18:43</td><td>74</td><td>104/75</td><td>97</td></tr><tr><td>72</td><td>1991-04-14T20:41:34</td><td>60</td><td>115/82</td><td>95</td></tr><tr><td>28</td><td>1977-05-09T02:13:07</td><td>118</td><td>93/65</td><td>99</td></tr><tr><td>41</td><td>2014-10-22T01:46:54</td><td>67</td><td>119/90</td><td>96</td></tr><tr><td>78</td><td>2017-08-24T15:33:24</td><td>90</td><td>130/66</td><td>99</td></tr><tr><td>23</td><td>1982-08-07T23:03:12</td><td>106</td><td>112/81</td><td>95</td></tr><tr><td>72</td><td>2019-12-26T23:34:36</td><td>117</td><td>97/78</td><td>94</td></tr><tr><td>66</td><td>1989-08-15T08:05:24</td><td>74</td><td>99/64</td><td>96</td></tr><tr><td>72</td><td>1978-12-01T10:46:02</td><td>110</td><td>121/68</td><td>91</td></tr><tr><td>27</td><td>1988-09-25T14:16:10</td><td>118</td><td>100/85</td><td>92</td></tr><tr><td>24</td><td>2024-10-21T18:45:50</td><td>118</td><td>136/85</td><td>92</td></tr><tr><td>35</td><td>1990-01-24T23:24:23</td><td>111</td><td>123/78</td><td>90</td></tr><tr><td>35</td><td>2005-05-23T18:25:58</td><td>112</td><td>125/66</td><td>97</td></tr><tr><td>27</td><td>1988-05-05T14:21:16</td><td>105</td><td>115/80</td><td>92</td></tr><tr><td>21</td><td>1999-09-22T03:45:28</td><td>106</td><td>130/64</td><td>95</td></tr><tr><td>6</td><td>1992-08-22T04:12:49</td><td>69</td><td>99/72</td><td>90</td></tr><tr><td>36</td><td>2012-12-14T18:29:58</td><td>115</td><td>101/89</td><td>97</td></tr><tr><td>6</td><td>1984-01-19T17:28:14</td><td>68</td><td>94/70</td><td>90</td></tr><tr><td>28</td><td>1993-05-27T21:04:24</td><td>117</td><td>113/70</td><td>100</td></tr><tr><td>85</td><td>2025-05-17T14:34:40</td><td>83</td><td>91/89</td><td>95</td></tr><tr><td>78</td><td>2001-04-10T05:19:50</td><td>111</td><td>126/84</td><td>90</td></tr><tr><td>77</td><td>1984-11-15T00:57:46</td><td>71</td><td>118/81</td><td>91</td></tr><tr><td>60</td><td>1974-02-22T11:46:13</td><td>81</td><td>96/69</td><td>91</td></tr><tr><td>24</td><td>2005-11-20T00:29:27</td><td>67</td><td>123/60</td><td>95</td></tr><tr><td>78</td><td>1991-07-11T04:49:02</td><td>114</td><td>110/70</td><td>93</td></tr><tr><td>66</td><td>2009-03-02T12:50:36</td><td>65</td><td>107/80</td><td>90</td></tr><tr><td>35</td><td>1990-11-30T12:18:55</td><td>89</td><td>121/67</td><td>97</td></tr><tr><td>77</td><td>1979-04-07T09:44:04</td><td>86</td><td>111/81</td><td>91</td></tr><tr><td>27</td><td>1977-03-29T09:29:56</td><td>97</td><td>131/70</td><td>90</td></tr><tr><td>19</td><td>2006-11-25T20:37:55</td><td>104</td><td>126/72</td><td>97</td></tr><tr><td>60</td><td>2016-09-19T00:24:38</td><td>112</td><td>93/82</td><td>95</td></tr><tr><td>66</td><td>2022-03-26T02:09:35</td><td>96</td><td>131/61</td><td>96</td></tr><tr><td>66</td><td>2003-05-23T21:13:55</td><td>78</td><td>116/89</td><td>100</td></tr><tr><td>35</td><td>1986-06-15T13:28:06</td><td>77</td><td>125/87</td><td>94</td></tr><tr><td>59</td><td>2022-11-17T19:44:56</td><td>115</td><td>108/77</td><td>97</td></tr><tr><td>85</td><td>2002-09-17T14:49:32</td><td>68</td><td>96/85</td><td>97</td></tr><tr><td>24</td><td>1978-09-27T03:04:45</td><td>101</td><td>121/60</td><td>94</td></tr><tr><td>60</td><td>2010-06-19T14:56:24</td><td>60</td><td>107/69</td><td>96</td></tr><tr><td>88</td><td>1980-02-05T03:19:12</td><td>86</td><td>92/65</td><td>93</td></tr><tr><td>23</td><td>1974-04-25T04:57:25</td><td>103</td><td>106/88</td><td>96</td></tr><tr><td>88</td><td>1987-03-16T12:41:05</td><td>119</td><td>93/70</td><td>95</td></tr><tr><td>21</td><td>1998-03-02T06:33:39</td><td>64</td><td>97/87</td><td>92</td></tr><tr><td>88</td><td>2024-12-09T09:02:21</td><td>85</td><td>105/68</td><td>97</td></tr><tr><td>77</td><td>2004-03-03T16:55:59</td><td>118</td><td>101/62</td><td>100</td></tr><tr><td>51</td><td>1978-10-04T09:47:05</td><td>72</td><td>119/71</td><td>94</td></tr><tr><td>78</td><td>1988-10-25T20:05:34</td><td>70</td><td>132/82</td><td>100</td></tr><tr><td>19</td><td>2007-10-05T02:20:56</td><td>60</td><td>107/68</td><td>95</td></tr><tr><td>19</td><td>2013-05-23T20:03:18</td><td>110</td><td>95/81</td><td>98</td></tr><tr><td>24</td><td>2004-11-09T08:42:36</td><td>119</td><td>124/68</td><td>94</td></tr><tr><td>63</td><td>2012-07-24T05:59:59</td><td>63</td><td>97/77</td><td>97</td></tr><tr><td>28</td><td>1995-10-27T16:05:21</td><td>96</td><td>105/65</td><td>97</td></tr><tr><td>88</td><td>2015-02-04T01:51:22</td><td>81</td><td>110/73</td><td>96</td></tr><tr><td>96</td><td>1985-04-24T20:59:02</td><td>81</td><td>102/61</td><td>96</td></tr><tr><td>28</td><td>1989-05-02T23:36:29</td><td>84</td><td>94/60</td><td>99</td></tr><tr><td>78</td><td>2008-04-11T10:58:56</td><td>119</td><td>102/72</td><td>99</td></tr><tr><td>88</td><td>2013-01-13T01:25:38</td><td>76</td><td>108/84</td><td>92</td></tr><tr><td>96</td><td>2011-05-23T06:40:30</td><td>101</td><td>107/71</td><td>90</td></tr><tr><td>77</td><td>1986-10-16T14:45:39</td><td>96</td><td>106/84</td><td>100</td></tr><tr><td>60</td><td>1984-04-09T20:06:05</td><td>102</td><td>118/75</td><td>99</td></tr><tr><td>51</td><td>1991-05-05T19:38:52</td><td>86</td><td>118/73</td><td>93</td></tr><tr><td>85</td><td>2019-11-18T06:17:29</td><td>82</td><td>98/88</td><td>100</td></tr><tr><td>88</td><td>1993-06-22T23:12:33</td><td>95</td><td>100/69</td><td>97</td></tr><tr><td>24</td><td>2007-12-04T19:25:11</td><td>118</td><td>116/77</td><td>92</td></tr><tr><td>43</td><td>1971-11-24T17:03:46</td><td>68</td><td>124/72</td><td>98</td></tr><tr><td>6</td><td>1994-07-09T19:28:03</td><td>91</td><td>138/80</td><td>96</td></tr><tr><td>60</td><td>2022-06-07T17:13:13</td><td>86</td><td>110/88</td><td>91</td></tr><tr><td>60</td><td>2010-10-06T22:51:23</td><td>101</td><td>129/71</td><td>100</td></tr><tr><td>69</td><td>1972-02-11T00:32:01</td><td>92</td><td>135/61</td><td>93</td></tr><tr><td>85</td><td>1980-07-29T23:14:42</td><td>112</td><td>101/78</td><td>97</td></tr><tr><td>36</td><td>1989-02-11T01:00:38</td><td>115</td><td>138/61</td><td>100</td></tr><tr><td>60</td><td>1981-10-02T08:05:43</td><td>82</td><td>104/68</td><td>100</td></tr><tr><td>60</td><td>1990-09-08T05:46:32</td><td>64</td><td>137/80</td><td>91</td></tr><tr><td>24</td><td>2022-08-05T00:00:14</td><td>109</td><td>108/63</td><td>98</td></tr><tr><td>60</td><td>1989-01-19T09:33:41</td><td>87</td><td>123/83</td><td>96</td></tr><tr><td>78</td><td>1999-01-17T11:35:44</td><td>80</td><td>105/62</td><td>98</td></tr><tr><td>43</td><td>2012-01-29T20:57:48</td><td>86</td><td>120/73</td><td>100</td></tr><tr><td>33</td><td>1994-02-18T12:38:29</td><td>81</td><td>124/88</td><td>100</td></tr><tr><td>21</td><td>1972-03-30T08:36:32</td><td>109</td><td>91/68</td><td>97</td></tr><tr><td>63</td><td>1999-03-07T04:16:15</td><td>97</td><td>99/75</td><td>96</td></tr><tr><td>23</td><td>2003-08-11T14:57:11</td><td>99</td><td>125/75</td><td>90</td></tr><tr><td>69</td><td>2010-06-28T02:48:31</td><td>71</td><td>134/88</td><td>96</td></tr><tr><td>88</td><td>2023-12-14T03:33:48</td><td>89</td><td>132/63</td><td>100</td></tr><tr><td>96</td><td>1982-09-27T19:54:09</td><td>82</td><td>129/73</td><td>96</td></tr><tr><td>96</td><td>1983-06-05T15:31:26</td><td>106</td><td>102/81</td><td>98</td></tr><tr><td>6</td><td>1981-07-29T11:16:19</td><td>62</td><td>106/62</td><td>90</td></tr><tr><td>35</td><td>2013-07-07T00:50:17</td><td>66</td><td>132/77</td><td>100</td></tr><tr><td>66</td><td>2013-10-05T12:23:52</td><td>96</td><td>99/69</td><td>99</td></tr><tr><td>24</td><td>1984-06-07T11:59:27</td><td>113</td><td>139/70</td><td>97</td></tr><tr><td>51</td><td>2000-12-29T20:57:50</td><td>75</td><td>128/86</td><td>92</td></tr><tr><td>51</td><td>1987-10-14T22:47:55</td><td>84</td><td>93/87</td><td>98</td></tr><tr><td>36</td><td>1997-08-07T12:15:08</td><td>63</td><td>126/90</td><td>97</td></tr><tr><td>33</td><td>1975-12-23T14:29:40</td><td>102</td><td>95/90</td><td>96</td></tr><tr><td>77</td><td>2022-03-13T13:59:46</td><td>65</td><td>97/77</td><td>91</td></tr><tr><td>27</td><td>2024-05-21T16:13:30</td><td>109</td><td>117/83</td><td>96</td></tr><tr><td>24</td><td>2025-04-11T22:49:34</td><td>112</td><td>110/77</td><td>99</td></tr><tr><td>33</td><td>2008-03-06T00:04:02</td><td>61</td><td>102/61</td><td>98</td></tr><tr><td>30</td><td>1986-06-08T06:01:43</td><td>85</td><td>135/71</td><td>100</td></tr><tr><td>69</td><td>1983-02-06T07:19:06</td><td>82</td><td>92/61</td><td>93</td></tr><tr><td>78</td><td>2014-08-11T07:38:24</td><td>107</td><td>109/76</td><td>98</td></tr><tr><td>78</td><td>2002-06-14T03:20:43</td><td>67</td><td>117/82</td><td>100</td></tr><tr><td>27</td><td>2025-05-02T10:10:52</td><td>61</td><td>107/82</td><td>100</td></tr><tr><td>85</td><td>2005-03-04T10:20:43</td><td>100</td><td>139/64</td><td>92</td></tr><tr><td>27</td><td>2004-10-16T19:51:14</td><td>117</td><td>129/78</td><td>96</td></tr><tr><td>27</td><td>2021-11-08T16:50:19</td><td>86</td><td>110/85</td><td>97</td></tr><tr><td>33</td><td>1990-10-03T15:31:19</td><td>87</td><td>122/84</td><td>92</td></tr><tr><td>59</td><td>1998-04-09T01:16:55</td><td>95</td><td>132/86</td><td>93</td></tr><tr><td>6</td><td>1975-08-26T21:17:08</td><td>91</td><td>102/67</td><td>96</td></tr><tr><td>41</td><td>1981-01-26T17:24:50</td><td>73</td><td>126/88</td><td>95</td></tr><tr><td>21</td><td>1982-01-22T10:36:51</td><td>110</td><td>94/90</td><td>92</td></tr><tr><td>30</td><td>2004-02-02T06:54:17</td><td>104</td><td>129/70</td><td>94</td></tr><tr><td>6</td><td>1975-12-24T22:18:03</td><td>120</td><td>125/75</td><td>90</td></tr><tr><td>27</td><td>1987-07-02T20:54:56</td><td>113</td><td>101/72</td><td>98</td></tr><tr><td>60</td><td>2023-06-30T10:38:53</td><td>72</td><td>91/71</td><td>91</td></tr><tr><td>24</td><td>1982-01-18T05:38:13</td><td>115</td><td>139/82</td><td>97</td></tr><tr><td>30</td><td>2007-07-16T08:51:07</td><td>68</td><td>96/61</td><td>96</td></tr><tr><td>51</td><td>2014-04-12T18:02:43</td><td>99</td><td>95/85</td><td>96</td></tr><tr><td>24</td><td>1987-11-22T03:27:57</td><td>78</td><td>135/85</td><td>100</td></tr><tr><td>43</td><td>1991-03-02T22:25:12</td><td>99</td><td>111/70</td><td>95</td></tr><tr><td>21</td><td>2007-05-16T14:14:45</td><td>105</td><td>140/84</td><td>100</td></tr><tr><td>41</td><td>2021-01-17T04:42:47</td><td>84</td><td>133/85</td><td>92</td></tr><tr><td>33</td><td>1988-10-07T14:24:03</td><td>101</td><td>138/86</td><td>93</td></tr><tr><td>85</td><td>2020-03-30T16:14:39</td><td>101</td><td>123/66</td><td>95</td></tr><tr><td>78</td><td>1970-08-12T15:38:15</td><td>88</td><td>93/69</td><td>94</td></tr><tr><td>33</td><td>2003-03-02T05:12:16</td><td>78</td><td>134/67</td><td>97</td></tr><tr><td>43</td><td>2001-11-22T19:12:43</td><td>110</td><td>117/88</td><td>95</td></tr><tr><td>24</td><td>1997-11-12T13:03:58</td><td>84</td><td>107/78</td><td>91</td></tr><tr><td>24</td><td>1994-10-06T13:26:21</td><td>81</td><td>111/77</td><td>91</td></tr><tr><td>59</td><td>1982-12-24T23:29:22</td><td>86</td><td>115/75</td><td>97</td></tr><tr><td>78</td><td>2013-05-24T21:47:31</td><td>64</td><td>106/80</td><td>98</td></tr><tr><td>24</td><td>2025-03-09T06:24:05</td><td>75</td><td>93/80</td><td>95</td></tr><tr><td>36</td><td>1987-09-17T01:09:52</td><td>95</td><td>117/87</td><td>98</td></tr><tr><td>35</td><td>2011-02-14T21:31:51</td><td>93</td><td>131/68</td><td>94</td></tr><tr><td>21</td><td>1974-02-04T12:57:58</td><td>78</td><td>92/87</td><td>100</td></tr><tr><td>66</td><td>1979-01-10T12:15:54</td><td>95</td><td>125/77</td><td>90</td></tr><tr><td>88</td><td>1992-11-11T21:45:32</td><td>65</td><td>98/64</td><td>97</td></tr><tr><td>41</td><td>1992-08-20T03:17:12</td><td>95</td><td>113/74</td><td>95</td></tr><tr><td>24</td><td>2013-10-15T00:38:25</td><td>86</td><td>107/77</td><td>90</td></tr><tr><td>85</td><td>1995-09-23T13:42:37</td><td>86</td><td>95/65</td><td>96</td></tr><tr><td>28</td><td>2012-06-11T02:00:33</td><td>107</td><td>119/88</td><td>90</td></tr><tr><td>21</td><td>1978-05-15T12:26:14</td><td>90</td><td>132/71</td><td>99</td></tr><tr><td>36</td><td>1982-09-10T19:22:03</td><td>97</td><td>95/60</td><td>95</td></tr><tr><td>72</td><td>1990-10-25T08:52:47</td><td>76</td><td>98/85</td><td>96</td></tr><tr><td>63</td><td>2024-07-08T22:16:07</td><td>77</td><td>133/62</td><td>92</td></tr><tr><td>24</td><td>1978-12-13T16:22:50</td><td>88</td><td>98/68</td><td>92</td></tr><tr><td>88</td><td>2014-08-01T07:38:20</td><td>87</td><td>136/90</td><td>99</td></tr><tr><td>72</td><td>1980-10-07T00:29:51</td><td>95</td><td>134/68</td><td>92</td></tr><tr><td>51</td><td>1988-12-14T08:41:06</td><td>101</td><td>126/64</td><td>98</td></tr><tr><td>36</td><td>1992-03-30T09:54:46</td><td>113</td><td>126/70</td><td>90</td></tr><tr><td>77</td><td>2021-05-25T04:54:26</td><td>75</td><td>112/87</td><td>92</td></tr><tr><td>35</td><td>2018-03-15T15:16:17</td><td>91</td><td>137/63</td><td>91</td></tr><tr><td>23</td><td>1975-12-01T10:04:18</td><td>62</td><td>137/74</td><td>93</td></tr><tr><td>63</td><td>2020-02-02T15:27:58</td><td>92</td><td>128/75</td><td>98</td></tr><tr><td>60</td><td>1972-12-29T16:50:16</td><td>78</td><td>103/85</td><td>90</td></tr><tr><td>41</td><td>1987-01-30T04:08:13</td><td>70</td><td>124/79</td><td>97</td></tr><tr><td>66</td><td>2020-12-31T08:49:04</td><td>102</td><td>115/84</td><td>97</td></tr><tr><td>6</td><td>1996-11-19T06:18:11</td><td>94</td><td>101/66</td><td>93</td></tr><tr><td>60</td><td>2021-09-15T21:15:51</td><td>104</td><td>119/61</td><td>96</td></tr><tr><td>36</td><td>2007-01-23T22:48:43</td><td>106</td><td>119/81</td><td>93</td></tr><tr><td>60</td><td>1992-06-16T11:27:45</td><td>111</td><td>134/73</td><td>91</td></tr><tr><td>33</td><td>2000-09-08T07:37:31</td><td>69</td><td>116/74</td><td>94</td></tr><tr><td>35</td><td>2000-06-27T10:11:44</td><td>110</td><td>132/75</td><td>99</td></tr><tr><td>35</td><td>1976-06-10T20:46:13</td><td>70</td><td>92/90</td><td>92</td></tr><tr><td>63</td><td>2011-08-13T07:15:05</td><td>65</td><td>113/84</td><td>93</td></tr><tr><td>30</td><td>1995-05-13T23:31:56</td><td>81</td><td>135/87</td><td>90</td></tr><tr><td>23</td><td>2014-03-08T18:25:10</td><td>118</td><td>103/80</td><td>96</td></tr><tr><td>28</td><td>1977-06-17T09:41:10</td><td>75</td><td>137/87</td><td>92</td></tr><tr><td>27</td><td>2018-08-08T20:47:22</td><td>82</td><td>95/70</td><td>90</td></tr><tr><td>69</td><td>2016-06-18T14:48:07</td><td>60</td><td>96/80</td><td>90</td></tr><tr><td>51</td><td>2020-10-05T18:26:49</td><td>66</td><td>133/85</td><td>95</td></tr><tr><td>41</td><td>1971-09-27T21:04:47</td><td>109</td><td>101/83</td><td>94</td></tr><tr><td>59</td><td>2015-07-21T12:13:10</td><td>91</td><td>91/84</td><td>99</td></tr><tr><td>63</td><td>1984-02-25T22:47:31</td><td>100</td><td>138/70</td><td>95</td></tr><tr><td>21</td><td>2001-09-21T18:00:29</td><td>86</td><td>133/88</td><td>93</td></tr><tr><td>51</td><td>2014-12-22T09:41:07</td><td>105</td><td>106/83</td><td>92</td></tr><tr><td>41</td><td>1992-07-18T04:35:33</td><td>81</td><td>113/60</td><td>99</td></tr><tr><td>96</td><td>1972-08-02T00:05:27</td><td>102</td><td>100/80</td><td>95</td></tr><tr><td>72</td><td>2000-01-07T19:47:23</td><td>71</td><td>115/73</td><td>98</td></tr><tr><td>43</td><td>1978-10-16T10:08:04</td><td>104</td><td>116/60</td><td>96</td></tr><tr><td>21</td><td>2008-04-14T01:36:43</td><td>88</td><td>134/77</td><td>100</td></tr><tr><td>85</td><td>2014-04-30T14:26:00</td><td>60</td><td>99/64</td><td>90</td></tr><tr><td>77</td><td>2003-09-27T11:18:23</td><td>96</td><td>116/78</td><td>95</td></tr><tr><td>96</td><td>1985-09-08T11:29:06</td><td>84</td><td>101/86</td><td>93</td></tr><tr><td>43</td><td>1988-05-13T00:06:38</td><td>88</td><td>133/89</td><td>100</td></tr><tr><td>43</td><td>1977-03-20T18:19:18</td><td>94</td><td>106/62</td><td>91</td></tr><tr><td>24</td><td>1978-04-11T19:11:02</td><td>118</td><td>132/85</td><td>93</td></tr><tr><td>96</td><td>1987-06-20T04:35:49</td><td>100</td><td>108/60</td><td>97</td></tr><tr><td>27</td><td>1995-07-24T10:22:48</td><td>73</td><td>101/78</td><td>94</td></tr><tr><td>63</td><td>2020-02-04T02:47:05</td><td>89</td><td>117/87</td><td>100</td></tr><tr><td>35</td><td>1987-12-26T05:34:31</td><td>88</td><td>106/82</td><td>98</td></tr><tr><td>21</td><td>1998-07-06T17:09:04</td><td>66</td><td>104/72</td><td>96</td></tr><tr><td>96</td><td>2010-08-09T08:29:02</td><td>107</td><td>118/70</td><td>91</td></tr><tr><td>41</td><td>1974-01-14T05:37:19</td><td>86</td><td>137/62</td><td>92</td></tr><tr><td>69</td><td>2006-09-06T15:12:58</td><td>92</td><td>137/87</td><td>95</td></tr><tr><td>43</td><td>2000-08-21T12:04:25</td><td>92</td><td>127/63</td><td>94</td></tr><tr><td>28</td><td>2023-07-31T12:50:24</td><td>73</td><td>100/66</td><td>93</td></tr><tr><td>28</td><td>1997-01-03T02:06:35</td><td>119</td><td>128/69</td><td>91</td></tr><tr><td>43</td><td>2011-06-09T03:53:04</td><td>83</td><td>91/90</td><td>99</td></tr><tr><td>72</td><td>1978-09-18T01:02:56</td><td>112</td><td>121/76</td><td>90</td></tr><tr><td>24</td><td>2016-06-07T18:58:45</td><td>89</td><td>100/89</td><td>96</td></tr><tr><td>66</td><td>2001-02-27T23:55:35</td><td>63</td><td>124/88</td><td>93</td></tr><tr><td>27</td><td>1983-01-15T15:14:54</td><td>108</td><td>128/67</td><td>94</td></tr><tr><td>96</td><td>1997-02-03T07:44:40</td><td>61</td><td>135/62</td><td>96</td></tr><tr><td>78</td><td>2022-08-02T23:56:08</td><td>68</td><td>102/66</td><td>98</td></tr><tr><td>30</td><td>2020-01-27T06:50:29</td><td>71</td><td>102/78</td><td>99</td></tr><tr><td>6</td><td>1989-12-08T15:42:16</td><td>115</td><td>112/61</td><td>91</td></tr><tr><td>78</td><td>2005-05-19T18:37:10</td><td>65</td><td>124/70</td><td>96</td></tr><tr><td>66</td><td>1985-04-23T08:50:07</td><td>92</td><td>125/80</td><td>93</td></tr><tr><td>28</td><td>1984-06-13T23:27:01</td><td>103</td><td>117/62</td><td>97</td></tr><tr><td>6</td><td>1990-04-11T19:58:04</td><td>70</td><td>104/63</td><td>95</td></tr><tr><td>35</td><td>2011-03-23T01:32:00</td><td>88</td><td>122/62</td><td>95</td></tr><tr><td>63</td><td>2003-01-10T12:35:19</td><td>70</td><td>110/87</td><td>95</td></tr><tr><td>60</td><td>2024-09-04T01:29:43</td><td>99</td><td>101/68</td><td>94</td></tr><tr><td>24</td><td>2014-07-18T12:08:23</td><td>61</td><td>129/72</td><td>98</td></tr><tr><td>59</td><td>2005-09-08T17:44:10</td><td>82</td><td>123/80</td><td>100</td></tr><tr><td>72</td><td>2020-05-08T22:51:48</td><td>74</td><td>139/87</td><td>100</td></tr><tr><td>59</td><td>2011-03-13T05:41:27</td><td>77</td><td>94/88</td><td>97</td></tr><tr><td>33</td><td>1986-10-19T02:04:00</td><td>73</td><td>140/65</td><td>100</td></tr><tr><td>21</td><td>2018-05-07T04:31:19</td><td>76</td><td>105/88</td><td>98</td></tr><tr><td>78</td><td>1987-04-26T05:42:46</td><td>89</td><td>93/71</td><td>96</td></tr><tr><td>28</td><td>2010-11-21T08:57:28</td><td>120</td><td>140/74</td><td>99</td></tr><tr><td>66</td><td>2018-04-20T10:59:03</td><td>72</td><td>100/64</td><td>91</td></tr><tr><td>78</td><td>1974-07-03T16:51:23</td><td>96</td><td>125/85</td><td>99</td></tr><tr><td>96</td><td>2019-11-13T05:38:14</td><td>88</td><td>140/83</td><td>90</td></tr><tr><td>88</td><td>1997-06-02T12:15:08</td><td>120</td><td>109/82</td><td>98</td></tr><tr><td>21</td><td>2023-12-19T20:03:03</td><td>69</td><td>102/66</td><td>98</td></tr><tr><td>24</td><td>2007-08-25T14:31:16</td><td>79</td><td>116/70</td><td>100</td></tr><tr><td>19</td><td>2010-12-27T21:00:09</td><td>78</td><td>105/84</td><td>98</td></tr><tr><td>35</td><td>2013-05-18T02:03:56</td><td>105</td><td>136/70</td><td>94</td></tr><tr><td>41</td><td>1973-09-01T21:51:20</td><td>77</td><td>107/68</td><td>94</td></tr><tr><td>66</td><td>2019-12-09T19:58:18</td><td>98</td><td>128/74</td><td>99</td></tr><tr><td>43</td><td>1982-10-24T08:34:59</td><td>104</td><td>115/82</td><td>92</td></tr><tr><td>28</td><td>2011-07-27T12:34:56</td><td>69</td><td>93/77</td><td>93</td></tr><tr><td>35</td><td>2017-01-06T13:17:33</td><td>103</td><td>125/69</td><td>95</td></tr><tr><td>27</td><td>1988-10-15T09:47:00</td><td>100</td><td>136/85</td><td>91</td></tr><tr><td>77</td><td>1975-11-05T05:56:14</td><td>60</td><td>116/70</td><td>92</td></tr><tr><td>88</td><td>1994-01-12T13:31:37</td><td>98</td><td>90/73</td><td>99</td></tr><tr><td>19</td><td>2010-09-26T18:00:50</td><td>94</td><td>134/70</td><td>100</td></tr><tr><td>41</td><td>1995-11-22T00:23:45</td><td>74</td><td>90/63</td><td>94</td></tr><tr><td>33</td><td>2022-04-07T07:14:12</td><td>84</td><td>122/90</td><td>93</td></tr><tr><td>33</td><td>2024-06-26T04:51:46</td><td>60</td><td>134/72</td><td>95</td></tr><tr><td>19</td><td>1999-10-22T15:36:49</td><td>62</td><td>131/70</td><td>91</td></tr><tr><td>24</td><td>2019-12-12T15:18:48</td><td>116</td><td>109/89</td><td>100</td></tr><tr><td>60</td><td>1984-10-04T09:18:20</td><td>94</td><td>123/89</td><td>96</td></tr><tr><td>30</td><td>2022-04-17T06:46:33</td><td>70</td><td>98/82</td><td>92</td></tr><tr><td>6</td><td>1999-02-13T11:03:23</td><td>68</td><td>103/62</td><td>95</td></tr><tr><td>51</td><td>2018-02-01T05:30:35</td><td>113</td><td>100/73</td><td>97</td></tr><tr><td>24</td><td>1997-08-20T13:20:44</td><td>86</td><td>109/77</td><td>91</td></tr><tr><td>41</td><td>1972-11-02T08:41:45</td><td>68</td><td>134/73</td><td>93</td></tr><tr><td>78</td><td>1999-06-04T00:40:52</td><td>105</td><td>135/70</td><td>96</td></tr><tr><td>59</td><td>1976-04-16T19:31:28</td><td>116</td><td>137/86</td><td>95</td></tr><tr><td>30</td><td>1979-07-23T12:40:56</td><td>60</td><td>108/69</td><td>92</td></tr><tr><td>78</td><td>1995-10-22T15:22:44</td><td>74</td><td>136/84</td><td>90</td></tr><tr><td>51</td><td>1999-07-06T05:10:46</td><td>119</td><td>118/62</td><td>97</td></tr><tr><td>23</td><td>1992-07-19T05:54:54</td><td>92</td><td>140/71</td><td>90</td></tr><tr><td>63</td><td>1973-01-28T17:10:11</td><td>111</td><td>124/70</td><td>99</td></tr><tr><td>60</td><td>1978-05-12T09:23:59</td><td>99</td><td>138/70</td><td>100</td></tr><tr><td>28</td><td>1975-02-05T07:43:29</td><td>69</td><td>127/89</td><td>97</td></tr><tr><td>23</td><td>2012-12-14T00:40:33</td><td>111</td><td>131/73</td><td>96</td></tr><tr><td>24</td><td>2021-11-10T03:12:11</td><td>94</td><td>93/64</td><td>91</td></tr><tr><td>43</td><td>2014-03-31T09:32:24</td><td>86</td><td>139/75</td><td>100</td></tr><tr><td>85</td><td>1980-12-11T11:25:52</td><td>89</td><td>96/66</td><td>93</td></tr><tr><td>63</td><td>1975-05-30T01:39:52</td><td>111</td><td>105/67</td><td>95</td></tr><tr><td>33</td><td>2019-04-22T14:45:19</td><td>94</td><td>111/63</td><td>99</td></tr><tr><td>51</td><td>1992-05-19T08:48:02</td><td>74</td><td>138/65</td><td>96</td></tr><tr><td>28</td><td>2022-09-28T20:48:43</td><td>102</td><td>136/75</td><td>93</td></tr><tr><td>51</td><td>2004-05-15T04:14:48</td><td>79</td><td>132/88</td><td>94</td></tr><tr><td>78</td><td>1999-12-04T12:19:19</td><td>117</td><td>117/63</td><td>94</td></tr><tr><td>41</td><td>2003-04-10T01:16:15</td><td>115</td><td>118/62</td><td>92</td></tr><tr><td>69</td><td>1997-04-15T08:20:21</td><td>99</td><td>136/64</td><td>100</td></tr><tr><td>63</td><td>1985-09-27T12:17:59</td><td>89</td><td>90/69</td><td>91</td></tr><tr><td>28</td><td>1982-10-08T13:29:05</td><td>83</td><td>102/66</td><td>93</td></tr><tr><td>60</td><td>2012-06-13T20:52:08</td><td>60</td><td>138/85</td><td>95</td></tr><tr><td>27</td><td>1999-08-07T07:27:06</td><td>112</td><td>137/83</td><td>90</td></tr><tr><td>88</td><td>2022-06-30T09:39:24</td><td>72</td><td>119/60</td><td>90</td></tr><tr><td>27</td><td>1982-12-26T11:15:56</td><td>81</td><td>101/89</td><td>95</td></tr><tr><td>21</td><td>1977-06-29T04:16:26</td><td>60</td><td>120/89</td><td>90</td></tr><tr><td>69</td><td>2015-07-14T06:55:58</td><td>110</td><td>109/73</td><td>90</td></tr><tr><td>21</td><td>2015-01-25T23:08:01</td><td>90</td><td>139/61</td><td>90</td></tr><tr><td>77</td><td>1980-06-23T06:40:17</td><td>66</td><td>115/67</td><td>98</td></tr><tr><td>78</td><td>1986-09-29T19:37:12</td><td>95</td><td>116/82</td><td>90</td></tr><tr><td>35</td><td>2016-04-17T07:57:44</td><td>103</td><td>120/65</td><td>90</td></tr><tr><td>96</td><td>1975-07-26T07:27:31</td><td>69</td><td>110/72</td><td>94</td></tr><tr><td>33</td><td>1989-12-14T01:47:19</td><td>72</td><td>111/68</td><td>97</td></tr><tr><td>33</td><td>2021-05-12T07:36:50</td><td>83</td><td>135/89</td><td>91</td></tr><tr><td>63</td><td>2006-04-21T15:18:47</td><td>92</td><td>127/65</td><td>91</td></tr><tr><td>27</td><td>1981-06-14T07:58:41</td><td>88</td><td>105/79</td><td>90</td></tr><tr><td>21</td><td>2012-02-17T04:11:34</td><td>110</td><td>99/61</td><td>98</td></tr><tr><td>51</td><td>2017-07-31T00:30:44</td><td>69</td><td>119/69</td><td>98</td></tr><tr><td>21</td><td>1982-01-11T09:28:50</td><td>94</td><td>130/90</td><td>92</td></tr><tr><td>30</td><td>1999-09-15T05:54:24</td><td>105</td><td>102/87</td><td>90</td></tr><tr><td>63</td><td>1999-05-07T12:00:40</td><td>69</td><td>102/85</td><td>93</td></tr><tr><td>85</td><td>1977-09-05T07:55:55</td><td>100</td><td>104/82</td><td>98</td></tr><tr><td>27</td><td>1992-09-18T11:41:34</td><td>65</td><td>127/67</td><td>91</td></tr><tr><td>24</td><td>2003-08-27T02:18:45</td><td>92</td><td>118/86</td><td>90</td></tr><tr><td>85</td><td>2022-12-12T21:59:08</td><td>63</td><td>115/80</td><td>100</td></tr><tr><td>77</td><td>1990-12-05T23:32:23</td><td>101</td><td>117/72</td><td>98</td></tr><tr><td>69</td><td>2024-12-28T20:20:54</td><td>80</td><td>114/81</td><td>100</td></tr><tr><td>59</td><td>2010-10-06T14:40:06</td><td>69</td><td>102/63</td><td>95</td></tr><tr><td>43</td><td>2001-04-08T08:44:33</td><td>79</td><td>135/60</td><td>100</td></tr><tr><td>33</td><td>2012-03-02T21:50:51</td><td>108</td><td>103/78</td><td>97</td></tr><tr><td>51</td><td>1974-12-29T15:45:37</td><td>106</td><td>112/68</td><td>96</td></tr><tr><td>21</td><td>1970-09-30T14:01:43</td><td>110</td><td>132/71</td><td>95</td></tr><tr><td>35</td><td>2002-04-04T12:38:33</td><td>82</td><td>115/60</td><td>95</td></tr><tr><td>21</td><td>2004-10-29T18:47:33</td><td>61</td><td>91/65</td><td>100</td></tr><tr><td>88</td><td>2001-05-23T15:51:51</td><td>74</td><td>139/87</td><td>90</td></tr><tr><td>6</td><td>1983-12-24T22:36:53</td><td>97</td><td>118/77</td><td>93</td></tr><tr><td>41</td><td>1983-03-21T17:34:13</td><td>71</td><td>124/64</td><td>93</td></tr><tr><td>27</td><td>1972-01-25T08:26:04</td><td>84</td><td>119/76</td><td>94</td></tr><tr><td>85</td><td>2016-04-07T16:14:27</td><td>106</td><td>92/89</td><td>95</td></tr><tr><td>59</td><td>1986-04-26T08:33:58</td><td>64</td><td>94/71</td><td>100</td></tr><tr><td>60</td><td>2006-07-12T12:20:59</td><td>85</td><td>119/88</td><td>96</td></tr><tr><td>69</td><td>1985-09-26T07:23:39</td><td>83</td><td>101/72</td><td>95</td></tr><tr><td>21</td><td>2024-10-01T05:16:48</td><td>116</td><td>100/90</td><td>90</td></tr><tr><td>19</td><td>2020-08-14T23:00:50</td><td>79</td><td>100/78</td><td>97</td></tr><tr><td>23</td><td>1976-07-09T06:32:10</td><td>82</td><td>116/71</td><td>95</td></tr><tr><td>41</td><td>2014-08-30T16:54:35</td><td>88</td><td>137/65</td><td>99</td></tr><tr><td>51</td><td>2000-05-20T16:32:12</td><td>118</td><td>131/66</td><td>91</td></tr><tr><td>78</td><td>1978-07-08T11:20:17</td><td>90</td><td>113/65</td><td>94</td></tr><tr><td>72</td><td>1990-02-27T17:49:51</td><td>76</td><td>116/72</td><td>95</td></tr><tr><td>51</td><td>2014-08-21T12:58:02</td><td>103</td><td>129/89</td><td>93</td></tr><tr><td>85</td><td>1992-08-04T00:26:25</td><td>78</td><td>116/82</td><td>94</td></tr><tr><td>96</td><td>1991-05-28T19:07:36</td><td>81</td><td>134/73</td><td>99</td></tr><tr><td>72</td><td>1998-09-24T18:27:59</td><td>111</td><td>103/61</td><td>97</td></tr><tr><td>72</td><td>2004-01-15T23:34:53</td><td>85</td><td>131/73</td><td>97</td></tr><tr><td>19</td><td>1991-06-01T18:37:41</td><td>88</td><td>119/70</td><td>94</td></tr><tr><td>36</td><td>2004-02-12T23:09:58</td><td>92</td><td>116/82</td><td>99</td></tr><tr><td>43</td><td>2002-06-24T11:40:26</td><td>84</td><td>122/73</td><td>97</td></tr><tr><td>41</td><td>2006-11-05T02:47:28</td><td>81</td><td>129/84</td><td>97</td></tr><tr><td>27</td><td>2020-04-01T20:19:08</td><td>111</td><td>93/81</td><td>91</td></tr><tr><td>66</td><td>2021-05-06T22:52:48</td><td>87</td><td>102/64</td><td>91</td></tr><tr><td>78</td><td>2014-10-07T15:08:53</td><td>117</td><td>119/60</td><td>100</td></tr><tr><td>69</td><td>2008-01-14T03:27:55</td><td>102</td><td>113/62</td><td>91</td></tr><tr><td>6</td><td>1990-07-01T23:10:25</td><td>86</td><td>101/69</td><td>99</td></tr><tr><td>35</td><td>1975-10-10T23:38:06</td><td>118</td><td>118/62</td><td>100</td></tr><tr><td>72</td><td>2016-04-07T02:29:04</td><td>108</td><td>90/86</td><td>93</td></tr><tr><td>24</td><td>2018-10-17T06:47:20</td><td>118</td><td>116/66</td><td>90</td></tr><tr><td>88</td><td>1976-03-15T19:44:10</td><td>77</td><td>101/62</td><td>96</td></tr><tr><td>6</td><td>2016-09-17T01:18:23</td><td>84</td><td>130/64</td><td>91</td></tr><tr><td>72</td><td>2022-01-29T09:27:14</td><td>100</td><td>126/84</td><td>99</td></tr><tr><td>78</td><td>2020-11-29T07:06:39</td><td>81</td><td>108/75</td><td>94</td></tr><tr><td>23</td><td>1972-05-08T22:11:49</td><td>115</td><td>130/90</td><td>91</td></tr><tr><td>35</td><td>1978-10-15T14:13:26</td><td>100</td><td>117/87</td><td>97</td></tr><tr><td>88</td><td>2009-07-03T21:23:00</td><td>97</td><td>130/70</td><td>92</td></tr><tr><td>28</td><td>1998-06-28T19:41:20</td><td>115</td><td>112/72</td><td>97</td></tr><tr><td>85</td><td>2014-06-02T22:29:51</td><td>110</td><td>100/79</td><td>94</td></tr><tr><td>6</td><td>2020-03-01T10:18:52</td><td>98</td><td>115/87</td><td>94</td></tr><tr><td>72</td><td>2024-04-19T05:32:05</td><td>87</td><td>118/83</td><td>95</td></tr><tr><td>72</td><td>2008-08-31T19:28:50</td><td>65</td><td>111/88</td><td>96</td></tr><tr><td>33</td><td>2004-04-25T15:00:17</td><td>116</td><td>107/73</td><td>95</td></tr><tr><td>6</td><td>1977-12-23T08:50:30</td><td>62</td><td>119/82</td><td>95</td></tr><tr><td>30</td><td>2001-02-05T19:39:55</td><td>108</td><td>97/61</td><td>95</td></tr><tr><td>60</td><td>2024-11-04T00:04:57</td><td>82</td><td>121/80</td><td>91</td></tr><tr><td>60</td><td>1974-04-03T09:06:04</td><td>74</td><td>137/82</td><td>99</td></tr><tr><td>30</td><td>1975-06-16T08:20:20</td><td>102</td><td>111/85</td><td>96</td></tr><tr><td>36</td><td>1993-04-01T18:10:59</td><td>105</td><td>93/66</td><td>98</td></tr><tr><td>72</td><td>1977-12-08T07:02:20</td><td>100</td><td>102/83</td><td>98</td></tr><tr><td>36</td><td>1985-01-30T14:24:51</td><td>65</td><td>139/86</td><td>90</td></tr><tr><td>69</td><td>2006-08-22T07:19:22</td><td>61</td><td>111/77</td><td>90</td></tr><tr><td>77</td><td>2022-03-14T02:25:26</td><td>118</td><td>112/67</td><td>95</td></tr><tr><td>63</td><td>1995-10-21T23:34:13</td><td>66</td><td>93/79</td><td>96</td></tr><tr><td>6</td><td>1998-05-12T01:42:07</td><td>85</td><td>96/69</td><td>93</td></tr><tr><td>41</td><td>1974-05-23T20:25:44</td><td>107</td><td>100/63</td><td>93</td></tr><tr><td>88</td><td>2010-06-02T07:00:31</td><td>75</td><td>124/73</td><td>95</td></tr><tr><td>23</td><td>2024-07-08T18:33:41</td><td>74</td><td>107/62</td><td>91</td></tr><tr><td>85</td><td>1985-10-29T12:31:28</td><td>118</td><td>130/77</td><td>96</td></tr><tr><td>88</td><td>1999-12-23T21:43:01</td><td>119</td><td>133/71</td><td>95</td></tr></tbody></table></div>"
      ]
     },
     "metadata": {
      "application/vnd.databricks.v1+output": {
       "addedWidgets": {},
       "aggData": [],
       "aggError": "",
       "aggOverflow": false,
       "aggSchema": [],
       "aggSeriesLimitReached": false,
       "aggType": "",
       "arguments": {},
       "columnCustomDisplayInfos": {},
       "data": [
        [
         96,
         "2024-03-11T15:58:39",
         118,
         "98/85",
         91
        ],
        [
         72,
         "2003-10-10T17:15:28",
         109,
         "127/71",
         94
        ],
        [
         78,
         "2001-10-27T13:48:13",
         94,
         "110/90",
         90
        ],
        [
         77,
         "1993-06-06T14:04:50",
         90,
         "104/79",
         93
        ],
        [
         88,
         "1970-12-04T00:10:01",
         61,
         "120/71",
         90
        ],
        [
         21,
         "2012-11-14T11:37:19",
         79,
         "111/90",
         97
        ],
        [
         63,
         "1970-04-21T20:57:43",
         60,
         "94/68",
         91
        ],
        [
         36,
         "2023-02-27T16:39:35",
         102,
         "131/72",
         94
        ],
        [
         85,
         "1995-09-03T03:36:24",
         105,
         "130/62",
         91
        ],
        [
         35,
         "1976-07-20T02:01:41",
         111,
         "90/67",
         96
        ],
        [
         6,
         "1979-12-24T00:31:37",
         80,
         "97/84",
         92
        ],
        [
         27,
         "2023-10-03T14:25:54",
         116,
         "92/70",
         97
        ],
        [
         24,
         "2016-11-27T04:01:51",
         113,
         "113/66",
         97
        ],
        [
         88,
         "1993-11-14T17:50:26",
         74,
         "92/75",
         96
        ],
        [
         43,
         "2013-06-16T16:51:17",
         88,
         "127/68",
         91
        ],
        [
         43,
         "1976-04-30T14:41:07",
         116,
         "99/74",
         90
        ],
        [
         96,
         "2016-02-29T20:50:22",
         85,
         "93/89",
         99
        ],
        [
         6,
         "1981-02-02T18:38:18",
         97,
         "138/81",
         93
        ],
        [
         72,
         "1998-07-30T18:47:18",
         103,
         "112/89",
         97
        ],
        [
         6,
         "2013-05-15T22:11:49",
         82,
         "130/83",
         91
        ],
        [
         69,
         "1979-07-21T19:04:16",
         104,
         "93/75",
         90
        ],
        [
         27,
         "1985-06-06T23:18:30",
         114,
         "134/79",
         98
        ],
        [
         72,
         "2006-12-13T03:02:59",
         73,
         "104/64",
         92
        ],
        [
         77,
         "2013-03-16T18:34:09",
         101,
         "125/81",
         97
        ],
        [
         59,
         "2013-08-14T18:19:35",
         82,
         "107/84",
         92
        ],
        [
         51,
         "1971-10-12T10:05:39",
         68,
         "119/86",
         97
        ],
        [
         69,
         "1981-09-16T22:58:49",
         96,
         "93/85",
         98
        ],
        [
         72,
         "1976-05-30T10:37:31",
         90,
         "125/85",
         94
        ],
        [
         35,
         "2017-02-27T13:10:22",
         93,
         "104/75",
         98
        ],
        [
         21,
         "2012-12-02T16:08:55",
         99,
         "128/73",
         95
        ],
        [
         41,
         "2013-12-03T12:44:35",
         107,
         "124/79",
         100
        ],
        [
         43,
         "2004-04-16T01:52:24",
         110,
         "134/74",
         98
        ],
        [
         35,
         "2023-04-17T09:17:52",
         101,
         "92/73",
         90
        ],
        [
         60,
         "1991-07-02T04:00:02",
         117,
         "91/70",
         99
        ],
        [
         27,
         "2017-07-27T09:00:40",
         101,
         "128/78",
         95
        ],
        [
         19,
         "2014-12-25T15:55:42",
         61,
         "91/60",
         97
        ],
        [
         19,
         "1984-11-11T13:30:46",
         99,
         "118/68",
         92
        ],
        [
         59,
         "2000-06-07T15:57:06",
         93,
         "112/61",
         97
        ],
        [
         63,
         "2001-03-06T01:40:24",
         120,
         "133/73",
         99
        ],
        [
         77,
         "1982-03-18T15:34:41",
         64,
         "135/72",
         99
        ],
        [
         6,
         "1996-03-16T16:44:47",
         112,
         "131/72",
         90
        ],
        [
         72,
         "2001-03-15T11:42:33",
         65,
         "138/68",
         93
        ],
        [
         96,
         "2010-01-15T23:59:34",
         63,
         "120/72",
         92
        ],
        [
         23,
         "1979-07-25T17:27:08",
         91,
         "109/80",
         99
        ],
        [
         72,
         "2020-01-18T11:23:52",
         102,
         "105/89",
         98
        ],
        [
         41,
         "1985-03-20T01:14:14",
         75,
         "111/64",
         100
        ],
        [
         88,
         "1993-05-07T13:39:09",
         111,
         "111/61",
         90
        ],
        [
         21,
         "2024-02-19T19:09:23",
         92,
         "107/81",
         93
        ],
        [
         6,
         "1975-12-09T21:11:34",
         64,
         "100/70",
         99
        ],
        [
         66,
         "2021-12-25T03:18:49",
         95,
         "107/88",
         90
        ],
        [
         77,
         "2011-10-27T17:23:23",
         62,
         "124/86",
         97
        ],
        [
         63,
         "1976-06-21T02:07:44",
         95,
         "98/78",
         99
        ],
        [
         69,
         "1994-03-31T15:45:11",
         103,
         "94/88",
         98
        ],
        [
         36,
         "1977-01-11T00:13:02",
         78,
         "138/72",
         95
        ],
        [
         51,
         "2007-07-15T15:54:20",
         91,
         "91/60",
         97
        ],
        [
         60,
         "2003-05-26T22:29:51",
         88,
         "98/62",
         96
        ],
        [
         60,
         "1977-09-10T11:40:14",
         100,
         "104/67",
         90
        ],
        [
         27,
         "2000-09-06T18:15:23",
         64,
         "117/81",
         96
        ],
        [
         19,
         "2011-05-16T21:54:48",
         85,
         "140/90",
         99
        ],
        [
         36,
         "1999-02-23T16:43:52",
         67,
         "132/83",
         95
        ],
        [
         35,
         "1988-10-05T02:13:45",
         81,
         "96/80",
         100
        ],
        [
         72,
         "2024-01-01T18:02:28",
         99,
         "120/87",
         90
        ],
        [
         33,
         "1999-09-18T23:07:03",
         115,
         "120/84",
         100
        ],
        [
         21,
         "2014-01-19T03:49:04",
         97,
         "96/61",
         92
        ],
        [
         66,
         "2003-01-26T04:28:09",
         60,
         "115/68",
         96
        ],
        [
         77,
         "1975-05-04T05:31:57",
         111,
         "93/69",
         91
        ],
        [
         30,
         "1989-11-18T16:23:01",
         92,
         "115/64",
         94
        ],
        [
         72,
         "1982-07-21T00:50:30",
         95,
         "116/71",
         91
        ],
        [
         33,
         "1997-09-26T17:51:24",
         90,
         "134/79",
         96
        ],
        [
         78,
         "1986-01-08T12:42:29",
         79,
         "116/77",
         90
        ],
        [
         77,
         "1970-01-26T15:45:00",
         118,
         "118/62",
         92
        ],
        [
         28,
         "1972-03-25T07:54:53",
         68,
         "100/90",
         95
        ],
        [
         21,
         "2025-05-16T19:56:28",
         96,
         "130/65",
         96
        ],
        [
         35,
         "1996-01-28T21:15:26",
         85,
         "121/69",
         91
        ],
        [
         88,
         "2017-10-06T05:50:55",
         78,
         "137/87",
         98
        ],
        [
         28,
         "1998-07-14T17:32:39",
         85,
         "114/87",
         96
        ],
        [
         21,
         "1993-10-17T04:52:32",
         88,
         "122/75",
         98
        ],
        [
         21,
         "1980-11-04T09:54:33",
         112,
         "115/87",
         96
        ],
        [
         28,
         "1986-05-02T16:16:39",
         60,
         "109/66",
         97
        ],
        [
         43,
         "2001-09-15T08:04:41",
         102,
         "140/64",
         100
        ],
        [
         21,
         "1994-08-07T03:53:15",
         62,
         "116/88",
         100
        ],
        [
         23,
         "1976-10-14T03:11:15",
         67,
         "126/76",
         93
        ],
        [
         41,
         "2008-07-11T23:26:29",
         64,
         "116/79",
         99
        ],
        [
         69,
         "1984-12-05T08:10:54",
         80,
         "92/87",
         96
        ],
        [
         41,
         "1985-12-15T06:59:18",
         104,
         "119/85",
         95
        ],
        [
         59,
         "1991-09-30T08:18:53",
         93,
         "97/74",
         95
        ],
        [
         6,
         "2006-11-18T01:46:37",
         63,
         "91/63",
         90
        ],
        [
         21,
         "2025-04-05T13:51:59",
         102,
         "94/64",
         90
        ],
        [
         96,
         "1975-10-15T05:50:12",
         100,
         "101/85",
         95
        ],
        [
         63,
         "2012-09-26T01:34:31",
         107,
         "106/65",
         98
        ],
        [
         28,
         "1994-12-11T05:46:14",
         97,
         "139/61",
         90
        ],
        [
         51,
         "1973-06-29T22:12:55",
         108,
         "110/81",
         92
        ],
        [
         41,
         "2021-03-04T14:44:10",
         84,
         "102/85",
         90
        ],
        [
         85,
         "1995-01-24T01:47:40",
         61,
         "121/60",
         95
        ],
        [
         72,
         "1984-01-20T10:02:36",
         93,
         "102/77",
         98
        ],
        [
         78,
         "1973-07-16T13:50:25",
         90,
         "137/71",
         92
        ],
        [
         72,
         "1972-01-19T11:29:31",
         69,
         "98/60",
         92
        ],
        [
         96,
         "2009-09-18T08:18:38",
         95,
         "94/90",
         93
        ],
        [
         41,
         "1994-08-07T10:05:39",
         111,
         "93/84",
         92
        ],
        [
         33,
         "1974-02-04T16:20:43",
         62,
         "137/80",
         97
        ],
        [
         19,
         "1987-04-26T04:09:32",
         62,
         "123/75",
         99
        ],
        [
         51,
         "1998-05-11T04:34:27",
         117,
         "130/74",
         94
        ],
        [
         72,
         "1977-05-25T06:46:55",
         77,
         "109/74",
         98
        ],
        [
         60,
         "2020-12-08T06:58:48",
         115,
         "123/67",
         96
        ],
        [
         28,
         "1994-01-25T16:43:54",
         60,
         "133/80",
         92
        ],
        [
         27,
         "2010-10-08T21:38:07",
         75,
         "115/82",
         95
        ],
        [
         19,
         "2018-03-11T19:05:02",
         95,
         "106/69",
         98
        ],
        [
         30,
         "2001-09-23T01:34:14",
         83,
         "119/65",
         99
        ],
        [
         77,
         "1991-01-16T12:11:40",
         98,
         "107/89",
         94
        ],
        [
         51,
         "2007-09-14T10:07:09",
         104,
         "100/64",
         96
        ],
        [
         28,
         "2000-05-28T01:54:07",
         81,
         "114/70",
         100
        ],
        [
         28,
         "1974-08-23T08:07:29",
         107,
         "109/65",
         93
        ],
        [
         43,
         "1989-04-15T13:54:07",
         99,
         "110/67",
         90
        ],
        [
         85,
         "2013-04-26T09:22:49",
         87,
         "95/61",
         96
        ],
        [
         69,
         "1988-09-10T19:00:09",
         99,
         "120/85",
         94
        ],
        [
         60,
         "1981-05-09T10:17:55",
         72,
         "109/86",
         93
        ],
        [
         85,
         "1988-01-09T18:46:14",
         103,
         "116/76",
         96
        ],
        [
         60,
         "2014-01-16T04:52:53",
         111,
         "125/85",
         99
        ],
        [
         66,
         "1981-03-05T07:46:15",
         83,
         "118/88",
         91
        ],
        [
         19,
         "1982-10-06T23:14:17",
         99,
         "140/71",
         99
        ],
        [
         59,
         "1996-09-05T03:48:11",
         75,
         "105/66",
         90
        ],
        [
         6,
         "2023-04-02T03:06:37",
         78,
         "116/77",
         96
        ],
        [
         33,
         "1985-11-13T13:41:22",
         117,
         "108/78",
         97
        ],
        [
         72,
         "1990-08-16T11:24:53",
         96,
         "98/77",
         100
        ],
        [
         43,
         "1981-03-29T07:57:44",
         71,
         "120/65",
         94
        ],
        [
         63,
         "1974-01-08T01:54:27",
         92,
         "120/77",
         96
        ],
        [
         6,
         "1975-09-06T13:33:21",
         106,
         "128/75",
         93
        ],
        [
         63,
         "2007-06-19T02:42:43",
         74,
         "127/86",
         98
        ],
        [
         19,
         "1991-07-14T12:55:51",
         75,
         "97/85",
         99
        ],
        [
         69,
         "1999-07-07T20:54:13",
         67,
         "119/62",
         99
        ],
        [
         77,
         "2025-04-08T16:03:32",
         107,
         "101/62",
         100
        ],
        [
         51,
         "2011-10-25T08:36:24",
         91,
         "116/68",
         99
        ],
        [
         88,
         "1979-03-29T23:57:33",
         120,
         "127/75",
         97
        ],
        [
         77,
         "2025-04-01T23:14:26",
         78,
         "133/70",
         90
        ],
        [
         35,
         "1974-03-10T12:30:14",
         78,
         "130/83",
         94
        ],
        [
         23,
         "1984-07-08T01:20:02",
         88,
         "109/67",
         99
        ],
        [
         51,
         "1979-07-24T23:08:57",
         78,
         "125/87",
         93
        ],
        [
         96,
         "2025-03-15T11:17:31",
         105,
         "103/83",
         92
        ],
        [
         6,
         "2024-01-03T08:06:29",
         104,
         "91/73",
         98
        ],
        [
         63,
         "2021-05-02T16:12:01",
         67,
         "128/78",
         96
        ],
        [
         24,
         "1977-06-08T13:40:44",
         63,
         "98/61",
         91
        ],
        [
         23,
         "1978-03-15T09:31:01",
         66,
         "129/64",
         94
        ],
        [
         35,
         "2011-11-25T11:47:55",
         67,
         "116/73",
         100
        ],
        [
         41,
         "2000-11-22T06:59:37",
         80,
         "132/60",
         91
        ],
        [
         21,
         "1998-06-11T21:59:23",
         98,
         "133/78",
         94
        ],
        [
         43,
         "1974-11-14T09:19:16",
         118,
         "122/86",
         99
        ],
        [
         41,
         "2014-08-17T09:32:55",
         73,
         "114/63",
         94
        ],
        [
         59,
         "1976-02-28T02:49:59",
         106,
         "93/79",
         95
        ],
        [
         66,
         "2004-12-04T22:39:13",
         101,
         "122/81",
         97
        ],
        [
         23,
         "2021-12-26T20:46:43",
         84,
         "100/71",
         97
        ],
        [
         63,
         "1973-05-29T05:47:40",
         63,
         "97/85",
         92
        ],
        [
         78,
         "1992-07-23T08:18:46",
         64,
         "120/61",
         90
        ],
        [
         59,
         "1986-01-09T20:32:05",
         91,
         "130/83",
         90
        ],
        [
         19,
         "2002-04-30T20:12:49",
         79,
         "112/90",
         98
        ],
        [
         88,
         "2002-12-30T14:54:31",
         67,
         "128/60",
         98
        ],
        [
         66,
         "2020-01-25T17:36:28",
         98,
         "122/82",
         100
        ],
        [
         77,
         "2021-02-23T10:42:49",
         75,
         "116/77",
         90
        ],
        [
         59,
         "1994-02-01T14:22:25",
         70,
         "107/78",
         99
        ],
        [
         33,
         "2005-02-20T22:43:33",
         109,
         "125/85",
         92
        ],
        [
         78,
         "1987-06-05T11:07:54",
         109,
         "125/69",
         95
        ],
        [
         85,
         "1999-03-30T23:36:23",
         88,
         "113/65",
         98
        ],
        [
         33,
         "2002-04-12T23:39:23",
         80,
         "101/61",
         95
        ],
        [
         23,
         "2019-03-02T12:30:12",
         105,
         "114/65",
         94
        ],
        [
         78,
         "1991-01-25T20:57:18",
         105,
         "108/64",
         91
        ],
        [
         21,
         "1996-07-04T21:32:35",
         69,
         "120/62",
         90
        ],
        [
         77,
         "2004-02-13T12:06:32",
         65,
         "130/68",
         100
        ],
        [
         6,
         "1978-03-01T11:13:58",
         97,
         "125/86",
         98
        ],
        [
         88,
         "2020-04-06T09:17:25",
         73,
         "129/72",
         94
        ],
        [
         88,
         "2013-06-04T20:21:41",
         99,
         "92/77",
         98
        ],
        [
         21,
         "2020-02-19T18:49:38",
         105,
         "123/69",
         96
        ],
        [
         59,
         "1996-06-20T03:10:51",
         110,
         "107/72",
         95
        ],
        [
         28,
         "1973-11-12T03:06:36",
         97,
         "97/78",
         95
        ],
        [
         59,
         "1975-07-04T14:54:23",
         91,
         "113/68",
         94
        ],
        [
         60,
         "2010-05-12T23:02:10",
         108,
         "135/65",
         100
        ],
        [
         24,
         "1980-03-30T08:04:27",
         108,
         "105/77",
         90
        ],
        [
         28,
         "2003-04-22T14:49:50",
         82,
         "92/81",
         91
        ],
        [
         60,
         "2004-02-16T22:46:45",
         95,
         "137/72",
         100
        ],
        [
         6,
         "2012-07-25T22:42:41",
         98,
         "122/72",
         92
        ],
        [
         43,
         "1985-01-31T15:56:17",
         115,
         "129/86",
         100
        ],
        [
         72,
         "2016-01-12T05:07:53",
         81,
         "139/70",
         94
        ],
        [
         23,
         "2019-05-26T06:35:31",
         68,
         "138/80",
         94
        ],
        [
         28,
         "1981-08-23T02:12:06",
         119,
         "121/81",
         93
        ],
        [
         88,
         "1975-05-31T06:25:01",
         99,
         "102/68",
         91
        ],
        [
         78,
         "1981-06-20T08:16:16",
         92,
         "101/90",
         94
        ],
        [
         30,
         "1992-05-26T02:11:25",
         76,
         "140/70",
         92
        ],
        [
         19,
         "2004-10-30T21:38:56",
         101,
         "120/72",
         99
        ],
        [
         66,
         "1999-12-01T07:58:22",
         77,
         "103/84",
         94
        ],
        [
         28,
         "1972-03-16T01:21:22",
         117,
         "93/64",
         94
        ],
        [
         35,
         "1977-09-27T11:44:31",
         112,
         "139/69",
         99
        ],
        [
         6,
         "1998-06-27T13:27:37",
         76,
         "91/89",
         97
        ],
        [
         66,
         "1980-10-31T14:14:55",
         74,
         "120/75",
         98
        ],
        [
         66,
         "1991-11-28T19:46:09",
         103,
         "140/62",
         94
        ],
        [
         60,
         "2017-02-05T00:37:07",
         102,
         "96/80",
         92
        ],
        [
         19,
         "2015-07-15T02:41:36",
         106,
         "91/77",
         94
        ],
        [
         96,
         "1983-01-22T09:30:49",
         106,
         "111/75",
         97
        ],
        [
         23,
         "2010-12-21T12:15:45",
         102,
         "105/87",
         100
        ],
        [
         63,
         "1990-08-04T15:00:23",
         84,
         "131/77",
         94
        ],
        [
         85,
         "1977-07-03T20:23:24",
         70,
         "117/83",
         90
        ],
        [
         69,
         "1978-01-17T15:33:24",
         72,
         "99/87",
         91
        ],
        [
         33,
         "1993-02-07T08:13:15",
         103,
         "135/77",
         91
        ],
        [
         69,
         "1990-05-27T04:57:35",
         80,
         "91/84",
         90
        ],
        [
         19,
         "1993-10-31T19:05:31",
         101,
         "138/84",
         93
        ],
        [
         41,
         "2024-10-08T16:39:18",
         61,
         "134/67",
         99
        ],
        [
         21,
         "2024-04-19T09:53:06",
         104,
         "100/74",
         100
        ],
        [
         96,
         "1979-12-01T05:58:39",
         77,
         "91/90",
         92
        ],
        [
         27,
         "1996-11-22T19:18:38",
         75,
         "125/86",
         98
        ],
        [
         96,
         "2003-09-30T03:48:19",
         77,
         "115/70",
         95
        ],
        [
         69,
         "1989-10-31T07:49:21",
         62,
         "108/85",
         99
        ],
        [
         77,
         "1978-08-22T02:11:11",
         62,
         "121/61",
         96
        ],
        [
         66,
         "1976-01-07T07:17:53",
         110,
         "132/85",
         91
        ],
        [
         72,
         "2016-12-09T05:01:46",
         66,
         "114/62",
         98
        ],
        [
         28,
         "2022-02-23T13:32:58",
         87,
         "95/79",
         90
        ],
        [
         51,
         "2005-08-17T00:46:29",
         68,
         "130/89",
         93
        ],
        [
         88,
         "2013-02-16T20:10:41",
         99,
         "137/61",
         92
        ],
        [
         88,
         "1976-11-07T12:30:24",
         102,
         "95/73",
         98
        ],
        [
         60,
         "2023-07-06T13:24:51",
         70,
         "134/75",
         97
        ],
        [
         88,
         "1986-03-21T14:25:30",
         61,
         "127/76",
         97
        ],
        [
         19,
         "1974-06-16T11:39:03",
         68,
         "136/77",
         98
        ],
        [
         33,
         "2022-09-22T07:10:49",
         91,
         "102/83",
         98
        ],
        [
         27,
         "2025-01-26T15:40:20",
         111,
         "132/83",
         99
        ],
        [
         77,
         "2003-09-06T03:36:48",
         87,
         "133/84",
         97
        ],
        [
         66,
         "2012-06-05T18:11:34",
         63,
         "117/62",
         98
        ],
        [
         72,
         "1999-03-17T06:46:40",
         114,
         "93/67",
         93
        ],
        [
         41,
         "1995-08-01T10:15:55",
         98,
         "119/89",
         98
        ],
        [
         33,
         "1989-11-25T08:00:19",
         68,
         "111/73",
         97
        ],
        [
         30,
         "1975-09-18T17:36:23",
         116,
         "136/78",
         98
        ],
        [
         96,
         "1996-11-07T16:08:00",
         81,
         "138/89",
         96
        ],
        [
         72,
         "1985-07-13T04:26:53",
         101,
         "127/62",
         90
        ],
        [
         69,
         "1987-05-15T16:10:02",
         70,
         "125/61",
         99
        ],
        [
         77,
         "2010-04-25T04:41:39",
         82,
         "121/90",
         91
        ],
        [
         69,
         "2006-12-06T16:12:29",
         103,
         "104/65",
         100
        ],
        [
         35,
         "1977-06-28T02:54:15",
         69,
         "131/66",
         100
        ],
        [
         35,
         "2024-01-24T05:51:18",
         110,
         "115/61",
         96
        ],
        [
         23,
         "2001-11-08T08:39:57",
         88,
         "120/74",
         92
        ],
        [
         43,
         "2020-08-27T02:57:50",
         119,
         "119/75",
         100
        ],
        [
         30,
         "2020-07-23T19:04:32",
         111,
         "137/60",
         98
        ],
        [
         19,
         "1986-06-24T13:03:40",
         79,
         "129/90",
         99
        ],
        [
         27,
         "2003-12-16T23:23:59",
         85,
         "134/63",
         92
        ],
        [
         72,
         "2017-08-28T05:29:46",
         97,
         "109/62",
         99
        ],
        [
         43,
         "1991-07-18T13:00:26",
         109,
         "136/75",
         94
        ],
        [
         33,
         "1976-03-25T11:27:27",
         90,
         "118/77",
         96
        ],
        [
         27,
         "2007-08-19T02:43:31",
         69,
         "115/83",
         92
        ],
        [
         66,
         "1993-07-26T03:06:32",
         84,
         "94/61",
         99
        ],
        [
         43,
         "1989-06-26T21:58:39",
         77,
         "114/79",
         100
        ],
        [
         21,
         "2003-08-13T21:45:49",
         113,
         "104/90",
         94
        ],
        [
         66,
         "1990-03-07T19:31:51",
         84,
         "103/88",
         93
        ],
        [
         33,
         "2006-05-29T01:46:14",
         96,
         "107/71",
         92
        ],
        [
         33,
         "1996-03-19T18:42:07",
         112,
         "112/88",
         95
        ],
        [
         41,
         "1989-07-27T05:45:25",
         84,
         "138/62",
         92
        ],
        [
         88,
         "1995-03-28T18:17:12",
         98,
         "105/88",
         98
        ],
        [
         85,
         "1986-11-06T08:09:28",
         89,
         "120/61",
         94
        ],
        [
         36,
         "1995-05-11T08:17:33",
         78,
         "135/60",
         98
        ],
        [
         60,
         "1986-10-18T19:26:47",
         71,
         "92/77",
         97
        ],
        [
         24,
         "2015-02-26T09:07:10",
         112,
         "94/66",
         96
        ],
        [
         85,
         "1997-09-12T16:22:09",
         118,
         "121/73",
         99
        ],
        [
         88,
         "2019-07-10T13:13:08",
         70,
         "93/64",
         94
        ],
        [
         77,
         "1981-07-27T04:11:52",
         110,
         "121/68",
         98
        ],
        [
         19,
         "1999-08-05T01:07:50",
         105,
         "94/83",
         92
        ],
        [
         6,
         "2015-04-01T17:51:49",
         97,
         "128/69",
         93
        ],
        [
         77,
         "2017-07-13T00:19:52",
         96,
         "121/88",
         97
        ],
        [
         78,
         "2014-09-23T12:35:30",
         97,
         "136/67",
         93
        ],
        [
         77,
         "1991-08-29T07:38:07",
         79,
         "102/78",
         96
        ],
        [
         27,
         "2009-06-20T20:00:43",
         78,
         "104/90",
         100
        ],
        [
         59,
         "1981-11-04T10:43:43",
         63,
         "113/79",
         91
        ],
        [
         85,
         "2011-01-08T23:31:42",
         105,
         "99/79",
         94
        ],
        [
         60,
         "1973-03-03T12:44:34",
         117,
         "113/90",
         98
        ],
        [
         23,
         "2007-02-05T01:33:33",
         82,
         "117/85",
         100
        ],
        [
         66,
         "1978-11-29T17:53:33",
         113,
         "133/84",
         91
        ],
        [
         72,
         "2017-10-20T11:51:26",
         67,
         "138/71",
         98
        ],
        [
         19,
         "1971-10-15T06:41:51",
         99,
         "136/63",
         96
        ],
        [
         51,
         "1976-04-21T08:23:42",
         78,
         "98/60",
         94
        ],
        [
         96,
         "2013-05-13T09:52:40",
         71,
         "106/85",
         97
        ],
        [
         21,
         "2013-07-08T01:38:51",
         79,
         "112/60",
         93
        ],
        [
         27,
         "2022-06-10T21:28:51",
         94,
         "139/83",
         95
        ],
        [
         33,
         "2000-07-19T21:07:25",
         61,
         "106/66",
         92
        ],
        [
         66,
         "1990-07-17T21:21:39",
         106,
         "140/65",
         97
        ],
        [
         24,
         "2007-01-29T15:27:28",
         77,
         "138/61",
         97
        ],
        [
         69,
         "1973-12-17T01:07:39",
         117,
         "96/72",
         94
        ],
        [
         88,
         "2015-11-09T15:05:23",
         84,
         "101/61",
         91
        ],
        [
         66,
         "1988-12-26T19:32:59",
         85,
         "118/64",
         92
        ],
        [
         51,
         "1978-09-07T02:42:46",
         119,
         "93/61",
         90
        ],
        [
         59,
         "2012-04-21T21:30:44",
         82,
         "120/83",
         98
        ],
        [
         6,
         "1984-04-28T02:35:31",
         65,
         "117/74",
         94
        ],
        [
         51,
         "2022-04-24T02:15:07",
         71,
         "115/78",
         95
        ],
        [
         30,
         "1996-09-13T18:16:38",
         107,
         "127/84",
         96
        ],
        [
         66,
         "2005-08-06T02:26:19",
         61,
         "104/77",
         91
        ],
        [
         78,
         "1984-07-25T13:14:51",
         118,
         "97/73",
         94
        ],
        [
         24,
         "2002-07-29T01:53:18",
         69,
         "109/73",
         95
        ],
        [
         51,
         "2010-09-06T00:14:11",
         77,
         "98/88",
         94
        ],
        [
         69,
         "1992-08-07T02:17:55",
         74,
         "138/64",
         91
        ],
        [
         77,
         "1992-11-21T17:00:19",
         91,
         "109/75",
         99
        ],
        [
         51,
         "2021-08-26T11:46:49",
         118,
         "129/73",
         92
        ],
        [
         51,
         "2015-12-14T14:33:33",
         119,
         "107/76",
         98
        ],
        [
         96,
         "1971-01-07T07:16:32",
         107,
         "101/73",
         94
        ],
        [
         43,
         "2018-07-05T20:09:48",
         109,
         "125/90",
         97
        ],
        [
         43,
         "2024-11-23T18:05:32",
         104,
         "112/78",
         90
        ],
        [
         96,
         "2014-07-02T09:01:16",
         118,
         "97/71",
         97
        ],
        [
         59,
         "2013-04-24T01:17:14",
         94,
         "94/73",
         100
        ],
        [
         96,
         "2006-07-27T05:31:07",
         86,
         "93/76",
         99
        ],
        [
         19,
         "2023-03-02T03:02:28",
         65,
         "91/87",
         99
        ],
        [
         69,
         "1972-03-24T19:46:16",
         77,
         "110/87",
         99
        ],
        [
         51,
         "2020-09-14T09:47:29",
         79,
         "121/79",
         97
        ],
        [
         77,
         "2017-10-24T11:08:24",
         109,
         "140/80",
         91
        ],
        [
         41,
         "2013-05-10T00:54:04",
         98,
         "106/69",
         100
        ],
        [
         96,
         "1974-11-18T03:29:35",
         84,
         "134/68",
         93
        ],
        [
         77,
         "1971-04-02T22:49:24",
         64,
         "98/74",
         99
        ],
        [
         41,
         "2016-01-08T05:39:31",
         115,
         "138/69",
         97
        ],
        [
         96,
         "1984-12-09T17:13:46",
         70,
         "91/70",
         98
        ],
        [
         24,
         "1976-05-12T06:14:35",
         72,
         "129/63",
         99
        ],
        [
         23,
         "2001-03-29T06:08:46",
         104,
         "122/69",
         99
        ],
        [
         59,
         "1978-01-05T17:05:15",
         96,
         "111/83",
         100
        ],
        [
         21,
         "1985-03-30T10:50:32",
         118,
         "91/70",
         90
        ],
        [
         21,
         "2020-12-11T17:20:53",
         119,
         "90/67",
         95
        ],
        [
         78,
         "2003-03-18T03:27:30",
         93,
         "122/78",
         95
        ],
        [
         43,
         "2012-09-12T15:11:49",
         60,
         "108/62",
         99
        ],
        [
         35,
         "1983-05-28T20:42:22",
         92,
         "116/67",
         100
        ],
        [
         69,
         "2011-03-13T14:43:31",
         90,
         "126/61",
         91
        ],
        [
         28,
         "1974-12-03T19:28:48",
         83,
         "119/84",
         99
        ],
        [
         6,
         "1976-10-27T21:46:51",
         71,
         "126/76",
         96
        ],
        [
         85,
         "1971-10-08T08:10:31",
         99,
         "106/69",
         93
        ],
        [
         27,
         "2016-02-20T05:43:28",
         60,
         "113/77",
         90
        ],
        [
         27,
         "1988-07-31T12:13:29",
         119,
         "91/81",
         91
        ],
        [
         30,
         "1998-07-21T09:16:48",
         116,
         "132/82",
         96
        ],
        [
         72,
         "1993-05-28T11:02:23",
         100,
         "94/76",
         96
        ],
        [
         63,
         "1994-02-26T22:31:34",
         120,
         "95/81",
         96
        ],
        [
         63,
         "1995-10-09T18:04:05",
         103,
         "107/79",
         91
        ],
        [
         69,
         "2005-12-03T23:51:43",
         63,
         "136/85",
         91
        ],
        [
         28,
         "2009-07-31T18:02:24",
         94,
         "122/80",
         99
        ],
        [
         66,
         "2006-12-09T00:31:42",
         77,
         "97/89",
         99
        ],
        [
         59,
         "2009-03-11T21:45:59",
         74,
         "122/77",
         95
        ],
        [
         27,
         "2012-07-10T06:24:35",
         85,
         "127/60",
         95
        ],
        [
         21,
         "1983-03-05T12:46:24",
         88,
         "139/64",
         96
        ],
        [
         33,
         "2003-09-27T20:32:17",
         86,
         "119/81",
         95
        ],
        [
         41,
         "2024-03-19T22:02:40",
         67,
         "103/80",
         94
        ],
        [
         88,
         "2001-03-21T03:18:43",
         74,
         "104/75",
         97
        ],
        [
         72,
         "1991-04-14T20:41:34",
         60,
         "115/82",
         95
        ],
        [
         28,
         "1977-05-09T02:13:07",
         118,
         "93/65",
         99
        ],
        [
         41,
         "2014-10-22T01:46:54",
         67,
         "119/90",
         96
        ],
        [
         78,
         "2017-08-24T15:33:24",
         90,
         "130/66",
         99
        ],
        [
         23,
         "1982-08-07T23:03:12",
         106,
         "112/81",
         95
        ],
        [
         72,
         "2019-12-26T23:34:36",
         117,
         "97/78",
         94
        ],
        [
         66,
         "1989-08-15T08:05:24",
         74,
         "99/64",
         96
        ],
        [
         72,
         "1978-12-01T10:46:02",
         110,
         "121/68",
         91
        ],
        [
         27,
         "1988-09-25T14:16:10",
         118,
         "100/85",
         92
        ],
        [
         24,
         "2024-10-21T18:45:50",
         118,
         "136/85",
         92
        ],
        [
         35,
         "1990-01-24T23:24:23",
         111,
         "123/78",
         90
        ],
        [
         35,
         "2005-05-23T18:25:58",
         112,
         "125/66",
         97
        ],
        [
         27,
         "1988-05-05T14:21:16",
         105,
         "115/80",
         92
        ],
        [
         21,
         "1999-09-22T03:45:28",
         106,
         "130/64",
         95
        ],
        [
         6,
         "1992-08-22T04:12:49",
         69,
         "99/72",
         90
        ],
        [
         36,
         "2012-12-14T18:29:58",
         115,
         "101/89",
         97
        ],
        [
         6,
         "1984-01-19T17:28:14",
         68,
         "94/70",
         90
        ],
        [
         28,
         "1993-05-27T21:04:24",
         117,
         "113/70",
         100
        ],
        [
         85,
         "2025-05-17T14:34:40",
         83,
         "91/89",
         95
        ],
        [
         78,
         "2001-04-10T05:19:50",
         111,
         "126/84",
         90
        ],
        [
         77,
         "1984-11-15T00:57:46",
         71,
         "118/81",
         91
        ],
        [
         60,
         "1974-02-22T11:46:13",
         81,
         "96/69",
         91
        ],
        [
         24,
         "2005-11-20T00:29:27",
         67,
         "123/60",
         95
        ],
        [
         78,
         "1991-07-11T04:49:02",
         114,
         "110/70",
         93
        ],
        [
         66,
         "2009-03-02T12:50:36",
         65,
         "107/80",
         90
        ],
        [
         35,
         "1990-11-30T12:18:55",
         89,
         "121/67",
         97
        ],
        [
         77,
         "1979-04-07T09:44:04",
         86,
         "111/81",
         91
        ],
        [
         27,
         "1977-03-29T09:29:56",
         97,
         "131/70",
         90
        ],
        [
         19,
         "2006-11-25T20:37:55",
         104,
         "126/72",
         97
        ],
        [
         60,
         "2016-09-19T00:24:38",
         112,
         "93/82",
         95
        ],
        [
         66,
         "2022-03-26T02:09:35",
         96,
         "131/61",
         96
        ],
        [
         66,
         "2003-05-23T21:13:55",
         78,
         "116/89",
         100
        ],
        [
         35,
         "1986-06-15T13:28:06",
         77,
         "125/87",
         94
        ],
        [
         59,
         "2022-11-17T19:44:56",
         115,
         "108/77",
         97
        ],
        [
         85,
         "2002-09-17T14:49:32",
         68,
         "96/85",
         97
        ],
        [
         24,
         "1978-09-27T03:04:45",
         101,
         "121/60",
         94
        ],
        [
         60,
         "2010-06-19T14:56:24",
         60,
         "107/69",
         96
        ],
        [
         88,
         "1980-02-05T03:19:12",
         86,
         "92/65",
         93
        ],
        [
         23,
         "1974-04-25T04:57:25",
         103,
         "106/88",
         96
        ],
        [
         88,
         "1987-03-16T12:41:05",
         119,
         "93/70",
         95
        ],
        [
         21,
         "1998-03-02T06:33:39",
         64,
         "97/87",
         92
        ],
        [
         88,
         "2024-12-09T09:02:21",
         85,
         "105/68",
         97
        ],
        [
         77,
         "2004-03-03T16:55:59",
         118,
         "101/62",
         100
        ],
        [
         51,
         "1978-10-04T09:47:05",
         72,
         "119/71",
         94
        ],
        [
         78,
         "1988-10-25T20:05:34",
         70,
         "132/82",
         100
        ],
        [
         19,
         "2007-10-05T02:20:56",
         60,
         "107/68",
         95
        ],
        [
         19,
         "2013-05-23T20:03:18",
         110,
         "95/81",
         98
        ],
        [
         24,
         "2004-11-09T08:42:36",
         119,
         "124/68",
         94
        ],
        [
         63,
         "2012-07-24T05:59:59",
         63,
         "97/77",
         97
        ],
        [
         28,
         "1995-10-27T16:05:21",
         96,
         "105/65",
         97
        ],
        [
         88,
         "2015-02-04T01:51:22",
         81,
         "110/73",
         96
        ],
        [
         96,
         "1985-04-24T20:59:02",
         81,
         "102/61",
         96
        ],
        [
         28,
         "1989-05-02T23:36:29",
         84,
         "94/60",
         99
        ],
        [
         78,
         "2008-04-11T10:58:56",
         119,
         "102/72",
         99
        ],
        [
         88,
         "2013-01-13T01:25:38",
         76,
         "108/84",
         92
        ],
        [
         96,
         "2011-05-23T06:40:30",
         101,
         "107/71",
         90
        ],
        [
         77,
         "1986-10-16T14:45:39",
         96,
         "106/84",
         100
        ],
        [
         60,
         "1984-04-09T20:06:05",
         102,
         "118/75",
         99
        ],
        [
         51,
         "1991-05-05T19:38:52",
         86,
         "118/73",
         93
        ],
        [
         85,
         "2019-11-18T06:17:29",
         82,
         "98/88",
         100
        ],
        [
         88,
         "1993-06-22T23:12:33",
         95,
         "100/69",
         97
        ],
        [
         24,
         "2007-12-04T19:25:11",
         118,
         "116/77",
         92
        ],
        [
         43,
         "1971-11-24T17:03:46",
         68,
         "124/72",
         98
        ],
        [
         6,
         "1994-07-09T19:28:03",
         91,
         "138/80",
         96
        ],
        [
         60,
         "2022-06-07T17:13:13",
         86,
         "110/88",
         91
        ],
        [
         60,
         "2010-10-06T22:51:23",
         101,
         "129/71",
         100
        ],
        [
         69,
         "1972-02-11T00:32:01",
         92,
         "135/61",
         93
        ],
        [
         85,
         "1980-07-29T23:14:42",
         112,
         "101/78",
         97
        ],
        [
         36,
         "1989-02-11T01:00:38",
         115,
         "138/61",
         100
        ],
        [
         60,
         "1981-10-02T08:05:43",
         82,
         "104/68",
         100
        ],
        [
         60,
         "1990-09-08T05:46:32",
         64,
         "137/80",
         91
        ],
        [
         24,
         "2022-08-05T00:00:14",
         109,
         "108/63",
         98
        ],
        [
         60,
         "1989-01-19T09:33:41",
         87,
         "123/83",
         96
        ],
        [
         78,
         "1999-01-17T11:35:44",
         80,
         "105/62",
         98
        ],
        [
         43,
         "2012-01-29T20:57:48",
         86,
         "120/73",
         100
        ],
        [
         33,
         "1994-02-18T12:38:29",
         81,
         "124/88",
         100
        ],
        [
         21,
         "1972-03-30T08:36:32",
         109,
         "91/68",
         97
        ],
        [
         63,
         "1999-03-07T04:16:15",
         97,
         "99/75",
         96
        ],
        [
         23,
         "2003-08-11T14:57:11",
         99,
         "125/75",
         90
        ],
        [
         69,
         "2010-06-28T02:48:31",
         71,
         "134/88",
         96
        ],
        [
         88,
         "2023-12-14T03:33:48",
         89,
         "132/63",
         100
        ],
        [
         96,
         "1982-09-27T19:54:09",
         82,
         "129/73",
         96
        ],
        [
         96,
         "1983-06-05T15:31:26",
         106,
         "102/81",
         98
        ],
        [
         6,
         "1981-07-29T11:16:19",
         62,
         "106/62",
         90
        ],
        [
         35,
         "2013-07-07T00:50:17",
         66,
         "132/77",
         100
        ],
        [
         66,
         "2013-10-05T12:23:52",
         96,
         "99/69",
         99
        ],
        [
         24,
         "1984-06-07T11:59:27",
         113,
         "139/70",
         97
        ],
        [
         51,
         "2000-12-29T20:57:50",
         75,
         "128/86",
         92
        ],
        [
         51,
         "1987-10-14T22:47:55",
         84,
         "93/87",
         98
        ],
        [
         36,
         "1997-08-07T12:15:08",
         63,
         "126/90",
         97
        ],
        [
         33,
         "1975-12-23T14:29:40",
         102,
         "95/90",
         96
        ],
        [
         77,
         "2022-03-13T13:59:46",
         65,
         "97/77",
         91
        ],
        [
         27,
         "2024-05-21T16:13:30",
         109,
         "117/83",
         96
        ],
        [
         24,
         "2025-04-11T22:49:34",
         112,
         "110/77",
         99
        ],
        [
         33,
         "2008-03-06T00:04:02",
         61,
         "102/61",
         98
        ],
        [
         30,
         "1986-06-08T06:01:43",
         85,
         "135/71",
         100
        ],
        [
         69,
         "1983-02-06T07:19:06",
         82,
         "92/61",
         93
        ],
        [
         78,
         "2014-08-11T07:38:24",
         107,
         "109/76",
         98
        ],
        [
         78,
         "2002-06-14T03:20:43",
         67,
         "117/82",
         100
        ],
        [
         27,
         "2025-05-02T10:10:52",
         61,
         "107/82",
         100
        ],
        [
         85,
         "2005-03-04T10:20:43",
         100,
         "139/64",
         92
        ],
        [
         27,
         "2004-10-16T19:51:14",
         117,
         "129/78",
         96
        ],
        [
         27,
         "2021-11-08T16:50:19",
         86,
         "110/85",
         97
        ],
        [
         33,
         "1990-10-03T15:31:19",
         87,
         "122/84",
         92
        ],
        [
         59,
         "1998-04-09T01:16:55",
         95,
         "132/86",
         93
        ],
        [
         6,
         "1975-08-26T21:17:08",
         91,
         "102/67",
         96
        ],
        [
         41,
         "1981-01-26T17:24:50",
         73,
         "126/88",
         95
        ],
        [
         21,
         "1982-01-22T10:36:51",
         110,
         "94/90",
         92
        ],
        [
         30,
         "2004-02-02T06:54:17",
         104,
         "129/70",
         94
        ],
        [
         6,
         "1975-12-24T22:18:03",
         120,
         "125/75",
         90
        ],
        [
         27,
         "1987-07-02T20:54:56",
         113,
         "101/72",
         98
        ],
        [
         60,
         "2023-06-30T10:38:53",
         72,
         "91/71",
         91
        ],
        [
         24,
         "1982-01-18T05:38:13",
         115,
         "139/82",
         97
        ],
        [
         30,
         "2007-07-16T08:51:07",
         68,
         "96/61",
         96
        ],
        [
         51,
         "2014-04-12T18:02:43",
         99,
         "95/85",
         96
        ],
        [
         24,
         "1987-11-22T03:27:57",
         78,
         "135/85",
         100
        ],
        [
         43,
         "1991-03-02T22:25:12",
         99,
         "111/70",
         95
        ],
        [
         21,
         "2007-05-16T14:14:45",
         105,
         "140/84",
         100
        ],
        [
         41,
         "2021-01-17T04:42:47",
         84,
         "133/85",
         92
        ],
        [
         33,
         "1988-10-07T14:24:03",
         101,
         "138/86",
         93
        ],
        [
         85,
         "2020-03-30T16:14:39",
         101,
         "123/66",
         95
        ],
        [
         78,
         "1970-08-12T15:38:15",
         88,
         "93/69",
         94
        ],
        [
         33,
         "2003-03-02T05:12:16",
         78,
         "134/67",
         97
        ],
        [
         43,
         "2001-11-22T19:12:43",
         110,
         "117/88",
         95
        ],
        [
         24,
         "1997-11-12T13:03:58",
         84,
         "107/78",
         91
        ],
        [
         24,
         "1994-10-06T13:26:21",
         81,
         "111/77",
         91
        ],
        [
         59,
         "1982-12-24T23:29:22",
         86,
         "115/75",
         97
        ],
        [
         78,
         "2013-05-24T21:47:31",
         64,
         "106/80",
         98
        ],
        [
         24,
         "2025-03-09T06:24:05",
         75,
         "93/80",
         95
        ],
        [
         36,
         "1987-09-17T01:09:52",
         95,
         "117/87",
         98
        ],
        [
         35,
         "2011-02-14T21:31:51",
         93,
         "131/68",
         94
        ],
        [
         21,
         "1974-02-04T12:57:58",
         78,
         "92/87",
         100
        ],
        [
         66,
         "1979-01-10T12:15:54",
         95,
         "125/77",
         90
        ],
        [
         88,
         "1992-11-11T21:45:32",
         65,
         "98/64",
         97
        ],
        [
         41,
         "1992-08-20T03:17:12",
         95,
         "113/74",
         95
        ],
        [
         24,
         "2013-10-15T00:38:25",
         86,
         "107/77",
         90
        ],
        [
         85,
         "1995-09-23T13:42:37",
         86,
         "95/65",
         96
        ],
        [
         28,
         "2012-06-11T02:00:33",
         107,
         "119/88",
         90
        ],
        [
         21,
         "1978-05-15T12:26:14",
         90,
         "132/71",
         99
        ],
        [
         36,
         "1982-09-10T19:22:03",
         97,
         "95/60",
         95
        ],
        [
         72,
         "1990-10-25T08:52:47",
         76,
         "98/85",
         96
        ],
        [
         63,
         "2024-07-08T22:16:07",
         77,
         "133/62",
         92
        ],
        [
         24,
         "1978-12-13T16:22:50",
         88,
         "98/68",
         92
        ],
        [
         88,
         "2014-08-01T07:38:20",
         87,
         "136/90",
         99
        ],
        [
         72,
         "1980-10-07T00:29:51",
         95,
         "134/68",
         92
        ],
        [
         51,
         "1988-12-14T08:41:06",
         101,
         "126/64",
         98
        ],
        [
         36,
         "1992-03-30T09:54:46",
         113,
         "126/70",
         90
        ],
        [
         77,
         "2021-05-25T04:54:26",
         75,
         "112/87",
         92
        ],
        [
         35,
         "2018-03-15T15:16:17",
         91,
         "137/63",
         91
        ],
        [
         23,
         "1975-12-01T10:04:18",
         62,
         "137/74",
         93
        ],
        [
         63,
         "2020-02-02T15:27:58",
         92,
         "128/75",
         98
        ],
        [
         60,
         "1972-12-29T16:50:16",
         78,
         "103/85",
         90
        ],
        [
         41,
         "1987-01-30T04:08:13",
         70,
         "124/79",
         97
        ],
        [
         66,
         "2020-12-31T08:49:04",
         102,
         "115/84",
         97
        ],
        [
         6,
         "1996-11-19T06:18:11",
         94,
         "101/66",
         93
        ],
        [
         60,
         "2021-09-15T21:15:51",
         104,
         "119/61",
         96
        ],
        [
         36,
         "2007-01-23T22:48:43",
         106,
         "119/81",
         93
        ],
        [
         60,
         "1992-06-16T11:27:45",
         111,
         "134/73",
         91
        ],
        [
         33,
         "2000-09-08T07:37:31",
         69,
         "116/74",
         94
        ],
        [
         35,
         "2000-06-27T10:11:44",
         110,
         "132/75",
         99
        ],
        [
         35,
         "1976-06-10T20:46:13",
         70,
         "92/90",
         92
        ],
        [
         63,
         "2011-08-13T07:15:05",
         65,
         "113/84",
         93
        ],
        [
         30,
         "1995-05-13T23:31:56",
         81,
         "135/87",
         90
        ],
        [
         23,
         "2014-03-08T18:25:10",
         118,
         "103/80",
         96
        ],
        [
         28,
         "1977-06-17T09:41:10",
         75,
         "137/87",
         92
        ],
        [
         27,
         "2018-08-08T20:47:22",
         82,
         "95/70",
         90
        ],
        [
         69,
         "2016-06-18T14:48:07",
         60,
         "96/80",
         90
        ],
        [
         51,
         "2020-10-05T18:26:49",
         66,
         "133/85",
         95
        ],
        [
         41,
         "1971-09-27T21:04:47",
         109,
         "101/83",
         94
        ],
        [
         59,
         "2015-07-21T12:13:10",
         91,
         "91/84",
         99
        ],
        [
         63,
         "1984-02-25T22:47:31",
         100,
         "138/70",
         95
        ],
        [
         21,
         "2001-09-21T18:00:29",
         86,
         "133/88",
         93
        ],
        [
         51,
         "2014-12-22T09:41:07",
         105,
         "106/83",
         92
        ],
        [
         41,
         "1992-07-18T04:35:33",
         81,
         "113/60",
         99
        ],
        [
         96,
         "1972-08-02T00:05:27",
         102,
         "100/80",
         95
        ],
        [
         72,
         "2000-01-07T19:47:23",
         71,
         "115/73",
         98
        ],
        [
         43,
         "1978-10-16T10:08:04",
         104,
         "116/60",
         96
        ],
        [
         21,
         "2008-04-14T01:36:43",
         88,
         "134/77",
         100
        ],
        [
         85,
         "2014-04-30T14:26:00",
         60,
         "99/64",
         90
        ],
        [
         77,
         "2003-09-27T11:18:23",
         96,
         "116/78",
         95
        ],
        [
         96,
         "1985-09-08T11:29:06",
         84,
         "101/86",
         93
        ],
        [
         43,
         "1988-05-13T00:06:38",
         88,
         "133/89",
         100
        ],
        [
         43,
         "1977-03-20T18:19:18",
         94,
         "106/62",
         91
        ],
        [
         24,
         "1978-04-11T19:11:02",
         118,
         "132/85",
         93
        ],
        [
         96,
         "1987-06-20T04:35:49",
         100,
         "108/60",
         97
        ],
        [
         27,
         "1995-07-24T10:22:48",
         73,
         "101/78",
         94
        ],
        [
         63,
         "2020-02-04T02:47:05",
         89,
         "117/87",
         100
        ],
        [
         35,
         "1987-12-26T05:34:31",
         88,
         "106/82",
         98
        ],
        [
         21,
         "1998-07-06T17:09:04",
         66,
         "104/72",
         96
        ],
        [
         96,
         "2010-08-09T08:29:02",
         107,
         "118/70",
         91
        ],
        [
         41,
         "1974-01-14T05:37:19",
         86,
         "137/62",
         92
        ],
        [
         69,
         "2006-09-06T15:12:58",
         92,
         "137/87",
         95
        ],
        [
         43,
         "2000-08-21T12:04:25",
         92,
         "127/63",
         94
        ],
        [
         28,
         "2023-07-31T12:50:24",
         73,
         "100/66",
         93
        ],
        [
         28,
         "1997-01-03T02:06:35",
         119,
         "128/69",
         91
        ],
        [
         43,
         "2011-06-09T03:53:04",
         83,
         "91/90",
         99
        ],
        [
         72,
         "1978-09-18T01:02:56",
         112,
         "121/76",
         90
        ],
        [
         24,
         "2016-06-07T18:58:45",
         89,
         "100/89",
         96
        ],
        [
         66,
         "2001-02-27T23:55:35",
         63,
         "124/88",
         93
        ],
        [
         27,
         "1983-01-15T15:14:54",
         108,
         "128/67",
         94
        ],
        [
         96,
         "1997-02-03T07:44:40",
         61,
         "135/62",
         96
        ],
        [
         78,
         "2022-08-02T23:56:08",
         68,
         "102/66",
         98
        ],
        [
         30,
         "2020-01-27T06:50:29",
         71,
         "102/78",
         99
        ],
        [
         6,
         "1989-12-08T15:42:16",
         115,
         "112/61",
         91
        ],
        [
         78,
         "2005-05-19T18:37:10",
         65,
         "124/70",
         96
        ],
        [
         66,
         "1985-04-23T08:50:07",
         92,
         "125/80",
         93
        ],
        [
         28,
         "1984-06-13T23:27:01",
         103,
         "117/62",
         97
        ],
        [
         6,
         "1990-04-11T19:58:04",
         70,
         "104/63",
         95
        ],
        [
         35,
         "2011-03-23T01:32:00",
         88,
         "122/62",
         95
        ],
        [
         63,
         "2003-01-10T12:35:19",
         70,
         "110/87",
         95
        ],
        [
         60,
         "2024-09-04T01:29:43",
         99,
         "101/68",
         94
        ],
        [
         24,
         "2014-07-18T12:08:23",
         61,
         "129/72",
         98
        ],
        [
         59,
         "2005-09-08T17:44:10",
         82,
         "123/80",
         100
        ],
        [
         72,
         "2020-05-08T22:51:48",
         74,
         "139/87",
         100
        ],
        [
         59,
         "2011-03-13T05:41:27",
         77,
         "94/88",
         97
        ],
        [
         33,
         "1986-10-19T02:04:00",
         73,
         "140/65",
         100
        ],
        [
         21,
         "2018-05-07T04:31:19",
         76,
         "105/88",
         98
        ],
        [
         78,
         "1987-04-26T05:42:46",
         89,
         "93/71",
         96
        ],
        [
         28,
         "2010-11-21T08:57:28",
         120,
         "140/74",
         99
        ],
        [
         66,
         "2018-04-20T10:59:03",
         72,
         "100/64",
         91
        ],
        [
         78,
         "1974-07-03T16:51:23",
         96,
         "125/85",
         99
        ],
        [
         96,
         "2019-11-13T05:38:14",
         88,
         "140/83",
         90
        ],
        [
         88,
         "1997-06-02T12:15:08",
         120,
         "109/82",
         98
        ],
        [
         21,
         "2023-12-19T20:03:03",
         69,
         "102/66",
         98
        ],
        [
         24,
         "2007-08-25T14:31:16",
         79,
         "116/70",
         100
        ],
        [
         19,
         "2010-12-27T21:00:09",
         78,
         "105/84",
         98
        ],
        [
         35,
         "2013-05-18T02:03:56",
         105,
         "136/70",
         94
        ],
        [
         41,
         "1973-09-01T21:51:20",
         77,
         "107/68",
         94
        ],
        [
         66,
         "2019-12-09T19:58:18",
         98,
         "128/74",
         99
        ],
        [
         43,
         "1982-10-24T08:34:59",
         104,
         "115/82",
         92
        ],
        [
         28,
         "2011-07-27T12:34:56",
         69,
         "93/77",
         93
        ],
        [
         35,
         "2017-01-06T13:17:33",
         103,
         "125/69",
         95
        ],
        [
         27,
         "1988-10-15T09:47:00",
         100,
         "136/85",
         91
        ],
        [
         77,
         "1975-11-05T05:56:14",
         60,
         "116/70",
         92
        ],
        [
         88,
         "1994-01-12T13:31:37",
         98,
         "90/73",
         99
        ],
        [
         19,
         "2010-09-26T18:00:50",
         94,
         "134/70",
         100
        ],
        [
         41,
         "1995-11-22T00:23:45",
         74,
         "90/63",
         94
        ],
        [
         33,
         "2022-04-07T07:14:12",
         84,
         "122/90",
         93
        ],
        [
         33,
         "2024-06-26T04:51:46",
         60,
         "134/72",
         95
        ],
        [
         19,
         "1999-10-22T15:36:49",
         62,
         "131/70",
         91
        ],
        [
         24,
         "2019-12-12T15:18:48",
         116,
         "109/89",
         100
        ],
        [
         60,
         "1984-10-04T09:18:20",
         94,
         "123/89",
         96
        ],
        [
         30,
         "2022-04-17T06:46:33",
         70,
         "98/82",
         92
        ],
        [
         6,
         "1999-02-13T11:03:23",
         68,
         "103/62",
         95
        ],
        [
         51,
         "2018-02-01T05:30:35",
         113,
         "100/73",
         97
        ],
        [
         24,
         "1997-08-20T13:20:44",
         86,
         "109/77",
         91
        ],
        [
         41,
         "1972-11-02T08:41:45",
         68,
         "134/73",
         93
        ],
        [
         78,
         "1999-06-04T00:40:52",
         105,
         "135/70",
         96
        ],
        [
         59,
         "1976-04-16T19:31:28",
         116,
         "137/86",
         95
        ],
        [
         30,
         "1979-07-23T12:40:56",
         60,
         "108/69",
         92
        ],
        [
         78,
         "1995-10-22T15:22:44",
         74,
         "136/84",
         90
        ],
        [
         51,
         "1999-07-06T05:10:46",
         119,
         "118/62",
         97
        ],
        [
         23,
         "1992-07-19T05:54:54",
         92,
         "140/71",
         90
        ],
        [
         63,
         "1973-01-28T17:10:11",
         111,
         "124/70",
         99
        ],
        [
         60,
         "1978-05-12T09:23:59",
         99,
         "138/70",
         100
        ],
        [
         28,
         "1975-02-05T07:43:29",
         69,
         "127/89",
         97
        ],
        [
         23,
         "2012-12-14T00:40:33",
         111,
         "131/73",
         96
        ],
        [
         24,
         "2021-11-10T03:12:11",
         94,
         "93/64",
         91
        ],
        [
         43,
         "2014-03-31T09:32:24",
         86,
         "139/75",
         100
        ],
        [
         85,
         "1980-12-11T11:25:52",
         89,
         "96/66",
         93
        ],
        [
         63,
         "1975-05-30T01:39:52",
         111,
         "105/67",
         95
        ],
        [
         33,
         "2019-04-22T14:45:19",
         94,
         "111/63",
         99
        ],
        [
         51,
         "1992-05-19T08:48:02",
         74,
         "138/65",
         96
        ],
        [
         28,
         "2022-09-28T20:48:43",
         102,
         "136/75",
         93
        ],
        [
         51,
         "2004-05-15T04:14:48",
         79,
         "132/88",
         94
        ],
        [
         78,
         "1999-12-04T12:19:19",
         117,
         "117/63",
         94
        ],
        [
         41,
         "2003-04-10T01:16:15",
         115,
         "118/62",
         92
        ],
        [
         69,
         "1997-04-15T08:20:21",
         99,
         "136/64",
         100
        ],
        [
         63,
         "1985-09-27T12:17:59",
         89,
         "90/69",
         91
        ],
        [
         28,
         "1982-10-08T13:29:05",
         83,
         "102/66",
         93
        ],
        [
         60,
         "2012-06-13T20:52:08",
         60,
         "138/85",
         95
        ],
        [
         27,
         "1999-08-07T07:27:06",
         112,
         "137/83",
         90
        ],
        [
         88,
         "2022-06-30T09:39:24",
         72,
         "119/60",
         90
        ],
        [
         27,
         "1982-12-26T11:15:56",
         81,
         "101/89",
         95
        ],
        [
         21,
         "1977-06-29T04:16:26",
         60,
         "120/89",
         90
        ],
        [
         69,
         "2015-07-14T06:55:58",
         110,
         "109/73",
         90
        ],
        [
         21,
         "2015-01-25T23:08:01",
         90,
         "139/61",
         90
        ],
        [
         77,
         "1980-06-23T06:40:17",
         66,
         "115/67",
         98
        ],
        [
         78,
         "1986-09-29T19:37:12",
         95,
         "116/82",
         90
        ],
        [
         35,
         "2016-04-17T07:57:44",
         103,
         "120/65",
         90
        ],
        [
         96,
         "1975-07-26T07:27:31",
         69,
         "110/72",
         94
        ],
        [
         33,
         "1989-12-14T01:47:19",
         72,
         "111/68",
         97
        ],
        [
         33,
         "2021-05-12T07:36:50",
         83,
         "135/89",
         91
        ],
        [
         63,
         "2006-04-21T15:18:47",
         92,
         "127/65",
         91
        ],
        [
         27,
         "1981-06-14T07:58:41",
         88,
         "105/79",
         90
        ],
        [
         21,
         "2012-02-17T04:11:34",
         110,
         "99/61",
         98
        ],
        [
         51,
         "2017-07-31T00:30:44",
         69,
         "119/69",
         98
        ],
        [
         21,
         "1982-01-11T09:28:50",
         94,
         "130/90",
         92
        ],
        [
         30,
         "1999-09-15T05:54:24",
         105,
         "102/87",
         90
        ],
        [
         63,
         "1999-05-07T12:00:40",
         69,
         "102/85",
         93
        ],
        [
         85,
         "1977-09-05T07:55:55",
         100,
         "104/82",
         98
        ],
        [
         27,
         "1992-09-18T11:41:34",
         65,
         "127/67",
         91
        ],
        [
         24,
         "2003-08-27T02:18:45",
         92,
         "118/86",
         90
        ],
        [
         85,
         "2022-12-12T21:59:08",
         63,
         "115/80",
         100
        ],
        [
         77,
         "1990-12-05T23:32:23",
         101,
         "117/72",
         98
        ],
        [
         69,
         "2024-12-28T20:20:54",
         80,
         "114/81",
         100
        ],
        [
         59,
         "2010-10-06T14:40:06",
         69,
         "102/63",
         95
        ],
        [
         43,
         "2001-04-08T08:44:33",
         79,
         "135/60",
         100
        ],
        [
         33,
         "2012-03-02T21:50:51",
         108,
         "103/78",
         97
        ],
        [
         51,
         "1974-12-29T15:45:37",
         106,
         "112/68",
         96
        ],
        [
         21,
         "1970-09-30T14:01:43",
         110,
         "132/71",
         95
        ],
        [
         35,
         "2002-04-04T12:38:33",
         82,
         "115/60",
         95
        ],
        [
         21,
         "2004-10-29T18:47:33",
         61,
         "91/65",
         100
        ],
        [
         88,
         "2001-05-23T15:51:51",
         74,
         "139/87",
         90
        ],
        [
         6,
         "1983-12-24T22:36:53",
         97,
         "118/77",
         93
        ],
        [
         41,
         "1983-03-21T17:34:13",
         71,
         "124/64",
         93
        ],
        [
         27,
         "1972-01-25T08:26:04",
         84,
         "119/76",
         94
        ],
        [
         85,
         "2016-04-07T16:14:27",
         106,
         "92/89",
         95
        ],
        [
         59,
         "1986-04-26T08:33:58",
         64,
         "94/71",
         100
        ],
        [
         60,
         "2006-07-12T12:20:59",
         85,
         "119/88",
         96
        ],
        [
         69,
         "1985-09-26T07:23:39",
         83,
         "101/72",
         95
        ],
        [
         21,
         "2024-10-01T05:16:48",
         116,
         "100/90",
         90
        ],
        [
         19,
         "2020-08-14T23:00:50",
         79,
         "100/78",
         97
        ],
        [
         23,
         "1976-07-09T06:32:10",
         82,
         "116/71",
         95
        ],
        [
         41,
         "2014-08-30T16:54:35",
         88,
         "137/65",
         99
        ],
        [
         51,
         "2000-05-20T16:32:12",
         118,
         "131/66",
         91
        ],
        [
         78,
         "1978-07-08T11:20:17",
         90,
         "113/65",
         94
        ],
        [
         72,
         "1990-02-27T17:49:51",
         76,
         "116/72",
         95
        ],
        [
         51,
         "2014-08-21T12:58:02",
         103,
         "129/89",
         93
        ],
        [
         85,
         "1992-08-04T00:26:25",
         78,
         "116/82",
         94
        ],
        [
         96,
         "1991-05-28T19:07:36",
         81,
         "134/73",
         99
        ],
        [
         72,
         "1998-09-24T18:27:59",
         111,
         "103/61",
         97
        ],
        [
         72,
         "2004-01-15T23:34:53",
         85,
         "131/73",
         97
        ],
        [
         19,
         "1991-06-01T18:37:41",
         88,
         "119/70",
         94
        ],
        [
         36,
         "2004-02-12T23:09:58",
         92,
         "116/82",
         99
        ],
        [
         43,
         "2002-06-24T11:40:26",
         84,
         "122/73",
         97
        ],
        [
         41,
         "2006-11-05T02:47:28",
         81,
         "129/84",
         97
        ],
        [
         27,
         "2020-04-01T20:19:08",
         111,
         "93/81",
         91
        ],
        [
         66,
         "2021-05-06T22:52:48",
         87,
         "102/64",
         91
        ],
        [
         78,
         "2014-10-07T15:08:53",
         117,
         "119/60",
         100
        ],
        [
         69,
         "2008-01-14T03:27:55",
         102,
         "113/62",
         91
        ],
        [
         6,
         "1990-07-01T23:10:25",
         86,
         "101/69",
         99
        ],
        [
         35,
         "1975-10-10T23:38:06",
         118,
         "118/62",
         100
        ],
        [
         72,
         "2016-04-07T02:29:04",
         108,
         "90/86",
         93
        ],
        [
         24,
         "2018-10-17T06:47:20",
         118,
         "116/66",
         90
        ],
        [
         88,
         "1976-03-15T19:44:10",
         77,
         "101/62",
         96
        ],
        [
         6,
         "2016-09-17T01:18:23",
         84,
         "130/64",
         91
        ],
        [
         72,
         "2022-01-29T09:27:14",
         100,
         "126/84",
         99
        ],
        [
         78,
         "2020-11-29T07:06:39",
         81,
         "108/75",
         94
        ],
        [
         23,
         "1972-05-08T22:11:49",
         115,
         "130/90",
         91
        ],
        [
         35,
         "1978-10-15T14:13:26",
         100,
         "117/87",
         97
        ],
        [
         88,
         "2009-07-03T21:23:00",
         97,
         "130/70",
         92
        ],
        [
         28,
         "1998-06-28T19:41:20",
         115,
         "112/72",
         97
        ],
        [
         85,
         "2014-06-02T22:29:51",
         110,
         "100/79",
         94
        ],
        [
         6,
         "2020-03-01T10:18:52",
         98,
         "115/87",
         94
        ],
        [
         72,
         "2024-04-19T05:32:05",
         87,
         "118/83",
         95
        ],
        [
         72,
         "2008-08-31T19:28:50",
         65,
         "111/88",
         96
        ],
        [
         33,
         "2004-04-25T15:00:17",
         116,
         "107/73",
         95
        ],
        [
         6,
         "1977-12-23T08:50:30",
         62,
         "119/82",
         95
        ],
        [
         30,
         "2001-02-05T19:39:55",
         108,
         "97/61",
         95
        ],
        [
         60,
         "2024-11-04T00:04:57",
         82,
         "121/80",
         91
        ],
        [
         60,
         "1974-04-03T09:06:04",
         74,
         "137/82",
         99
        ],
        [
         30,
         "1975-06-16T08:20:20",
         102,
         "111/85",
         96
        ],
        [
         36,
         "1993-04-01T18:10:59",
         105,
         "93/66",
         98
        ],
        [
         72,
         "1977-12-08T07:02:20",
         100,
         "102/83",
         98
        ],
        [
         36,
         "1985-01-30T14:24:51",
         65,
         "139/86",
         90
        ],
        [
         69,
         "2006-08-22T07:19:22",
         61,
         "111/77",
         90
        ],
        [
         77,
         "2022-03-14T02:25:26",
         118,
         "112/67",
         95
        ],
        [
         63,
         "1995-10-21T23:34:13",
         66,
         "93/79",
         96
        ],
        [
         6,
         "1998-05-12T01:42:07",
         85,
         "96/69",
         93
        ],
        [
         41,
         "1974-05-23T20:25:44",
         107,
         "100/63",
         93
        ],
        [
         88,
         "2010-06-02T07:00:31",
         75,
         "124/73",
         95
        ],
        [
         23,
         "2024-07-08T18:33:41",
         74,
         "107/62",
         91
        ],
        [
         85,
         "1985-10-29T12:31:28",
         118,
         "130/77",
         96
        ],
        [
         88,
         "1999-12-23T21:43:01",
         119,
         "133/71",
         95
        ]
       ],
       "datasetInfos": [],
       "dbfsResultPath": null,
       "isJsonSchema": true,
       "metadata": {},
       "overflow": false,
       "plotOptions": {
        "customPlotOptions": {},
        "displayType": "table",
        "pivotAggregation": null,
        "pivotColumns": null,
        "xColumns": null,
        "yColumns": null
       },
       "removedWidgets": [],
       "schema": [
        {
         "metadata": "{}",
         "name": "patient_id",
         "type": "\"long\""
        },
        {
         "metadata": "{}",
         "name": "timestamp",
         "type": "\"string\""
        },
        {
         "metadata": "{}",
         "name": "heart_rate",
         "type": "\"long\""
        },
        {
         "metadata": "{}",
         "name": "blood_pressure",
         "type": "\"string\""
        },
        {
         "metadata": "{}",
         "name": "oxygen_saturation",
         "type": "\"long\""
        }
       ],
       "type": "table"
      }
     },
     "output_type": "display_data"
    }
   ],
   "source": [
    "df = spark.read.format(\"parquet\").load(\"/mnt/bronze/vitals/kinesis_data\")\n",
    "df.display()"
   ]
  },
  {
   "cell_type": "code",
   "execution_count": 0,
   "metadata": {
    "application/vnd.databricks.v1+cell": {
     "cellMetadata": {
      "byteLimit": 2048000,
      "rowLimit": 10000
     },
     "inputWidgets": {},
     "nuid": "cf4a90dd-6f2b-4262-b20c-0622e3edd4e3",
     "showTitle": false,
     "tableResultSettingsMap": {},
     "title": ""
    }
   },
   "outputs": [],
   "source": [
    "df.write.format(\"delta\").mode(\"overwrite\").saveAsTable(\"fact_vitals\")"
   ]
  },
  {
   "cell_type": "code",
   "execution_count": 0,
   "metadata": {
    "application/vnd.databricks.v1+cell": {
     "cellMetadata": {
      "byteLimit": 2048000,
      "implicitDf": true,
      "rowLimit": 10000
     },
     "inputWidgets": {},
     "nuid": "701d74df-b4ac-4bda-81f3-2258e1ff4711",
     "showTitle": false,
     "tableResultSettingsMap": {},
     "title": ""
    }
   },
   "outputs": [
    {
     "output_type": "display_data",
     "data": {
      "text/html": [
       "<style scoped>\n",
       "  .table-result-container {\n",
       "    max-height: 300px;\n",
       "    overflow: auto;\n",
       "  }\n",
       "  table, th, td {\n",
       "    border: 1px solid black;\n",
       "    border-collapse: collapse;\n",
       "  }\n",
       "  th, td {\n",
       "    padding: 5px;\n",
       "  }\n",
       "  th {\n",
       "    text-align: left;\n",
       "  }\n",
       "</style><div class='table-result-container'><table class='table-result'><thead style='background-color: white'><tr><th>patient_id</th><th>timestamp</th><th>heart_rate</th><th>blood_pressure</th><th>oxygen_saturation</th></tr></thead><tbody><tr><td>19</td><td>1987-04-26T04:09:32</td><td>62</td><td>123/75</td><td>99</td></tr><tr><td>51</td><td>1998-05-11T04:34:27</td><td>117</td><td>130/74</td><td>94</td></tr><tr><td>72</td><td>1977-05-25T06:46:55</td><td>77</td><td>109/74</td><td>98</td></tr><tr><td>60</td><td>2020-12-08T06:58:48</td><td>115</td><td>123/67</td><td>96</td></tr><tr><td>28</td><td>1994-01-25T16:43:54</td><td>60</td><td>133/80</td><td>92</td></tr><tr><td>27</td><td>2010-10-08T21:38:07</td><td>75</td><td>115/82</td><td>95</td></tr><tr><td>19</td><td>2018-03-11T19:05:02</td><td>95</td><td>106/69</td><td>98</td></tr><tr><td>30</td><td>2001-09-23T01:34:14</td><td>83</td><td>119/65</td><td>99</td></tr><tr><td>77</td><td>1991-01-16T12:11:40</td><td>98</td><td>107/89</td><td>94</td></tr><tr><td>51</td><td>2007-09-14T10:07:09</td><td>104</td><td>100/64</td><td>96</td></tr></tbody></table></div>"
      ]
     },
     "metadata": {
      "application/vnd.databricks.v1+output": {
       "addedWidgets": {},
       "aggData": [],
       "aggError": "",
       "aggOverflow": false,
       "aggSchema": [],
       "aggSeriesLimitReached": false,
       "aggType": "",
       "arguments": {},
       "columnCustomDisplayInfos": {},
       "data": [
        [
         19,
         "1987-04-26T04:09:32",
         62,
         "123/75",
         99
        ],
        [
         51,
         "1998-05-11T04:34:27",
         117,
         "130/74",
         94
        ],
        [
         72,
         "1977-05-25T06:46:55",
         77,
         "109/74",
         98
        ],
        [
         60,
         "2020-12-08T06:58:48",
         115,
         "123/67",
         96
        ],
        [
         28,
         "1994-01-25T16:43:54",
         60,
         "133/80",
         92
        ],
        [
         27,
         "2010-10-08T21:38:07",
         75,
         "115/82",
         95
        ],
        [
         19,
         "2018-03-11T19:05:02",
         95,
         "106/69",
         98
        ],
        [
         30,
         "2001-09-23T01:34:14",
         83,
         "119/65",
         99
        ],
        [
         77,
         "1991-01-16T12:11:40",
         98,
         "107/89",
         94
        ],
        [
         51,
         "2007-09-14T10:07:09",
         104,
         "100/64",
         96
        ]
       ],
       "datasetInfos": [],
       "dbfsResultPath": null,
       "isJsonSchema": true,
       "metadata": {},
       "overflow": false,
       "plotOptions": {
        "customPlotOptions": {},
        "displayType": "table",
        "pivotAggregation": null,
        "pivotColumns": null,
        "xColumns": null,
        "yColumns": null
       },
       "removedWidgets": [],
       "schema": [
        {
         "metadata": "{}",
         "name": "patient_id",
         "type": "\"long\""
        },
        {
         "metadata": "{}",
         "name": "timestamp",
         "type": "\"string\""
        },
        {
         "metadata": "{}",
         "name": "heart_rate",
         "type": "\"long\""
        },
        {
         "metadata": "{}",
         "name": "blood_pressure",
         "type": "\"string\""
        },
        {
         "metadata": "{}",
         "name": "oxygen_saturation",
         "type": "\"long\""
        }
       ],
       "type": "table"
      }
     },
     "output_type": "display_data"
    }
   ],
   "source": [
    "%sql\n",
    "SELECT * FROM fact_vitals LIMIT 10;\n"
   ]
  },
  {
   "cell_type": "code",
   "execution_count": 0,
   "metadata": {
    "application/vnd.databricks.v1+cell": {
     "cellMetadata": {
      "byteLimit": 2048000,
      "rowLimit": 10000
     },
     "inputWidgets": {},
     "nuid": "73a12b0f-f500-4ace-912d-8f9679f3300b",
     "showTitle": false,
     "tableResultSettingsMap": {},
     "title": ""
    }
   },
   "outputs": [],
   "source": [
    "# import random\n",
    "# from pyspark.sql.functions import current_date, lit\n",
    "# from faker import Faker\n",
    "\n",
    "# fake = Faker()\n",
    "# patient_ids = [row['patient_id'] for row in df_bronze.select(\"patient_id\").distinct().collect()]\n",
    "\n",
    "# data = []\n",
    "# for pid in patient_ids:\n",
    "#     data.append((pid,\n",
    "#                  fake.name(),\n",
    "#                  random.randint(20, 80),          # age\n",
    "#                  fake.city(),\n",
    "#                  current_date(),                  # start_date\n",
    "#                  None,                            # end_date\n",
    "#                  True))                           # is_current\n",
    "\n",
    "# schema = StructType([\n",
    "#     StructField(\"patient_id\", IntegerType()),\n",
    "#     StructField(\"name\", StringType()),\n",
    "#     StructField(\"age\", IntegerType()),\n",
    "#     StructField(\"city\", StringType()),\n",
    "#     StructField(\"start_date\", DateType()),\n",
    "#     StructField(\"end_date\", DateType()),\n",
    "#     StructField(\"is_current\", BooleanType())\n",
    "# ])\n",
    "\n",
    "# df_dim_patient = spark.createDataFrame(data, schema)\n",
    "# df_dim_patient.write.format(\"delta\").mode(\"overwrite\").saveAsTable(\"dim_patient\")\n"
   ]
  },
  {
   "cell_type": "code",
   "execution_count": 0,
   "metadata": {
    "application/vnd.databricks.v1+cell": {
     "cellMetadata": {
      "byteLimit": 2048000,
      "rowLimit": 10000
     },
     "inputWidgets": {},
     "nuid": "11daf4bb-e5cb-437e-81ed-638e69176bba",
     "showTitle": false,
     "tableResultSettingsMap": {},
     "title": ""
    }
   },
   "outputs": [],
   "source": [
    "df1 = spark.read.format(\"csv\").option(\"header\", \"true\").load(\"dbfs:/FileStore/shared_uploads/mvdixit@ncsu.edu/patients-1.csv\")\n",
    "df2 = spark.read.format(\"csv\").option(\"header\", \"true\").load(\"dbfs:/FileStore/shared_uploads/mvdixit@ncsu.edu/organizations-3.csv\")"
   ]
  },
  {
   "cell_type": "code",
   "execution_count": 0,
   "metadata": {
    "application/vnd.databricks.v1+cell": {
     "cellMetadata": {
      "byteLimit": 2048000,
      "rowLimit": 10000
     },
     "inputWidgets": {},
     "nuid": "d5150d3a-6459-4cea-b222-d3b8be496114",
     "showTitle": false,
     "tableResultSettingsMap": {},
     "title": ""
    }
   },
   "outputs": [],
   "source": [
    "df1.write.format(\"delta\").mode(\"overwrite\").save(\"/mnt/bronze/patients\")\n",
    "df2.write.format(\"delta\").mode(\"overwrite\").save(\"/mnt/bronze/hospitals\")"
   ]
  },
  {
   "cell_type": "code",
   "execution_count": 0,
   "metadata": {
    "application/vnd.databricks.v1+cell": {
     "cellMetadata": {
      "byteLimit": 2048000,
      "rowLimit": 10000
     },
     "inputWidgets": {},
     "nuid": "a3222df0-dbfc-474f-a987-360bd0020532",
     "showTitle": false,
     "tableResultSettingsMap": {},
     "title": ""
    }
   },
   "outputs": [
    {
     "output_type": "stream",
     "name": "stdout",
     "output_type": "stream",
     "text": [
      "root\n |-- Id: string (nullable = true)\n |-- BIRTHDATE: string (nullable = true)\n |-- DEATHDATE: string (nullable = true)\n |-- SSN: string (nullable = true)\n |-- DRIVERS: string (nullable = true)\n |-- PASSPORT: string (nullable = true)\n |-- PREFIX: string (nullable = true)\n |-- FIRST: string (nullable = true)\n |-- MIDDLE: string (nullable = true)\n |-- LAST: string (nullable = true)\n |-- SUFFIX: string (nullable = true)\n |-- MAIDEN: string (nullable = true)\n |-- MARITAL: string (nullable = true)\n |-- RACE: string (nullable = true)\n |-- ETHNICITY: string (nullable = true)\n |-- GENDER: string (nullable = true)\n |-- BIRTHPLACE: string (nullable = true)\n |-- ADDRESS: string (nullable = true)\n |-- CITY: string (nullable = true)\n |-- STATE: string (nullable = true)\n |-- COUNTY: string (nullable = true)\n |-- FIPS: string (nullable = true)\n |-- ZIP: string (nullable = true)\n |-- LAT: string (nullable = true)\n |-- LON: string (nullable = true)\n |-- HEALTHCARE_EXPENSES: string (nullable = true)\n |-- HEALTHCARE_COVERAGE: string (nullable = true)\n |-- INCOME: string (nullable = true)\n\nroot\n |-- Id: string (nullable = true)\n |-- NAME: string (nullable = true)\n |-- ADDRESS: string (nullable = true)\n |-- CITY: string (nullable = true)\n |-- STATE: string (nullable = true)\n |-- ZIP: string (nullable = true)\n |-- LAT: string (nullable = true)\n |-- LON: string (nullable = true)\n |-- PHONE: string (nullable = true)\n |-- REVENUE: string (nullable = true)\n |-- UTILIZATION: string (nullable = true)\n\n"
     ]
    }
   ],
   "source": [
    "df1.printSchema()\n",
    "df2.printSchema()\n"
   ]
  },
  {
   "cell_type": "code",
   "execution_count": 0,
   "metadata": {
    "application/vnd.databricks.v1+cell": {
     "cellMetadata": {
      "byteLimit": 2048000,
      "rowLimit": 10000
     },
     "inputWidgets": {},
     "nuid": "c4cce111-a1b9-48f0-b915-079a18042272",
     "showTitle": false,
     "tableResultSettingsMap": {},
     "title": ""
    }
   },
   "outputs": [
    {
     "output_type": "stream",
     "name": "stdout",
     "output_type": "stream",
     "text": [
      "+--------------------+----------+---------+------------+\n|                  Id| BIRTHDATE|    FIRST|        LAST|\n+--------------------+----------+---------+------------+\n|34a210f9-5ce1-ad6...|1993-11-11|Alexis664|Heathcote539|\n|0fe22cec-1a19-99d...|1987-08-02|Mariel814|     Lang846|\n|b1f7b5a9-5cf5-605...|1989-03-05|Luetta803|  Dickens475|\n|1f2aa6c9-41bd-aa0...|1993-02-02|Kittie678|    Braun514|\n|80e114d1-013b-b54...|1999-10-27|   Jin479|     Ward668|\n+--------------------+----------+---------+------------+\nonly showing top 5 rows\n\n+--------------------+--------------------+--------------------+----------+\n|                  Id|                NAME|             ADDRESS|      CITY|\n+--------------------+--------------------+--------------------+----------+\n|74ab949d-17ac-330...|Fitchburg Outpati...|     881 Main Street| Fitchburg|\n|17a4bae5-8b64-34d...|       NURSE ON CALL|512 MAIN STREET  ...|SHREWSBURY|\n|e09d4c49-c2ef-3b0...|UMASS MEMORIAL HE...|      60 HOSPITAL RD|LEOMINSTER|\n|2936ca90-6594-357...|KINGSBURY PRIMARY...|       11 TREMONT ST|  KINGSTON|\n|ab701a70-a658-340...|CAREWELL URGENT C...|         484 RTE 134| WORCESTER|\n+--------------------+--------------------+--------------------+----------+\nonly showing top 5 rows\n\n"
     ]
    }
   ],
   "source": [
    "df1.select(\"Id\", \"BIRTHDATE\", \"FIRST\", \"LAST\").show(5)\n",
    "df2.select(\"Id\", \"NAME\", \"ADDRESS\", \"CITY\").show(5)\n"
   ]
  },
  {
   "cell_type": "code",
   "execution_count": 0,
   "metadata": {
    "application/vnd.databricks.v1+cell": {
     "cellMetadata": {
      "byteLimit": 2048000,
      "rowLimit": 10000
     },
     "inputWidgets": {},
     "nuid": "940a4e5f-5ea1-462f-bfd6-70266fb0b221",
     "showTitle": false,
     "tableResultSettingsMap": {},
     "title": ""
    }
   },
   "outputs": [],
   "source": [
    "from pyspark.sql.functions import current_date, lit, concat_ws\n",
    "\n",
    "df_dim_patient = (df1\n",
    "    .withColumnRenamed(\"Id\", \"patient_id\")\n",
    "    .withColumn(\"name\", concat_ws(\" \", \"FIRST\", \"LAST\"))\n",
    "    .withColumnRenamed(\"BIRTHDATE\", \"birthdate\")\n",
    "    .withColumnRenamed(\"GENDER\", \"gender\")\n",
    "    .withColumn(\"start_date\", current_date())\n",
    "    .withColumn(\"end_date\", lit(None).cast(\"date\"))\n",
    "    .withColumn(\"is_current\", lit(True))\n",
    "    .select(\"patient_id\", \"name\", \"birthdate\", \"gender\", \"CITY\", \"STATE\", \"INCOME\", \"start_date\", \"end_date\", \"is_current\"))\n"
   ]
  },
  {
   "cell_type": "code",
   "execution_count": 0,
   "metadata": {
    "application/vnd.databricks.v1+cell": {
     "cellMetadata": {
      "byteLimit": 2048000,
      "rowLimit": 10000
     },
     "inputWidgets": {},
     "nuid": "ce0bb3ce-7f63-4f53-b4de-165a36ac2a74",
     "showTitle": false,
     "tableResultSettingsMap": {},
     "title": ""
    }
   },
   "outputs": [],
   "source": [
    "df_dim_hospital = (df2\n",
    "    .withColumnRenamed(\"Id\", \"hospital_id\")\n",
    "    .withColumnRenamed(\"NAME\", \"name\")\n",
    "    .withColumn(\"start_date\", current_date())\n",
    "    .withColumn(\"end_date\", lit(None).cast(\"date\"))\n",
    "    .withColumn(\"is_current\", lit(True))\n",
    "    .select(\"hospital_id\", \"name\", \"CITY\", \"STATE\", \"REVENUE\", \"UTILIZATION\", \"start_date\", \"end_date\", \"is_current\"))\n"
   ]
  },
  {
   "cell_type": "code",
   "execution_count": 0,
   "metadata": {
    "application/vnd.databricks.v1+cell": {
     "cellMetadata": {
      "byteLimit": 2048000,
      "rowLimit": 10000
     },
     "inputWidgets": {},
     "nuid": "a753b393-f341-49a9-ab85-9eba5b3536b3",
     "showTitle": false,
     "tableResultSettingsMap": {},
     "title": ""
    }
   },
   "outputs": [],
   "source": [
    "df_dim_patient.write.format(\"delta\").mode(\"overwrite\").saveAsTable(\"dim_patient\")\n",
    "df_dim_hospital.write.format(\"delta\").mode(\"overwrite\").saveAsTable(\"dim_hospital\")\n"
   ]
  },
  {
   "cell_type": "code",
   "execution_count": 0,
   "metadata": {
    "application/vnd.databricks.v1+cell": {
     "cellMetadata": {
      "byteLimit": 2048000,
      "rowLimit": 10000
     },
     "inputWidgets": {},
     "nuid": "7fdea979-53c8-4309-858e-428c0b4ed76a",
     "showTitle": false,
     "tableResultSettingsMap": {},
     "title": ""
    }
   },
   "outputs": [
    {
     "output_type": "stream",
     "name": "stdout",
     "output_type": "stream",
     "text": [
      "✅ SCD update complete for patient 34a210f9-5ce1-ad63-790f-e404455e3e18\n"
     ]
    }
   ],
   "source": [
    "from pyspark.sql.functions import current_date, lit\n",
    "\n",
    "# Load current dim_patient\n",
    "df_dim = spark.table(\"dim_patient\")\n",
    "\n",
    "# Pick 1 current patient\n",
    "patient_to_update = df_dim.filter(\"is_current = true\").limit(1).collect()[0]['patient_id']\n",
    "\n",
    "# Get only the current version of that patient\n",
    "current_record = df_dim.filter(f\"patient_id = '{patient_to_update}' AND is_current = true\")\n",
    "\n",
    "# ✅ Check if city is already 'New York'\n",
    "current_city = current_record.select(\"CITY\").collect()[0][\"CITY\"]\n",
    "if current_city == \"New York\":\n",
    "    print(f\"Patient {patient_to_update} already in New York — skipping update.\")\n",
    "else:\n",
    "    # 1. Expire old version\n",
    "    df_expired = current_record.withColumn(\"end_date\", current_date()).withColumn(\"is_current\", lit(False))\n",
    "\n",
    "    # 2. Insert new version with updated city\n",
    "    df_new = df_expired.drop(\"end_date\") \\\n",
    "        .withColumn(\"CITY\", lit(\"New York\")) \\\n",
    "        .withColumn(\"start_date\", current_date()) \\\n",
    "        .withColumn(\"end_date\", lit(None).cast(\"date\")) \\\n",
    "        .withColumn(\"is_current\", lit(True))\n",
    "\n",
    "    # 3. Append both to the table\n",
    "    df_final = df_expired.unionByName(df_new)\n",
    "    df_final.write.format(\"delta\").mode(\"append\").saveAsTable(\"dim_patient\")\n",
    "    print(f\"✅ SCD update complete for patient {patient_to_update}\")\n"
   ]
  },
  {
   "cell_type": "code",
   "execution_count": 0,
   "metadata": {
    "application/vnd.databricks.v1+cell": {
     "cellMetadata": {
      "byteLimit": 2048000,
      "implicitDf": true,
      "rowLimit": 10000
     },
     "inputWidgets": {},
     "nuid": "47f573d0-0151-44f6-a9f0-e1e6bf5b3517",
     "showTitle": false,
     "tableResultSettingsMap": {},
     "title": ""
    }
   },
   "outputs": [
    {
     "output_type": "display_data",
     "data": {
      "text/html": [
       "<style scoped>\n",
       "  .table-result-container {\n",
       "    max-height: 300px;\n",
       "    overflow: auto;\n",
       "  }\n",
       "  table, th, td {\n",
       "    border: 1px solid black;\n",
       "    border-collapse: collapse;\n",
       "  }\n",
       "  th, td {\n",
       "    padding: 5px;\n",
       "  }\n",
       "  th {\n",
       "    text-align: left;\n",
       "  }\n",
       "</style><div class='table-result-container'><table class='table-result'><thead style='background-color: white'><tr><th>patient_id</th><th>name</th><th>birthdate</th><th>gender</th><th>CITY</th><th>STATE</th><th>INCOME</th><th>start_date</th><th>end_date</th><th>is_current</th></tr></thead><tbody><tr><td>34a210f9-5ce1-ad63-790f-e404455e3e18</td><td>Alexis664 Heathcote539</td><td>1993-11-11</td><td>M</td><td>New York</td><td>Massachusetts</td><td>71625</td><td>2025-05-20</td><td>null</td><td>true</td></tr><tr><td>34a210f9-5ce1-ad63-790f-e404455e3e18</td><td>Alexis664 Heathcote539</td><td>1993-11-11</td><td>M</td><td>New York</td><td>Massachusetts</td><td>71625</td><td>2025-05-20</td><td>null</td><td>true</td></tr><tr><td>34a210f9-5ce1-ad63-790f-e404455e3e18</td><td>Alexis664 Heathcote539</td><td>1993-11-11</td><td>M</td><td>New York</td><td>Massachusetts</td><td>71625</td><td>2025-05-20</td><td>null</td><td>true</td></tr><tr><td>34a210f9-5ce1-ad63-790f-e404455e3e18</td><td>Alexis664 Heathcote539</td><td>1993-11-11</td><td>M</td><td>New York</td><td>Massachusetts</td><td>71625</td><td>2025-05-20</td><td>null</td><td>true</td></tr><tr><td>34a210f9-5ce1-ad63-790f-e404455e3e18</td><td>Alexis664 Heathcote539</td><td>1993-11-11</td><td>M</td><td>Forestdale</td><td>Massachusetts</td><td>71625</td><td>2025-05-20</td><td>2025-05-20</td><td>false</td></tr><tr><td>34a210f9-5ce1-ad63-790f-e404455e3e18</td><td>Alexis664 Heathcote539</td><td>1993-11-11</td><td>M</td><td>New York</td><td>Massachusetts</td><td>71625</td><td>2025-05-20</td><td>null</td><td>true</td></tr><tr><td>34a210f9-5ce1-ad63-790f-e404455e3e18</td><td>Alexis664 Heathcote539</td><td>1993-11-11</td><td>M</td><td>Forestdale</td><td>Massachusetts</td><td>71625</td><td>2025-05-20</td><td>null</td><td>true</td></tr><tr><td>34a210f9-5ce1-ad63-790f-e404455e3e18</td><td>Alexis664 Heathcote539</td><td>1993-11-11</td><td>M</td><td>Forestdale</td><td>Massachusetts</td><td>71625</td><td>2025-05-20</td><td>2025-05-20</td><td>false</td></tr><tr><td>34a210f9-5ce1-ad63-790f-e404455e3e18</td><td>Alexis664 Heathcote539</td><td>1993-11-11</td><td>M</td><td>New York</td><td>Massachusetts</td><td>71625</td><td>2025-05-20</td><td>2025-05-20</td><td>false</td></tr><tr><td>34a210f9-5ce1-ad63-790f-e404455e3e18</td><td>Alexis664 Heathcote539</td><td>1993-11-11</td><td>M</td><td>Forestdale</td><td>Massachusetts</td><td>71625</td><td>2025-05-20</td><td>2025-05-20</td><td>false</td></tr><tr><td>34a210f9-5ce1-ad63-790f-e404455e3e18</td><td>Alexis664 Heathcote539</td><td>1993-11-11</td><td>M</td><td>New York</td><td>Massachusetts</td><td>71625</td><td>2025-05-20</td><td>null</td><td>true</td></tr><tr><td>34a210f9-5ce1-ad63-790f-e404455e3e18</td><td>Alexis664 Heathcote539</td><td>1993-11-11</td><td>M</td><td>New York</td><td>Massachusetts</td><td>71625</td><td>2025-05-20</td><td>2025-05-20</td><td>false</td></tr><tr><td>34a210f9-5ce1-ad63-790f-e404455e3e18</td><td>Alexis664 Heathcote539</td><td>1993-11-11</td><td>M</td><td>New York</td><td>Massachusetts</td><td>71625</td><td>2025-05-20</td><td>2025-05-20</td><td>false</td></tr><tr><td>34a210f9-5ce1-ad63-790f-e404455e3e18</td><td>Alexis664 Heathcote539</td><td>1993-11-11</td><td>M</td><td>New York</td><td>Massachusetts</td><td>71625</td><td>2025-05-20</td><td>null</td><td>true</td></tr><tr><td>34a210f9-5ce1-ad63-790f-e404455e3e18</td><td>Alexis664 Heathcote539</td><td>1993-11-11</td><td>M</td><td>New York</td><td>Massachusetts</td><td>71625</td><td>2025-05-20</td><td>2025-05-20</td><td>false</td></tr></tbody></table></div>"
      ]
     },
     "metadata": {
      "application/vnd.databricks.v1+output": {
       "addedWidgets": {},
       "aggData": [],
       "aggError": "",
       "aggOverflow": false,
       "aggSchema": [],
       "aggSeriesLimitReached": false,
       "aggType": "",
       "arguments": {},
       "columnCustomDisplayInfos": {},
       "data": [
        [
         "34a210f9-5ce1-ad63-790f-e404455e3e18",
         "Alexis664 Heathcote539",
         "1993-11-11",
         "M",
         "New York",
         "Massachusetts",
         "71625",
         "2025-05-20",
         null,
         true
        ],
        [
         "34a210f9-5ce1-ad63-790f-e404455e3e18",
         "Alexis664 Heathcote539",
         "1993-11-11",
         "M",
         "New York",
         "Massachusetts",
         "71625",
         "2025-05-20",
         null,
         true
        ],
        [
         "34a210f9-5ce1-ad63-790f-e404455e3e18",
         "Alexis664 Heathcote539",
         "1993-11-11",
         "M",
         "New York",
         "Massachusetts",
         "71625",
         "2025-05-20",
         null,
         true
        ],
        [
         "34a210f9-5ce1-ad63-790f-e404455e3e18",
         "Alexis664 Heathcote539",
         "1993-11-11",
         "M",
         "New York",
         "Massachusetts",
         "71625",
         "2025-05-20",
         null,
         true
        ],
        [
         "34a210f9-5ce1-ad63-790f-e404455e3e18",
         "Alexis664 Heathcote539",
         "1993-11-11",
         "M",
         "Forestdale",
         "Massachusetts",
         "71625",
         "2025-05-20",
         "2025-05-20",
         false
        ],
        [
         "34a210f9-5ce1-ad63-790f-e404455e3e18",
         "Alexis664 Heathcote539",
         "1993-11-11",
         "M",
         "New York",
         "Massachusetts",
         "71625",
         "2025-05-20",
         null,
         true
        ],
        [
         "34a210f9-5ce1-ad63-790f-e404455e3e18",
         "Alexis664 Heathcote539",
         "1993-11-11",
         "M",
         "Forestdale",
         "Massachusetts",
         "71625",
         "2025-05-20",
         null,
         true
        ],
        [
         "34a210f9-5ce1-ad63-790f-e404455e3e18",
         "Alexis664 Heathcote539",
         "1993-11-11",
         "M",
         "Forestdale",
         "Massachusetts",
         "71625",
         "2025-05-20",
         "2025-05-20",
         false
        ],
        [
         "34a210f9-5ce1-ad63-790f-e404455e3e18",
         "Alexis664 Heathcote539",
         "1993-11-11",
         "M",
         "New York",
         "Massachusetts",
         "71625",
         "2025-05-20",
         "2025-05-20",
         false
        ],
        [
         "34a210f9-5ce1-ad63-790f-e404455e3e18",
         "Alexis664 Heathcote539",
         "1993-11-11",
         "M",
         "Forestdale",
         "Massachusetts",
         "71625",
         "2025-05-20",
         "2025-05-20",
         false
        ],
        [
         "34a210f9-5ce1-ad63-790f-e404455e3e18",
         "Alexis664 Heathcote539",
         "1993-11-11",
         "M",
         "New York",
         "Massachusetts",
         "71625",
         "2025-05-20",
         null,
         true
        ],
        [
         "34a210f9-5ce1-ad63-790f-e404455e3e18",
         "Alexis664 Heathcote539",
         "1993-11-11",
         "M",
         "New York",
         "Massachusetts",
         "71625",
         "2025-05-20",
         "2025-05-20",
         false
        ],
        [
         "34a210f9-5ce1-ad63-790f-e404455e3e18",
         "Alexis664 Heathcote539",
         "1993-11-11",
         "M",
         "New York",
         "Massachusetts",
         "71625",
         "2025-05-20",
         "2025-05-20",
         false
        ],
        [
         "34a210f9-5ce1-ad63-790f-e404455e3e18",
         "Alexis664 Heathcote539",
         "1993-11-11",
         "M",
         "New York",
         "Massachusetts",
         "71625",
         "2025-05-20",
         null,
         true
        ],
        [
         "34a210f9-5ce1-ad63-790f-e404455e3e18",
         "Alexis664 Heathcote539",
         "1993-11-11",
         "M",
         "New York",
         "Massachusetts",
         "71625",
         "2025-05-20",
         "2025-05-20",
         false
        ]
       ],
       "datasetInfos": [],
       "dbfsResultPath": null,
       "isJsonSchema": true,
       "metadata": {},
       "overflow": false,
       "plotOptions": {
        "customPlotOptions": {},
        "displayType": "table",
        "pivotAggregation": null,
        "pivotColumns": null,
        "xColumns": null,
        "yColumns": null
       },
       "removedWidgets": [],
       "schema": [
        {
         "metadata": "{}",
         "name": "patient_id",
         "type": "\"string\""
        },
        {
         "metadata": "{}",
         "name": "name",
         "type": "\"string\""
        },
        {
         "metadata": "{}",
         "name": "birthdate",
         "type": "\"string\""
        },
        {
         "metadata": "{}",
         "name": "gender",
         "type": "\"string\""
        },
        {
         "metadata": "{}",
         "name": "CITY",
         "type": "\"string\""
        },
        {
         "metadata": "{}",
         "name": "STATE",
         "type": "\"string\""
        },
        {
         "metadata": "{}",
         "name": "INCOME",
         "type": "\"string\""
        },
        {
         "metadata": "{}",
         "name": "start_date",
         "type": "\"date\""
        },
        {
         "metadata": "{}",
         "name": "end_date",
         "type": "\"date\""
        },
        {
         "metadata": "{}",
         "name": "is_current",
         "type": "\"boolean\""
        }
       ],
       "type": "table"
      }
     },
     "output_type": "display_data"
    }
   ],
   "source": [
    "%sql\n",
    "SELECT * FROM dim_patient WHERE patient_id = '34a210f9-5ce1-ad63-790f-e404455e3e18' ORDER BY start_date DESC;\n",
    "\n",
    "\n"
   ]
  },
  {
   "cell_type": "code",
   "execution_count": 0,
   "metadata": {
    "application/vnd.databricks.v1+cell": {
     "cellMetadata": {
      "byteLimit": 2048000,
      "rowLimit": 10000
     },
     "inputWidgets": {},
     "nuid": "16a8764b-9078-45eb-acba-46e4cfb3d83e",
     "showTitle": false,
     "tableResultSettingsMap": {},
     "title": ""
    }
   },
   "outputs": [
    {
     "output_type": "stream",
     "name": "stdout",
     "output_type": "stream",
     "text": [
      "+--------------------+------------+\n|          patient_id|        CITY|\n+--------------------+------------+\n|34a210f9-5ce1-ad6...|  Forestdale|\n|0fe22cec-1a19-99d...|   Cambridge|\n|b1f7b5a9-5cf5-605...|     Walpole|\n|1f2aa6c9-41bd-aa0...|      Quincy|\n|80e114d1-013b-b54...|Williamsburg|\n+--------------------+------------+\nonly showing top 5 rows\n\n"
     ]
    }
   ],
   "source": [
    "spark.table(\"dim_patient\").filter(\"is_current = true\").select(\"patient_id\", \"CITY\").show(5)\n"
   ]
  },
  {
   "cell_type": "code",
   "execution_count": 0,
   "metadata": {
    "application/vnd.databricks.v1+cell": {
     "cellMetadata": {
      "byteLimit": 2048000,
      "rowLimit": 10000
     },
     "inputWidgets": {},
     "nuid": "583eaded-6453-4a67-bd2b-e7d3b9aa4aee",
     "showTitle": false,
     "tableResultSettingsMap": {},
     "title": ""
    }
   },
   "outputs": [],
   "source": [
    "from pyspark.sql.window import Window\n",
    "from pyspark.sql.functions import row_number, col\n",
    "\n",
    "# Load all records\n",
    "df = spark.table(\"dim_patient\")\n",
    "\n",
    "# Deduplicate current records: keep only 1 is_current = true per patient_id + city\n",
    "current_window = Window.partitionBy(\"patient_id\", \"CITY\", \"is_current\").orderBy(col(\"start_date\").desc())\n",
    "df_cleaned = df.withColumn(\"row_num\", row_number().over(current_window)).filter(\"row_num = 1\").drop(\"row_num\")\n",
    "\n",
    "# Optional: Further drop duplicates on exact matching historical records if needed\n",
    "# This just ensures your dimension stays clean\n",
    "df_final = df_cleaned.dropDuplicates([\"patient_id\", \"CITY\", \"start_date\", \"end_date\", \"is_current\"])\n",
    "\n",
    "# Overwrite the table with cleaned data\n",
    "df_final.write.format(\"delta\").mode(\"overwrite\").saveAsTable(\"dim_patient\")\n"
   ]
  },
  {
   "cell_type": "code",
   "execution_count": 0,
   "metadata": {
    "application/vnd.databricks.v1+cell": {
     "cellMetadata": {
      "byteLimit": 2048000,
      "implicitDf": true,
      "rowLimit": 10000
     },
     "inputWidgets": {},
     "nuid": "2b6a91a1-82ea-41a3-b840-b9e390c1880f",
     "showTitle": false,
     "tableResultSettingsMap": {},
     "title": ""
    }
   },
   "outputs": [
    {
     "output_type": "display_data",
     "data": {
      "text/html": [
       "<style scoped>\n",
       "  .table-result-container {\n",
       "    max-height: 300px;\n",
       "    overflow: auto;\n",
       "  }\n",
       "  table, th, td {\n",
       "    border: 1px solid black;\n",
       "    border-collapse: collapse;\n",
       "  }\n",
       "  th, td {\n",
       "    padding: 5px;\n",
       "  }\n",
       "  th {\n",
       "    text-align: left;\n",
       "  }\n",
       "</style><div class='table-result-container'><table class='table-result'><thead style='background-color: white'><tr><th>patient_id</th><th>name</th><th>birthdate</th><th>gender</th><th>CITY</th><th>STATE</th><th>INCOME</th><th>start_date</th><th>end_date</th><th>is_current</th></tr></thead><tbody><tr><td>34a210f9-5ce1-ad63-790f-e404455e3e18</td><td>Alexis664 Heathcote539</td><td>1993-11-11</td><td>M</td><td>Forestdale</td><td>Massachusetts</td><td>71625</td><td>2025-05-20</td><td>2025-05-20</td><td>false</td></tr><tr><td>34a210f9-5ce1-ad63-790f-e404455e3e18</td><td>Alexis664 Heathcote539</td><td>1993-11-11</td><td>M</td><td>New York</td><td>Massachusetts</td><td>71625</td><td>2025-05-20</td><td>2025-05-20</td><td>false</td></tr><tr><td>34a210f9-5ce1-ad63-790f-e404455e3e18</td><td>Alexis664 Heathcote539</td><td>1993-11-11</td><td>M</td><td>Forestdale</td><td>Massachusetts</td><td>71625</td><td>2025-05-20</td><td>null</td><td>true</td></tr><tr><td>34a210f9-5ce1-ad63-790f-e404455e3e18</td><td>Alexis664 Heathcote539</td><td>1993-11-11</td><td>M</td><td>New York</td><td>Massachusetts</td><td>71625</td><td>2025-05-20</td><td>null</td><td>true</td></tr></tbody></table></div>"
      ]
     },
     "metadata": {
      "application/vnd.databricks.v1+output": {
       "addedWidgets": {},
       "aggData": [],
       "aggError": "",
       "aggOverflow": false,
       "aggSchema": [],
       "aggSeriesLimitReached": false,
       "aggType": "",
       "arguments": {},
       "columnCustomDisplayInfos": {},
       "data": [
        [
         "34a210f9-5ce1-ad63-790f-e404455e3e18",
         "Alexis664 Heathcote539",
         "1993-11-11",
         "M",
         "Forestdale",
         "Massachusetts",
         "71625",
         "2025-05-20",
         "2025-05-20",
         false
        ],
        [
         "34a210f9-5ce1-ad63-790f-e404455e3e18",
         "Alexis664 Heathcote539",
         "1993-11-11",
         "M",
         "New York",
         "Massachusetts",
         "71625",
         "2025-05-20",
         "2025-05-20",
         false
        ],
        [
         "34a210f9-5ce1-ad63-790f-e404455e3e18",
         "Alexis664 Heathcote539",
         "1993-11-11",
         "M",
         "Forestdale",
         "Massachusetts",
         "71625",
         "2025-05-20",
         null,
         true
        ],
        [
         "34a210f9-5ce1-ad63-790f-e404455e3e18",
         "Alexis664 Heathcote539",
         "1993-11-11",
         "M",
         "New York",
         "Massachusetts",
         "71625",
         "2025-05-20",
         null,
         true
        ]
       ],
       "datasetInfos": [],
       "dbfsResultPath": null,
       "isJsonSchema": true,
       "metadata": {},
       "overflow": false,
       "plotOptions": {
        "customPlotOptions": {},
        "displayType": "table",
        "pivotAggregation": null,
        "pivotColumns": null,
        "xColumns": null,
        "yColumns": null
       },
       "removedWidgets": [],
       "schema": [
        {
         "metadata": "{}",
         "name": "patient_id",
         "type": "\"string\""
        },
        {
         "metadata": "{}",
         "name": "name",
         "type": "\"string\""
        },
        {
         "metadata": "{}",
         "name": "birthdate",
         "type": "\"string\""
        },
        {
         "metadata": "{}",
         "name": "gender",
         "type": "\"string\""
        },
        {
         "metadata": "{}",
         "name": "CITY",
         "type": "\"string\""
        },
        {
         "metadata": "{}",
         "name": "STATE",
         "type": "\"string\""
        },
        {
         "metadata": "{}",
         "name": "INCOME",
         "type": "\"string\""
        },
        {
         "metadata": "{}",
         "name": "start_date",
         "type": "\"date\""
        },
        {
         "metadata": "{}",
         "name": "end_date",
         "type": "\"date\""
        },
        {
         "metadata": "{}",
         "name": "is_current",
         "type": "\"boolean\""
        }
       ],
       "type": "table"
      }
     },
     "output_type": "display_data"
    }
   ],
   "source": [
    "%sql\n",
    "SELECT * FROM dim_patient \n",
    "WHERE patient_id = '34a210f9-5ce1-ad63-790f-e404455e3e18'\n",
    "ORDER BY start_date DESC;\n"
   ]
  },
  {
   "cell_type": "code",
   "execution_count": 0,
   "metadata": {
    "application/vnd.databricks.v1+cell": {
     "cellMetadata": {
      "byteLimit": 2048000,
      "rowLimit": 10000
     },
     "inputWidgets": {},
     "nuid": "108e11a3-80d9-46f4-bc48-03a03a2a32ef",
     "showTitle": false,
     "tableResultSettingsMap": {},
     "title": ""
    }
   },
   "outputs": [
    {
     "output_type": "stream",
     "name": "stdout",
     "output_type": "stream",
     "text": [
      "+----------+-------------------+----------+----+------+------+\n|patient_id|timestamp          |heart_rate|CITY|gender|INCOME|\n+----------+-------------------+----------+----+------+------+\n|19        |1987-04-26T04:09:32|62        |null|null  |null  |\n|51        |1998-05-11T04:34:27|117       |null|null  |null  |\n|72        |1977-05-25T06:46:55|77        |null|null  |null  |\n|60        |2020-12-08T06:58:48|115       |null|null  |null  |\n|28        |1994-01-25T16:43:54|60        |null|null  |null  |\n|27        |2010-10-08T21:38:07|75        |null|null  |null  |\n|19        |2018-03-11T19:05:02|95        |null|null  |null  |\n|30        |2001-09-23T01:34:14|83        |null|null  |null  |\n|77        |1991-01-16T12:11:40|98        |null|null  |null  |\n|51        |2007-09-14T10:07:09|104       |null|null  |null  |\n+----------+-------------------+----------+----+------+------+\nonly showing top 10 rows\n\n"
     ]
    }
   ],
   "source": [
    "fact_df = spark.table(\"fact_vitals\")\n",
    "dim_patient_df = spark.table(\"dim_patient\").filter(\"is_current = true\")\n",
    "\n",
    "# Perform the join\n",
    "enriched_df = fact_df.join(dim_patient_df, on=\"patient_id\", how=\"left\")\n",
    "\n",
    "# Show the result\n",
    "enriched_df.select(\"patient_id\", \"timestamp\", \"heart_rate\", \"CITY\", \"gender\", \"INCOME\").show(10, truncate=False)\n"
   ]
  },
  {
   "cell_type": "code",
   "execution_count": 0,
   "metadata": {
    "application/vnd.databricks.v1+cell": {
     "cellMetadata": {
      "byteLimit": 2048000,
      "rowLimit": 10000
     },
     "inputWidgets": {},
     "nuid": "b0b14706-426e-46b0-97ef-21196e3bc0f7",
     "showTitle": false,
     "tableResultSettingsMap": {},
     "title": ""
    }
   },
   "outputs": [],
   "source": [
    "enriched_df.write.format(\"delta\").mode(\"overwrite\").saveAsTable(\"fact_vitals_enriched\")\n"
   ]
  },
  {
   "cell_type": "code",
   "execution_count": 0,
   "metadata": {
    "application/vnd.databricks.v1+cell": {
     "cellMetadata": {
      "byteLimit": 2048000,
      "implicitDf": true,
      "rowLimit": 10000
     },
     "inputWidgets": {},
     "nuid": "7f07f074-7785-44f6-9186-2dfb71a10c85",
     "showTitle": false,
     "tableResultSettingsMap": {},
     "title": ""
    }
   },
   "outputs": [
    {
     "output_type": "display_data",
     "data": {
      "text/html": [
       "<style scoped>\n",
       "  .table-result-container {\n",
       "    max-height: 300px;\n",
       "    overflow: auto;\n",
       "  }\n",
       "  table, th, td {\n",
       "    border: 1px solid black;\n",
       "    border-collapse: collapse;\n",
       "  }\n",
       "  th, td {\n",
       "    padding: 5px;\n",
       "  }\n",
       "  th {\n",
       "    text-align: left;\n",
       "  }\n",
       "</style><div class='table-result-container'><table class='table-result'><thead style='background-color: white'><tr><th>patient_id</th><th>timestamp</th><th>heart_rate</th><th>city</th><th>gender</th><th>income</th></tr></thead><tbody><tr><td>19</td><td>1987-04-26T04:09:32</td><td>62</td><td>null</td><td>null</td><td>null</td></tr><tr><td>51</td><td>1998-05-11T04:34:27</td><td>117</td><td>null</td><td>null</td><td>null</td></tr><tr><td>72</td><td>1977-05-25T06:46:55</td><td>77</td><td>null</td><td>null</td><td>null</td></tr><tr><td>60</td><td>2020-12-08T06:58:48</td><td>115</td><td>null</td><td>null</td><td>null</td></tr><tr><td>28</td><td>1994-01-25T16:43:54</td><td>60</td><td>null</td><td>null</td><td>null</td></tr><tr><td>27</td><td>2010-10-08T21:38:07</td><td>75</td><td>null</td><td>null</td><td>null</td></tr><tr><td>19</td><td>2018-03-11T19:05:02</td><td>95</td><td>null</td><td>null</td><td>null</td></tr><tr><td>30</td><td>2001-09-23T01:34:14</td><td>83</td><td>null</td><td>null</td><td>null</td></tr><tr><td>77</td><td>1991-01-16T12:11:40</td><td>98</td><td>null</td><td>null</td><td>null</td></tr><tr><td>51</td><td>2007-09-14T10:07:09</td><td>104</td><td>null</td><td>null</td><td>null</td></tr></tbody></table></div>"
      ]
     },
     "metadata": {
      "application/vnd.databricks.v1+output": {
       "addedWidgets": {},
       "aggData": [],
       "aggError": "",
       "aggOverflow": false,
       "aggSchema": [],
       "aggSeriesLimitReached": false,
       "aggType": "",
       "arguments": {},
       "columnCustomDisplayInfos": {},
       "data": [
        [
         19,
         "1987-04-26T04:09:32",
         62,
         null,
         null,
         null
        ],
        [
         51,
         "1998-05-11T04:34:27",
         117,
         null,
         null,
         null
        ],
        [
         72,
         "1977-05-25T06:46:55",
         77,
         null,
         null,
         null
        ],
        [
         60,
         "2020-12-08T06:58:48",
         115,
         null,
         null,
         null
        ],
        [
         28,
         "1994-01-25T16:43:54",
         60,
         null,
         null,
         null
        ],
        [
         27,
         "2010-10-08T21:38:07",
         75,
         null,
         null,
         null
        ],
        [
         19,
         "2018-03-11T19:05:02",
         95,
         null,
         null,
         null
        ],
        [
         30,
         "2001-09-23T01:34:14",
         83,
         null,
         null,
         null
        ],
        [
         77,
         "1991-01-16T12:11:40",
         98,
         null,
         null,
         null
        ],
        [
         51,
         "2007-09-14T10:07:09",
         104,
         null,
         null,
         null
        ]
       ],
       "datasetInfos": [],
       "dbfsResultPath": null,
       "isJsonSchema": true,
       "metadata": {},
       "overflow": false,
       "plotOptions": {
        "customPlotOptions": {},
        "displayType": "table",
        "pivotAggregation": null,
        "pivotColumns": null,
        "xColumns": null,
        "yColumns": null
       },
       "removedWidgets": [],
       "schema": [
        {
         "metadata": "{}",
         "name": "patient_id",
         "type": "\"long\""
        },
        {
         "metadata": "{}",
         "name": "timestamp",
         "type": "\"string\""
        },
        {
         "metadata": "{}",
         "name": "heart_rate",
         "type": "\"long\""
        },
        {
         "metadata": "{}",
         "name": "city",
         "type": "\"string\""
        },
        {
         "metadata": "{}",
         "name": "gender",
         "type": "\"string\""
        },
        {
         "metadata": "{}",
         "name": "income",
         "type": "\"string\""
        }
       ],
       "type": "table"
      }
     },
     "output_type": "display_data"
    }
   ],
   "source": [
    "%sql\n",
    "SELECT patient_id, timestamp, heart_rate, city, gender, income\n",
    "FROM fact_vitals_enriched\n",
    "LIMIT 10;\n"
   ]
  },
  {
   "cell_type": "code",
   "execution_count": 0,
   "metadata": {
    "application/vnd.databricks.v1+cell": {
     "cellMetadata": {
      "byteLimit": 2048000,
      "rowLimit": 10000
     },
     "inputWidgets": {},
     "nuid": "61e08707-bcf5-4837-8f1a-a0b07a79ebae",
     "showTitle": false,
     "tableResultSettingsMap": {},
     "title": ""
    }
   },
   "outputs": [],
   "source": [
    "from pyspark.sql.functions import expr, when\n",
    "\n",
    "fact_df = spark.table(\"fact_vitals\")\n",
    "\n",
    "# Add a synthetic hospital_id to each patient\n",
    "fact_df = fact_df.withColumn(\"hospital_id\", when(fact_df[\"patient_id\"].isNotNull(), expr(\"concat('HOSP', cast(rand()*3 + 1 as int))\")))\n",
    "\n",
    "fact_df.write.format(\"delta\").mode(\"overwrite\").saveAsTable(\"fact_vitals_with_hospital\")\n",
    "\n"
   ]
  },
  {
   "cell_type": "code",
   "execution_count": 0,
   "metadata": {
    "application/vnd.databricks.v1+cell": {
     "cellMetadata": {
      "byteLimit": 2048000,
      "rowLimit": 10000
     },
     "inputWidgets": {},
     "nuid": "cf6537c8-0334-4a35-ba6f-d9eaa3981cbe",
     "showTitle": false,
     "tableResultSettingsMap": {},
     "title": ""
    }
   },
   "outputs": [],
   "source": [
    "from pyspark.sql.functions import avg, count, max\n",
    "\n",
    "df_enriched = spark.table(\"fact_vitals_enriched\")\n",
    "\n",
    "df_gold = df_enriched.groupBy(\"patient_id\") \\\n",
    "    .agg(\n",
    "        count(\"*\").alias(\"reading_count\"),\n",
    "        avg(\"heart_rate\").alias(\"avg_heart_rate\"),\n",
    "        max(\"timestamp\").alias(\"last_seen\"),\n",
    "        max(\"CITY\").alias(\"latest_city\")\n",
    "    )\n",
    "\n",
    "df_gold.write.format(\"delta\").mode(\"overwrite\").saveAsTable(\"gold_patient_kpis\")\n"
   ]
  },
  {
   "cell_type": "code",
   "execution_count": 0,
   "metadata": {
    "application/vnd.databricks.v1+cell": {
     "cellMetadata": {
      "byteLimit": 2048000,
      "implicitDf": true,
      "rowLimit": 10000
     },
     "inputWidgets": {},
     "nuid": "97c59432-b36f-48ec-9b0f-784a3eabb7b9",
     "showTitle": false,
     "tableResultSettingsMap": {},
     "title": ""
    }
   },
   "outputs": [
    {
     "output_type": "display_data",
     "data": {
      "text/html": [
       "<style scoped>\n",
       "  .table-result-container {\n",
       "    max-height: 300px;\n",
       "    overflow: auto;\n",
       "  }\n",
       "  table, th, td {\n",
       "    border: 1px solid black;\n",
       "    border-collapse: collapse;\n",
       "  }\n",
       "  th, td {\n",
       "    padding: 5px;\n",
       "  }\n",
       "  th {\n",
       "    text-align: left;\n",
       "  }\n",
       "</style><div class='table-result-container'><table class='table-result'><thead style='background-color: white'><tr><th>patient_id</th><th>reading_count</th><th>avg_heart_rate</th><th>last_seen</th><th>latest_city</th></tr></thead><tbody><tr><td>21</td><td>37</td><td>92.10810810810811</td><td>2025-05-16T19:56:28</td><td>null</td></tr><tr><td>72</td><td>35</td><td>89.82857142857142</td><td>2024-04-19T05:32:05</td><td>null</td></tr><tr><td>88</td><td>33</td><td>87.42424242424242</td><td>2024-12-09T09:02:21</td><td>null</td></tr><tr><td>27</td><td>32</td><td>92.375</td><td>2025-05-02T10:10:52</td><td>null</td></tr><tr><td>60</td><td>32</td><td>90.59375</td><td>2024-11-04T00:04:57</td><td>null</td></tr><tr><td>6</td><td>31</td><td>85.48387096774194</td><td>2024-01-03T08:06:29</td><td>null</td></tr><tr><td>24</td><td>31</td><td>94.54838709677419</td><td>2025-04-11T22:49:34</td><td>null</td></tr><tr><td>77</td><td>31</td><td>87.12903225806451</td><td>2025-04-08T16:03:32</td><td>null</td></tr><tr><td>51</td><td>31</td><td>92.09677419354838</td><td>2022-04-24T02:15:07</td><td>null</td></tr><tr><td>78</td><td>31</td><td>91.87096774193549</td><td>2022-08-02T23:56:08</td><td>null</td></tr></tbody></table></div>"
      ]
     },
     "metadata": {
      "application/vnd.databricks.v1+output": {
       "addedWidgets": {},
       "aggData": [],
       "aggError": "",
       "aggOverflow": false,
       "aggSchema": [],
       "aggSeriesLimitReached": false,
       "aggType": "",
       "arguments": {},
       "columnCustomDisplayInfos": {},
       "data": [
        [
         21,
         37,
         92.10810810810811,
         "2025-05-16T19:56:28",
         null
        ],
        [
         72,
         35,
         89.82857142857142,
         "2024-04-19T05:32:05",
         null
        ],
        [
         88,
         33,
         87.42424242424242,
         "2024-12-09T09:02:21",
         null
        ],
        [
         27,
         32,
         92.375,
         "2025-05-02T10:10:52",
         null
        ],
        [
         60,
         32,
         90.59375,
         "2024-11-04T00:04:57",
         null
        ],
        [
         6,
         31,
         85.48387096774194,
         "2024-01-03T08:06:29",
         null
        ],
        [
         24,
         31,
         94.54838709677419,
         "2025-04-11T22:49:34",
         null
        ],
        [
         77,
         31,
         87.12903225806451,
         "2025-04-08T16:03:32",
         null
        ],
        [
         51,
         31,
         92.09677419354838,
         "2022-04-24T02:15:07",
         null
        ],
        [
         78,
         31,
         91.87096774193549,
         "2022-08-02T23:56:08",
         null
        ]
       ],
       "datasetInfos": [],
       "dbfsResultPath": null,
       "isJsonSchema": true,
       "metadata": {},
       "overflow": false,
       "plotOptions": {
        "customPlotOptions": {},
        "displayType": "table",
        "pivotAggregation": null,
        "pivotColumns": null,
        "xColumns": null,
        "yColumns": null
       },
       "removedWidgets": [],
       "schema": [
        {
         "metadata": "{}",
         "name": "patient_id",
         "type": "\"long\""
        },
        {
         "metadata": "{}",
         "name": "reading_count",
         "type": "\"long\""
        },
        {
         "metadata": "{}",
         "name": "avg_heart_rate",
         "type": "\"double\""
        },
        {
         "metadata": "{}",
         "name": "last_seen",
         "type": "\"string\""
        },
        {
         "metadata": "{}",
         "name": "latest_city",
         "type": "\"string\""
        }
       ],
       "type": "table"
      }
     },
     "output_type": "display_data"
    }
   ],
   "source": [
    "%sql\n",
    "SELECT * FROM gold_patient_kpis ORDER BY reading_count DESC LIMIT 10;\n"
   ]
  },
  {
   "cell_type": "code",
   "execution_count": 0,
   "metadata": {
    "application/vnd.databricks.v1+cell": {
     "cellMetadata": {
      "byteLimit": 2048000,
      "rowLimit": 10000
     },
     "inputWidgets": {},
     "nuid": "10fdd07a-1fcc-453e-a2d9-1b97760423a9",
     "showTitle": false,
     "tableResultSettingsMap": {},
     "title": ""
    }
   },
   "outputs": [],
   "source": [
    "fact_df = spark.table(\"fact_vitals_with_hospital\")\n",
    "dim_patient_df = spark.table(\"dim_patient\").filter(\"is_current = true\")\n",
    "\n",
    "fact_vitals_enriched = fact_df.join(dim_patient_df, on=\"patient_id\", how=\"left\")\n",
    "\n",
    "fact_vitals_enriched.write \\\n",
    "    .format(\"delta\") \\\n",
    "    .option(\"mergeSchema\", \"true\") \\\n",
    "    .mode(\"overwrite\") \\\n",
    "    .saveAsTable(\"fact_vitals_enriched\")\n",
    "\n"
   ]
  },
  {
   "cell_type": "code",
   "execution_count": 0,
   "metadata": {
    "application/vnd.databricks.v1+cell": {
     "cellMetadata": {
      "byteLimit": 2048000,
      "rowLimit": 10000
     },
     "inputWidgets": {},
     "nuid": "1ed951d8-2e28-4ff1-9b18-1bb572141ea4",
     "showTitle": false,
     "tableResultSettingsMap": {},
     "title": ""
    }
   },
   "outputs": [],
   "source": [
    "from pyspark.sql.functions import countDistinct\n",
    "\n",
    "hospitals_df = spark.table(\"fact_vitals_enriched\") \\\n",
    "    .groupBy(\"patient_id\") \\\n",
    "    .agg(countDistinct(\"hospital_id\").alias(\"hospitals_visited\"))\n"
   ]
  },
  {
   "cell_type": "code",
   "execution_count": 0,
   "metadata": {
    "application/vnd.databricks.v1+cell": {
     "cellMetadata": {
      "byteLimit": 2048000,
      "rowLimit": 10000
     },
     "inputWidgets": {},
     "nuid": "0792a609-8aba-421f-a929-c4d66ece06a7",
     "showTitle": false,
     "tableResultSettingsMap": {},
     "title": ""
    }
   },
   "outputs": [],
   "source": [
    "from pyspark.sql.functions import split, col\n",
    "\n",
    "df_bp = spark.table(\"fact_vitals_enriched\") \\\n",
    "    .withColumn(\"systolic\", split(col(\"blood_pressure\"), \"/\").getItem(0).cast(\"int\")) \\\n",
    "    .withColumn(\"diastolic\", split(col(\"blood_pressure\"), \"/\").getItem(1).cast(\"int\")) \\\n",
    "    .withColumn(\"is_abnormal_bp\", (col(\"systolic\") > 140) | (col(\"diastolic\") > 90))\n",
    "\n",
    "bp_abnormal_df = df_bp.groupBy(\"patient_id\") \\\n",
    "    .agg(expr(\"sum(CAST(is_abnormal_bp AS INT))\").alias(\"bp_abnormal_count\"))\n"
   ]
  },
  {
   "cell_type": "code",
   "execution_count": 0,
   "metadata": {
    "application/vnd.databricks.v1+cell": {
     "cellMetadata": {
      "byteLimit": 2048000,
      "rowLimit": 10000
     },
     "inputWidgets": {},
     "nuid": "04f6fabe-f04d-4089-ab82-9d37d60b6715",
     "showTitle": false,
     "tableResultSettingsMap": {},
     "title": ""
    }
   },
   "outputs": [],
   "source": [
    "from pyspark.sql.window import Window\n",
    "from pyspark.sql.functions import lag, when\n",
    "\n",
    "df_dim = spark.table(\"dim_patient\").orderBy(\"start_date\")\n",
    "window = Window.partitionBy(\"patient_id\").orderBy(\"start_date\")\n",
    "\n",
    "df_cities = df_dim.withColumn(\"prev_city\", lag(\"CITY\").over(window))\n",
    "df_cities = df_cities.withColumn(\"city_changed\", when(col(\"CITY\") != col(\"prev_city\"), 1).otherwise(0))\n",
    "\n",
    "city_transitions_df = df_cities.groupBy(\"patient_id\") \\\n",
    "    .agg(expr(\"sum(city_changed)\").alias(\"city_change_count\"))\n"
   ]
  },
  {
   "cell_type": "code",
   "execution_count": 0,
   "metadata": {
    "application/vnd.databricks.v1+cell": {
     "cellMetadata": {
      "byteLimit": 2048000,
      "rowLimit": 10000
     },
     "inputWidgets": {},
     "nuid": "9c3f9126-b75c-4375-bc8e-bcae4ca21b40",
     "showTitle": false,
     "tableResultSettingsMap": {},
     "title": ""
    }
   },
   "outputs": [],
   "source": [
    "from pyspark.sql.functions import avg, count, max, when\n",
    "\n",
    "base_df = spark.table(\"fact_vitals_enriched\")\n",
    "\n",
    "summary_df = base_df.groupBy(\"patient_id\") \\\n",
    "    .agg(\n",
    "        count(\"*\").alias(\"reading_count\"),\n",
    "        avg(\"heart_rate\").alias(\"avg_heart_rate\"),\n",
    "        max(\"timestamp\").alias(\"last_seen\"),\n",
    "        max(\"CITY\").alias(\"latest_city\")\n",
    "    )\n",
    "\n",
    "# Join all KPIs together\n",
    "kpi_df = (summary_df\n",
    "    .join(hospitals_df, \"patient_id\", \"left\")\n",
    "    .join(bp_abnormal_df, \"patient_id\", \"left\")\n",
    "    .join(city_transitions_df, \"patient_id\", \"left\")\n",
    "    .fillna(0))\n",
    "\n",
    "# Add high risk flag\n",
    "kpi_df = kpi_df.withColumn(\n",
    "    \"is_high_risk_patient\",\n",
    "    when((col(\"avg_heart_rate\") > 100) | (col(\"bp_abnormal_count\") >= 3), True).otherwise(False)\n",
    ")\n",
    "\n",
    "# Save final gold table\n",
    "kpi_df.write \\\n",
    "    .format(\"delta\") \\\n",
    "    .option(\"mergeSchema\", \"true\") \\\n",
    "    .mode(\"overwrite\") \\\n",
    "    .saveAsTable(\"gold_patient_kpis\")\n"
   ]
  },
  {
   "cell_type": "code",
   "execution_count": 0,
   "metadata": {
    "application/vnd.databricks.v1+cell": {
     "cellMetadata": {
      "byteLimit": 2048000,
      "implicitDf": true,
      "rowLimit": 10000
     },
     "inputWidgets": {},
     "nuid": "f2c365ff-9262-4e2c-aed2-9e9068c28ad8",
     "showTitle": false,
     "tableResultSettingsMap": {},
     "title": ""
    }
   },
   "outputs": [
    {
     "output_type": "display_data",
     "data": {
      "text/html": [
       "<style scoped>\n",
       "  .table-result-container {\n",
       "    max-height: 300px;\n",
       "    overflow: auto;\n",
       "  }\n",
       "  table, th, td {\n",
       "    border: 1px solid black;\n",
       "    border-collapse: collapse;\n",
       "  }\n",
       "  th, td {\n",
       "    padding: 5px;\n",
       "  }\n",
       "  th {\n",
       "    text-align: left;\n",
       "  }\n",
       "</style><div class='table-result-container'><table class='table-result'><thead style='background-color: white'><tr><th>patient_id</th><th>reading_count</th><th>avg_heart_rate</th><th>last_seen</th><th>latest_city</th><th>hospitals_visited</th><th>bp_abnormal_count</th><th>city_change_count</th><th>is_high_risk_patient</th></tr></thead><tbody><tr><td>43</td><td>27</td><td>95.33333333333333</td><td>2024-11-23T18:05:32</td><td>null</td><td>3</td><td>0</td><td>0</td><td>false</td></tr><tr><td>24</td><td>31</td><td>94.54838709677419</td><td>2025-04-11T22:49:34</td><td>null</td><td>3</td><td>0</td><td>0</td><td>false</td></tr><tr><td>35</td><td>28</td><td>93.03571428571429</td><td>2024-01-24T05:51:18</td><td>null</td><td>3</td><td>0</td><td>0</td><td>false</td></tr><tr><td>28</td><td>29</td><td>92.65517241379311</td><td>2023-07-31T12:50:24</td><td>null</td><td>3</td><td>0</td><td>0</td><td>false</td></tr><tr><td>27</td><td>32</td><td>92.375</td><td>2025-05-02T10:10:52</td><td>null</td><td>3</td><td>0</td><td>0</td><td>false</td></tr><tr><td>36</td><td>14</td><td>92.21428571428571</td><td>2023-02-27T16:39:35</td><td>null</td><td>3</td><td>0</td><td>0</td><td>false</td></tr><tr><td>21</td><td>37</td><td>92.10810810810811</td><td>2025-05-16T19:56:28</td><td>null</td><td>3</td><td>0</td><td>0</td><td>false</td></tr><tr><td>51</td><td>31</td><td>92.09677419354838</td><td>2022-04-24T02:15:07</td><td>null</td><td>3</td><td>0</td><td>0</td><td>false</td></tr><tr><td>78</td><td>31</td><td>91.87096774193549</td><td>2022-08-02T23:56:08</td><td>null</td><td>3</td><td>0</td><td>0</td><td>false</td></tr><tr><td>30</td><td>17</td><td>91.47058823529412</td><td>2022-04-17T06:46:33</td><td>null</td><td>3</td><td>0</td><td>0</td><td>false</td></tr></tbody></table></div>"
      ]
     },
     "metadata": {
      "application/vnd.databricks.v1+output": {
       "addedWidgets": {},
       "aggData": [],
       "aggError": "",
       "aggOverflow": false,
       "aggSchema": [],
       "aggSeriesLimitReached": false,
       "aggType": "",
       "arguments": {},
       "columnCustomDisplayInfos": {},
       "data": [
        [
         43,
         27,
         95.33333333333333,
         "2024-11-23T18:05:32",
         null,
         3,
         0,
         0,
         false
        ],
        [
         24,
         31,
         94.54838709677419,
         "2025-04-11T22:49:34",
         null,
         3,
         0,
         0,
         false
        ],
        [
         35,
         28,
         93.03571428571429,
         "2024-01-24T05:51:18",
         null,
         3,
         0,
         0,
         false
        ],
        [
         28,
         29,
         92.65517241379311,
         "2023-07-31T12:50:24",
         null,
         3,
         0,
         0,
         false
        ],
        [
         27,
         32,
         92.375,
         "2025-05-02T10:10:52",
         null,
         3,
         0,
         0,
         false
        ],
        [
         36,
         14,
         92.21428571428571,
         "2023-02-27T16:39:35",
         null,
         3,
         0,
         0,
         false
        ],
        [
         21,
         37,
         92.10810810810811,
         "2025-05-16T19:56:28",
         null,
         3,
         0,
         0,
         false
        ],
        [
         51,
         31,
         92.09677419354838,
         "2022-04-24T02:15:07",
         null,
         3,
         0,
         0,
         false
        ],
        [
         78,
         31,
         91.87096774193549,
         "2022-08-02T23:56:08",
         null,
         3,
         0,
         0,
         false
        ],
        [
         30,
         17,
         91.47058823529412,
         "2022-04-17T06:46:33",
         null,
         3,
         0,
         0,
         false
        ]
       ],
       "datasetInfos": [],
       "dbfsResultPath": null,
       "isJsonSchema": true,
       "metadata": {},
       "overflow": false,
       "plotOptions": {
        "customPlotOptions": {},
        "displayType": "table",
        "pivotAggregation": null,
        "pivotColumns": null,
        "xColumns": null,
        "yColumns": null
       },
       "removedWidgets": [],
       "schema": [
        {
         "metadata": "{}",
         "name": "patient_id",
         "type": "\"long\""
        },
        {
         "metadata": "{}",
         "name": "reading_count",
         "type": "\"long\""
        },
        {
         "metadata": "{}",
         "name": "avg_heart_rate",
         "type": "\"double\""
        },
        {
         "metadata": "{}",
         "name": "last_seen",
         "type": "\"string\""
        },
        {
         "metadata": "{}",
         "name": "latest_city",
         "type": "\"string\""
        },
        {
         "metadata": "{}",
         "name": "hospitals_visited",
         "type": "\"long\""
        },
        {
         "metadata": "{}",
         "name": "bp_abnormal_count",
         "type": "\"long\""
        },
        {
         "metadata": "{}",
         "name": "city_change_count",
         "type": "\"long\""
        },
        {
         "metadata": "{}",
         "name": "is_high_risk_patient",
         "type": "\"boolean\""
        }
       ],
       "type": "table"
      }
     },
     "output_type": "display_data"
    }
   ],
   "source": [
    "%sql\n",
    "SELECT * FROM gold_patient_kpis ORDER BY avg_heart_rate DESC LIMIT 10;\n"
   ]
  },
  {
   "cell_type": "code",
   "execution_count": 0,
   "metadata": {
    "application/vnd.databricks.v1+cell": {
     "cellMetadata": {
      "byteLimit": 2048000,
      "rowLimit": 10000
     },
     "inputWidgets": {},
     "nuid": "dc1c990d-8e3e-4583-9536-3bc16365ffed",
     "showTitle": false,
     "tableResultSettingsMap": {},
     "title": ""
    }
   },
   "outputs": [
    {
     "output_type": "display_data",
     "data": {
      "image/png": "[encoded data removed]"
     },
     "metadata": {
      "application/vnd.databricks.v1+output": {
       "addedWidgets": {},
       "arguments": {},
       "data": "data:image/png;base64,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\n",
       "datasetInfos": [],
       "metadata": {},
       "removedWidgets": [],
       "type": "image"
      }
     },
     "output_type": "display_data"
    }
   ],
   "source": [
    "df = spark.table(\"gold_patient_kpis\").toPandas()\n",
    "\n",
    "# Optional: filter to high risk\n",
    "df_high_risk = df[df[\"is_high_risk_patient\"] == True]\n",
    "\n",
    "# Plot top 10 avg heart rates\n",
    "import matplotlib.pyplot as plt\n",
    "\n",
    "top10 = df.sort_values(\"avg_heart_rate\", ascending=False).head(10)\n",
    "plt.figure(figsize=(10,5))\n",
    "plt.bar(top10[\"patient_id\"], top10[\"avg_heart_rate\"])\n",
    "plt.xticks(rotation=90)\n",
    "plt.title(\"Top 10 Patients by Avg Heart Rate\")\n",
    "plt.ylabel(\"Average Heart Rate\")\n",
    "plt.show()\n"
   ]
  },
  {
   "cell_type": "code",
   "execution_count": 0,
   "metadata": {
    "application/vnd.databricks.v1+cell": {
     "cellMetadata": {
      "byteLimit": 2048000,
      "rowLimit": 10000
     },
     "inputWidgets": {},
     "nuid": "c73f6e62-5456-4bb1-9ed6-8ea284876c73",
     "showTitle": false,
     "tableResultSettingsMap": {},
     "title": ""
    }
   },
   "outputs": [
    {
     "output_type": "stream",
     "name": "stdout",
     "output_type": "stream",
     "text": [
      "patient_id,reading_count,avg_heart_rate,last_seen,latest_city,hospitals_visited,bp_abnormal_count,city_change_count,is_high_risk_patient\n6,31,85.48387096774194,2024-01-03T08:06:29,,3,0,0,False\n19,24,85.58333333333333,2023-03-02T03:02:28,,3,0,0,False\n21,37,92.10810810810811,2025-05-16T19:56:28,,3,0,0,False\n23,21,90.80952380952381,2024-07-08T18:33:41,,3,0,0,False\n24,31,94.54838709677419,2025-04-11T22:49:34,,3,0,0,False\n27,32,92.375,2025-05-02T10:10:52,,3,0,0,False\n28,29,92.65517241379311,2023-07-31T12:50:24,,3,0,0,False\n30,17,91.47058823529412,2022-04-17T06:46:33,,3,0,0,False\n33,29,87.89655172413794,2024-06-26T04:51:46,,3,0,0,False\n35,28,93.03571428571429,2024-01-24T05:51:18,,3,0,0,False\n36,14,92.21428571428571,2023-02-27T16:39:35,,3,0,0,False\n41,30,85.56666666666666,2024-10-08T16:39:18,,3,0,0,False\n43,27,95.33333333333333,2024-11-23T18:05:32,,3,0,0,False\n51,31,92.09677419354838,2022-04-24T02:15:07,,3,0,0,False\n59,23,87.6086956521739,2022-11-17T19:44:56,,3,0,0,False\n60,32,90.59375,2024-11-04T00:04:57,,3,0,0,False\n63,25,87.04,2024-07-08T22:16:07,,3,0,0,False\n66,29,85.93103448275862,2022-03-26T02:09:35,,3,0,0,False\n69,27,84.77777777777777,2024-12-28T20:20:54,,3,0,0,False\n72,35,89.82857142857142,2024-04-19T05:32:05,,3,0,0,False\n77,31,87.12903225806451,2025-04-08T16:03:32,,3,0,0,False\n78,31,91.87096774193549,2022-08-02T23:56:08,,3,0,0,False\n85,25,91.24,2025-05-17T14:34:40,,3,0,0,False\n88,33,87.42424242424242,2024-12-09T09:02:21,,3,0,0,False\n96,28,89.46428571428571,2025-03-15T11:17:31,,3,0,0,False\n\n"
     ]
    }
   ],
   "source": [
    "df = spark.table(\"gold_patient_kpis\").toPandas()\n",
    "csv_text = df.to_csv(index=False)\n",
    "\n",
    "# Display CSV content as downloadable plain text\n",
    "print(csv_text)\n"
   ]
  },
  {
   "cell_type": "code",
   "execution_count": 0,
   "metadata": {
    "application/vnd.databricks.v1+cell": {
     "cellMetadata": {},
     "inputWidgets": {},
     "nuid": "89a6e2c5-bec7-450e-9e06-d2f85384868a",
     "showTitle": false,
     "tableResultSettingsMap": {},
     "title": ""
    }
   },
   "outputs": [],
   "source": []
  }
 ],
 "metadata": {
  "application/vnd.databricks.v1+notebook": {
   "computePreferences": null,
   "dashboards": [],
   "environmentMetadata": {
    "base_environment": "",
    "environment_version": "1"
   },
   "inputWidgetPreferences": null,
   "language": "python",
   "notebookMetadata": {
    "mostRecentlyExecutedCommandWithImplicitDF": {
     "commandId": 2113017335306191,
     "dataframes": [
      "_sqldf"
     ]
    },
    "pythonIndentUnit": 4
   },
   "notebookName": "carePulse",
   "widgets": {}
  }
 },
 "nbformat": 4,
 "nbformat_minor": 0
}
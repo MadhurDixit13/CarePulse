{
 "cells": [
  {
   "cell_type": "code",
   "execution_count": 0,
   "metadata": {
    "application/vnd.databricks.v1+cell": {
     "cellMetadata": {
      "byteLimit": 2048000,
      "rowLimit": 10000
     },
     "inputWidgets": {},
     "nuid": "a046fca1-db45-4396-9885-9568427ae92a",
     "showTitle": false,
     "tableResultSettingsMap": {},
     "title": ""
    }
   },
   "outputs": [
    {
     "output_type": "stream",
     "name": "stdout",
     "output_type": "stream",
     "text": [
      "Out[14]: <pyspark.sql.streaming.query.StreamingQuery at 0x7fa6c2b28a60>"
     ]
    }
   ],
   "source": [
    "from pyspark.sql.types import *\n",
    "from pyspark.sql.functions import from_json, col\n",
    "\n",
    "schema = StructType([\n",
    "    StructField(\"patient_id\", IntegerType()),\n",
    "    StructField(\"timestamp\", StringType()),\n",
    "    StructField(\"heart_rate\", IntegerType()),\n",
    "    StructField(\"blood_pressure\", StringType()),\n",
    "    StructField(\"oxygen_saturation\", IntegerType())\n",
    "])\n",
    "\n",
    "# Read simulated stream from TCP socket\n",
    "raw_df = (spark.readStream\n",
    "    .format(\"socket\")\n",
    "    .option(\"host\", \"localhost\")\n",
    "    .option(\"port\", 9999)\n",
    "    .load())\n",
    "\n",
    "# Parse JSON lines\n",
    "parsed_df = (raw_df\n",
    "    .select(from_json(col(\"value\"), schema).alias(\"data\"))\n",
    "    .select(\"data.*\"))\n",
    "\n",
    "# Write to console (or Delta)\n",
    "(parsed_df.writeStream\n",
    "    .outputMode(\"append\")\n",
    "    .format(\"console\")\n",
    "    .option(\"truncate\", False)\n",
    "    .trigger(processingTime=\"5 seconds\")  # every 5 seconds\n",
    "    .start())\n",
    "\n",
    "\n"
   ]
  },
  {
   "cell_type": "code",
   "execution_count": 0,
   "metadata": {
    "application/vnd.databricks.v1+cell": {
     "cellMetadata": {},
     "inputWidgets": {},
     "nuid": "bb8bb2b6-aef6-4a67-adf3-e79607415e42",
     "showTitle": false,
     "tableResultSettingsMap": {},
     "title": ""
    }
   },
   "outputs": [],
   "source": []
  }
 ],
 "metadata": {
  "application/vnd.databricks.v1+notebook": {
   "computePreferences": null,
   "dashboards": [],
   "environmentMetadata": {
    "base_environment": "",
    "environment_version": "1"
   },
   "inputWidgetPreferences": null,
   "language": "python",
   "notebookMetadata": {
    "pythonIndentUnit": 4
   },
   "notebookName": "carePulse",
   "widgets": {}
  }
 },
 "nbformat": 4,
 "nbformat_minor": 0
}